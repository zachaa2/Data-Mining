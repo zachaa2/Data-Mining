{
 "cells": [
  {
   "cell_type": "markdown",
   "id": "7021e5ae",
   "metadata": {},
   "source": [
    "# Importing Dependancies"
   ]
  },
  {
   "cell_type": "code",
   "execution_count": 1,
   "id": "ff041c6d",
   "metadata": {},
   "outputs": [],
   "source": [
    "import numpy as np\n",
    "import pandas as pd\n",
    "import warnings\n",
    "from sklearn.preprocessing import StandardScaler\n",
    "warnings.filterwarnings(\"ignore\")"
   ]
  },
  {
   "cell_type": "markdown",
   "id": "a8ad44e0",
   "metadata": {},
   "source": [
    "# Read in Dataset"
   ]
  },
  {
   "cell_type": "code",
   "execution_count": 2,
   "id": "cee89110",
   "metadata": {},
   "outputs": [
    {
     "name": "stdout",
     "output_type": "stream",
     "text": [
      "<class 'pandas.core.frame.DataFrame'>\n",
      "RangeIndex: 39644 entries, 0 to 39643\n",
      "Data columns (total 61 columns):\n",
      " #   Column                          Non-Null Count  Dtype  \n",
      "---  ------                          --------------  -----  \n",
      " 0   url                             39644 non-null  object \n",
      " 1    timedelta                      39644 non-null  float64\n",
      " 2    n_tokens_title                 39644 non-null  float64\n",
      " 3    n_tokens_content               39644 non-null  float64\n",
      " 4    n_unique_tokens                39644 non-null  float64\n",
      " 5    n_non_stop_words               39644 non-null  float64\n",
      " 6    n_non_stop_unique_tokens       39644 non-null  float64\n",
      " 7    num_hrefs                      39644 non-null  float64\n",
      " 8    num_self_hrefs                 39644 non-null  float64\n",
      " 9    num_imgs                       39644 non-null  float64\n",
      " 10   num_videos                     39644 non-null  float64\n",
      " 11   average_token_length           39644 non-null  float64\n",
      " 12   num_keywords                   39644 non-null  float64\n",
      " 13   data_channel_is_lifestyle      39644 non-null  float64\n",
      " 14   data_channel_is_entertainment  39644 non-null  float64\n",
      " 15   data_channel_is_bus            39644 non-null  float64\n",
      " 16   data_channel_is_socmed         39644 non-null  float64\n",
      " 17   data_channel_is_tech           39644 non-null  float64\n",
      " 18   data_channel_is_world          39644 non-null  float64\n",
      " 19   kw_min_min                     39644 non-null  float64\n",
      " 20   kw_max_min                     39644 non-null  float64\n",
      " 21   kw_avg_min                     39644 non-null  float64\n",
      " 22   kw_min_max                     39644 non-null  float64\n",
      " 23   kw_max_max                     39644 non-null  float64\n",
      " 24   kw_avg_max                     39644 non-null  float64\n",
      " 25   kw_min_avg                     39644 non-null  float64\n",
      " 26   kw_max_avg                     39644 non-null  float64\n",
      " 27   kw_avg_avg                     39644 non-null  float64\n",
      " 28   self_reference_min_shares      39644 non-null  float64\n",
      " 29   self_reference_max_shares      39644 non-null  float64\n",
      " 30   self_reference_avg_sharess     39644 non-null  float64\n",
      " 31   weekday_is_monday              39644 non-null  float64\n",
      " 32   weekday_is_tuesday             39644 non-null  float64\n",
      " 33   weekday_is_wednesday           39644 non-null  float64\n",
      " 34   weekday_is_thursday            39644 non-null  float64\n",
      " 35   weekday_is_friday              39644 non-null  float64\n",
      " 36   weekday_is_saturday            39644 non-null  float64\n",
      " 37   weekday_is_sunday              39644 non-null  float64\n",
      " 38   is_weekend                     39644 non-null  float64\n",
      " 39   LDA_00                         39644 non-null  float64\n",
      " 40   LDA_01                         39644 non-null  float64\n",
      " 41   LDA_02                         39644 non-null  float64\n",
      " 42   LDA_03                         39644 non-null  float64\n",
      " 43   LDA_04                         39644 non-null  float64\n",
      " 44   global_subjectivity            39644 non-null  float64\n",
      " 45   global_sentiment_polarity      39644 non-null  float64\n",
      " 46   global_rate_positive_words     39644 non-null  float64\n",
      " 47   global_rate_negative_words     39644 non-null  float64\n",
      " 48   rate_positive_words            39644 non-null  float64\n",
      " 49   rate_negative_words            39644 non-null  float64\n",
      " 50   avg_positive_polarity          39644 non-null  float64\n",
      " 51   min_positive_polarity          39644 non-null  float64\n",
      " 52   max_positive_polarity          39644 non-null  float64\n",
      " 53   avg_negative_polarity          39644 non-null  float64\n",
      " 54   min_negative_polarity          39644 non-null  float64\n",
      " 55   max_negative_polarity          39644 non-null  float64\n",
      " 56   title_subjectivity             39644 non-null  float64\n",
      " 57   title_sentiment_polarity       39644 non-null  float64\n",
      " 58   abs_title_subjectivity         39644 non-null  float64\n",
      " 59   abs_title_sentiment_polarity   39644 non-null  float64\n",
      " 60   shares                         39644 non-null  int64  \n",
      "dtypes: float64(59), int64(1), object(1)\n",
      "memory usage: 18.5+ MB\n"
     ]
    }
   ],
   "source": [
    "# read data into dataframe\n",
    "df = pd.read_csv(\"./OnlineNewsPopularity.csv\")\n",
    "df.info()"
   ]
  },
  {
   "cell_type": "markdown",
   "id": "faa2c149",
   "metadata": {},
   "source": [
    "# Preprocessing"
   ]
  },
  {
   "cell_type": "markdown",
   "id": "1d3e58f5",
   "metadata": {},
   "source": [
    "### Split into data and target labels"
   ]
  },
  {
   "cell_type": "code",
   "execution_count": 3,
   "id": "4aa97fd3",
   "metadata": {},
   "outputs": [],
   "source": [
    "y = df.iloc[:, 60]\n",
    "x = df.iloc[:, 0:60]"
   ]
  },
  {
   "cell_type": "code",
   "execution_count": 4,
   "id": "1814e544",
   "metadata": {},
   "outputs": [
    {
     "name": "stdout",
     "output_type": "stream",
     "text": [
      "<class 'pandas.core.frame.DataFrame'>\n",
      "RangeIndex: 39644 entries, 0 to 39643\n",
      "Data columns (total 60 columns):\n",
      " #   Column                          Non-Null Count  Dtype  \n",
      "---  ------                          --------------  -----  \n",
      " 0   url                             39644 non-null  object \n",
      " 1    timedelta                      39644 non-null  float64\n",
      " 2    n_tokens_title                 39644 non-null  float64\n",
      " 3    n_tokens_content               39644 non-null  float64\n",
      " 4    n_unique_tokens                39644 non-null  float64\n",
      " 5    n_non_stop_words               39644 non-null  float64\n",
      " 6    n_non_stop_unique_tokens       39644 non-null  float64\n",
      " 7    num_hrefs                      39644 non-null  float64\n",
      " 8    num_self_hrefs                 39644 non-null  float64\n",
      " 9    num_imgs                       39644 non-null  float64\n",
      " 10   num_videos                     39644 non-null  float64\n",
      " 11   average_token_length           39644 non-null  float64\n",
      " 12   num_keywords                   39644 non-null  float64\n",
      " 13   data_channel_is_lifestyle      39644 non-null  float64\n",
      " 14   data_channel_is_entertainment  39644 non-null  float64\n",
      " 15   data_channel_is_bus            39644 non-null  float64\n",
      " 16   data_channel_is_socmed         39644 non-null  float64\n",
      " 17   data_channel_is_tech           39644 non-null  float64\n",
      " 18   data_channel_is_world          39644 non-null  float64\n",
      " 19   kw_min_min                     39644 non-null  float64\n",
      " 20   kw_max_min                     39644 non-null  float64\n",
      " 21   kw_avg_min                     39644 non-null  float64\n",
      " 22   kw_min_max                     39644 non-null  float64\n",
      " 23   kw_max_max                     39644 non-null  float64\n",
      " 24   kw_avg_max                     39644 non-null  float64\n",
      " 25   kw_min_avg                     39644 non-null  float64\n",
      " 26   kw_max_avg                     39644 non-null  float64\n",
      " 27   kw_avg_avg                     39644 non-null  float64\n",
      " 28   self_reference_min_shares      39644 non-null  float64\n",
      " 29   self_reference_max_shares      39644 non-null  float64\n",
      " 30   self_reference_avg_sharess     39644 non-null  float64\n",
      " 31   weekday_is_monday              39644 non-null  float64\n",
      " 32   weekday_is_tuesday             39644 non-null  float64\n",
      " 33   weekday_is_wednesday           39644 non-null  float64\n",
      " 34   weekday_is_thursday            39644 non-null  float64\n",
      " 35   weekday_is_friday              39644 non-null  float64\n",
      " 36   weekday_is_saturday            39644 non-null  float64\n",
      " 37   weekday_is_sunday              39644 non-null  float64\n",
      " 38   is_weekend                     39644 non-null  float64\n",
      " 39   LDA_00                         39644 non-null  float64\n",
      " 40   LDA_01                         39644 non-null  float64\n",
      " 41   LDA_02                         39644 non-null  float64\n",
      " 42   LDA_03                         39644 non-null  float64\n",
      " 43   LDA_04                         39644 non-null  float64\n",
      " 44   global_subjectivity            39644 non-null  float64\n",
      " 45   global_sentiment_polarity      39644 non-null  float64\n",
      " 46   global_rate_positive_words     39644 non-null  float64\n",
      " 47   global_rate_negative_words     39644 non-null  float64\n",
      " 48   rate_positive_words            39644 non-null  float64\n",
      " 49   rate_negative_words            39644 non-null  float64\n",
      " 50   avg_positive_polarity          39644 non-null  float64\n",
      " 51   min_positive_polarity          39644 non-null  float64\n",
      " 52   max_positive_polarity          39644 non-null  float64\n",
      " 53   avg_negative_polarity          39644 non-null  float64\n",
      " 54   min_negative_polarity          39644 non-null  float64\n",
      " 55   max_negative_polarity          39644 non-null  float64\n",
      " 56   title_subjectivity             39644 non-null  float64\n",
      " 57   title_sentiment_polarity       39644 non-null  float64\n",
      " 58   abs_title_subjectivity         39644 non-null  float64\n",
      " 59   abs_title_sentiment_polarity   39644 non-null  float64\n",
      "dtypes: float64(59), object(1)\n",
      "memory usage: 18.1+ MB\n"
     ]
    }
   ],
   "source": [
    "x.info()"
   ]
  },
  {
   "cell_type": "code",
   "execution_count": null,
   "id": "9284aa02",
   "metadata": {},
   "outputs": [],
   "source": []
  },
  {
   "cell_type": "markdown",
   "id": "acb64eea",
   "metadata": {},
   "source": [
    "### Drop Unused Features"
   ]
  },
  {
   "cell_type": "code",
   "execution_count": 5,
   "id": "7cf99fd6",
   "metadata": {},
   "outputs": [
    {
     "data": {
      "text/html": [
       "<div>\n",
       "<style scoped>\n",
       "    .dataframe tbody tr th:only-of-type {\n",
       "        vertical-align: middle;\n",
       "    }\n",
       "\n",
       "    .dataframe tbody tr th {\n",
       "        vertical-align: top;\n",
       "    }\n",
       "\n",
       "    .dataframe thead th {\n",
       "        text-align: right;\n",
       "    }\n",
       "</style>\n",
       "<table border=\"1\" class=\"dataframe\">\n",
       "  <thead>\n",
       "    <tr style=\"text-align: right;\">\n",
       "      <th></th>\n",
       "      <th>n_tokens_title</th>\n",
       "      <th>n_tokens_content</th>\n",
       "      <th>num_hrefs</th>\n",
       "      <th>num_self_hrefs</th>\n",
       "      <th>num_imgs</th>\n",
       "      <th>num_videos</th>\n",
       "      <th>average_token_length</th>\n",
       "      <th>num_keywords</th>\n",
       "      <th>LDA_00</th>\n",
       "      <th>LDA_01</th>\n",
       "      <th>...</th>\n",
       "      <th>avg_positive_polarity</th>\n",
       "      <th>min_positive_polarity</th>\n",
       "      <th>max_positive_polarity</th>\n",
       "      <th>avg_negative_polarity</th>\n",
       "      <th>min_negative_polarity</th>\n",
       "      <th>max_negative_polarity</th>\n",
       "      <th>title_subjectivity</th>\n",
       "      <th>title_sentiment_polarity</th>\n",
       "      <th>abs_title_subjectivity</th>\n",
       "      <th>abs_title_sentiment_polarity</th>\n",
       "    </tr>\n",
       "  </thead>\n",
       "  <tbody>\n",
       "    <tr>\n",
       "      <th>0</th>\n",
       "      <td>12.0</td>\n",
       "      <td>219.0</td>\n",
       "      <td>4.0</td>\n",
       "      <td>2.0</td>\n",
       "      <td>1.0</td>\n",
       "      <td>0.0</td>\n",
       "      <td>4.680365</td>\n",
       "      <td>5.0</td>\n",
       "      <td>0.500331</td>\n",
       "      <td>0.378279</td>\n",
       "      <td>...</td>\n",
       "      <td>0.378636</td>\n",
       "      <td>0.100000</td>\n",
       "      <td>0.7</td>\n",
       "      <td>-0.350000</td>\n",
       "      <td>-0.600</td>\n",
       "      <td>-0.200000</td>\n",
       "      <td>0.500000</td>\n",
       "      <td>-0.187500</td>\n",
       "      <td>0.000000</td>\n",
       "      <td>0.187500</td>\n",
       "    </tr>\n",
       "    <tr>\n",
       "      <th>1</th>\n",
       "      <td>9.0</td>\n",
       "      <td>255.0</td>\n",
       "      <td>3.0</td>\n",
       "      <td>1.0</td>\n",
       "      <td>1.0</td>\n",
       "      <td>0.0</td>\n",
       "      <td>4.913725</td>\n",
       "      <td>4.0</td>\n",
       "      <td>0.799756</td>\n",
       "      <td>0.050047</td>\n",
       "      <td>...</td>\n",
       "      <td>0.286915</td>\n",
       "      <td>0.033333</td>\n",
       "      <td>0.7</td>\n",
       "      <td>-0.118750</td>\n",
       "      <td>-0.125</td>\n",
       "      <td>-0.100000</td>\n",
       "      <td>0.000000</td>\n",
       "      <td>0.000000</td>\n",
       "      <td>0.500000</td>\n",
       "      <td>0.000000</td>\n",
       "    </tr>\n",
       "    <tr>\n",
       "      <th>2</th>\n",
       "      <td>9.0</td>\n",
       "      <td>211.0</td>\n",
       "      <td>3.0</td>\n",
       "      <td>1.0</td>\n",
       "      <td>1.0</td>\n",
       "      <td>0.0</td>\n",
       "      <td>4.393365</td>\n",
       "      <td>6.0</td>\n",
       "      <td>0.217792</td>\n",
       "      <td>0.033334</td>\n",
       "      <td>...</td>\n",
       "      <td>0.495833</td>\n",
       "      <td>0.100000</td>\n",
       "      <td>1.0</td>\n",
       "      <td>-0.466667</td>\n",
       "      <td>-0.800</td>\n",
       "      <td>-0.133333</td>\n",
       "      <td>0.000000</td>\n",
       "      <td>0.000000</td>\n",
       "      <td>0.500000</td>\n",
       "      <td>0.000000</td>\n",
       "    </tr>\n",
       "    <tr>\n",
       "      <th>3</th>\n",
       "      <td>9.0</td>\n",
       "      <td>531.0</td>\n",
       "      <td>9.0</td>\n",
       "      <td>0.0</td>\n",
       "      <td>1.0</td>\n",
       "      <td>0.0</td>\n",
       "      <td>4.404896</td>\n",
       "      <td>7.0</td>\n",
       "      <td>0.028573</td>\n",
       "      <td>0.419300</td>\n",
       "      <td>...</td>\n",
       "      <td>0.385965</td>\n",
       "      <td>0.136364</td>\n",
       "      <td>0.8</td>\n",
       "      <td>-0.369697</td>\n",
       "      <td>-0.600</td>\n",
       "      <td>-0.166667</td>\n",
       "      <td>0.000000</td>\n",
       "      <td>0.000000</td>\n",
       "      <td>0.500000</td>\n",
       "      <td>0.000000</td>\n",
       "    </tr>\n",
       "    <tr>\n",
       "      <th>4</th>\n",
       "      <td>13.0</td>\n",
       "      <td>1072.0</td>\n",
       "      <td>19.0</td>\n",
       "      <td>19.0</td>\n",
       "      <td>20.0</td>\n",
       "      <td>0.0</td>\n",
       "      <td>4.682836</td>\n",
       "      <td>7.0</td>\n",
       "      <td>0.028633</td>\n",
       "      <td>0.028794</td>\n",
       "      <td>...</td>\n",
       "      <td>0.411127</td>\n",
       "      <td>0.033333</td>\n",
       "      <td>1.0</td>\n",
       "      <td>-0.220192</td>\n",
       "      <td>-0.500</td>\n",
       "      <td>-0.050000</td>\n",
       "      <td>0.454545</td>\n",
       "      <td>0.136364</td>\n",
       "      <td>0.045455</td>\n",
       "      <td>0.136364</td>\n",
       "    </tr>\n",
       "  </tbody>\n",
       "</table>\n",
       "<p>5 rows × 29 columns</p>\n",
       "</div>"
      ],
      "text/plain": [
       "    n_tokens_title   n_tokens_content   num_hrefs   num_self_hrefs   num_imgs  \\\n",
       "0             12.0              219.0         4.0              2.0        1.0   \n",
       "1              9.0              255.0         3.0              1.0        1.0   \n",
       "2              9.0              211.0         3.0              1.0        1.0   \n",
       "3              9.0              531.0         9.0              0.0        1.0   \n",
       "4             13.0             1072.0        19.0             19.0       20.0   \n",
       "\n",
       "    num_videos   average_token_length   num_keywords    LDA_00    LDA_01  ...  \\\n",
       "0          0.0               4.680365            5.0  0.500331  0.378279  ...   \n",
       "1          0.0               4.913725            4.0  0.799756  0.050047  ...   \n",
       "2          0.0               4.393365            6.0  0.217792  0.033334  ...   \n",
       "3          0.0               4.404896            7.0  0.028573  0.419300  ...   \n",
       "4          0.0               4.682836            7.0  0.028633  0.028794  ...   \n",
       "\n",
       "    avg_positive_polarity   min_positive_polarity   max_positive_polarity  \\\n",
       "0                0.378636                0.100000                     0.7   \n",
       "1                0.286915                0.033333                     0.7   \n",
       "2                0.495833                0.100000                     1.0   \n",
       "3                0.385965                0.136364                     0.8   \n",
       "4                0.411127                0.033333                     1.0   \n",
       "\n",
       "    avg_negative_polarity   min_negative_polarity   max_negative_polarity  \\\n",
       "0               -0.350000                  -0.600               -0.200000   \n",
       "1               -0.118750                  -0.125               -0.100000   \n",
       "2               -0.466667                  -0.800               -0.133333   \n",
       "3               -0.369697                  -0.600               -0.166667   \n",
       "4               -0.220192                  -0.500               -0.050000   \n",
       "\n",
       "    title_subjectivity   title_sentiment_polarity   abs_title_subjectivity  \\\n",
       "0             0.500000                  -0.187500                 0.000000   \n",
       "1             0.000000                   0.000000                 0.500000   \n",
       "2             0.000000                   0.000000                 0.500000   \n",
       "3             0.000000                   0.000000                 0.500000   \n",
       "4             0.454545                   0.136364                 0.045455   \n",
       "\n",
       "    abs_title_sentiment_polarity  \n",
       "0                       0.187500  \n",
       "1                       0.000000  \n",
       "2                       0.000000  \n",
       "3                       0.000000  \n",
       "4                       0.136364  \n",
       "\n",
       "[5 rows x 29 columns]"
      ]
     },
     "execution_count": 5,
     "metadata": {},
     "output_type": "execute_result"
    }
   ],
   "source": [
    "# drop unused features\n",
    "vals = [0, 1, 4, 5, 6]\n",
    "for i in range(13, 39):\n",
    "    vals.append(i)\n",
    "\n",
    "x = x.drop(x.columns[vals], axis = 1)\n",
    "x.head()"
   ]
  },
  {
   "cell_type": "markdown",
   "id": "8e38a7e1",
   "metadata": {},
   "source": [
    "### Shuffle Data"
   ]
  },
  {
   "cell_type": "code",
   "execution_count": 6,
   "id": "1f91cea9",
   "metadata": {},
   "outputs": [],
   "source": [
    "np.random.seed(42)"
   ]
  },
  {
   "cell_type": "code",
   "execution_count": 7,
   "id": "00806677",
   "metadata": {},
   "outputs": [],
   "source": [
    "x = x.to_numpy()\n",
    "y = y.to_numpy()"
   ]
  },
  {
   "cell_type": "code",
   "execution_count": 8,
   "id": "3cc50bb7",
   "metadata": {},
   "outputs": [],
   "source": [
    "arr = np.arange(len(df))\n",
    "np.random.shuffle(arr)\n",
    "x = x[arr]\n",
    "y = y[arr]"
   ]
  },
  {
   "cell_type": "markdown",
   "id": "26f2342a",
   "metadata": {},
   "source": [
    "### Split data"
   ]
  },
  {
   "cell_type": "code",
   "execution_count": 9,
   "id": "424cc40b",
   "metadata": {},
   "outputs": [],
   "source": [
    "x_train = x[:31715]\n",
    "y_train = y[:31715]\n",
    "x_val = x[31715:35679]\n",
    "y_val = y[31715:35679]\n",
    "x_test = x[35679:39644]\n",
    "y_test = y[35679:39644]"
   ]
  },
  {
   "cell_type": "markdown",
   "id": "8da519bc",
   "metadata": {},
   "source": [
    "### Standardize Data"
   ]
  },
  {
   "cell_type": "code",
   "execution_count": 10,
   "id": "27da3456",
   "metadata": {},
   "outputs": [],
   "source": [
    "# first save the training mean and std\n",
    "training_mean = np.mean(x_train, axis=0)\n",
    "training_std = np.std(x_train, axis=0)\n",
    "\n",
    "# first standardize the training data\n",
    "scaler = StandardScaler()\n",
    "scaler.fit(x_train)\n",
    "x_train = scaler.transform(x_train)"
   ]
  },
  {
   "cell_type": "code",
   "execution_count": 11,
   "id": "a1b0759b",
   "metadata": {},
   "outputs": [],
   "source": [
    "# standardize the test and validation data using training mean and std\n",
    "x_test = (x_test - training_mean) / training_std\n",
    "x_val = (x_val - training_mean) / training_std"
   ]
  },
  {
   "cell_type": "markdown",
   "id": "4c5f1407",
   "metadata": {},
   "source": [
    "# Augment data"
   ]
  },
  {
   "cell_type": "code",
   "execution_count": 12,
   "id": "003693e2",
   "metadata": {},
   "outputs": [],
   "source": [
    "# finally, augment data using a 1's column\n",
    "ones_train = np.ones((len(x_train), 1))\n",
    "ones_test = np.ones((len(x_test), 1))\n",
    "ones_val = np.ones((len(x_val), 1))"
   ]
  },
  {
   "cell_type": "code",
   "execution_count": 13,
   "id": "e585985d",
   "metadata": {},
   "outputs": [],
   "source": [
    "x_train = np.hstack((ones_train, x_train))\n",
    "x_test = np.hstack((ones_test, x_test))\n",
    "x_val = np.hstack((ones_val, x_val))"
   ]
  },
  {
   "cell_type": "markdown",
   "id": "fc424ebc",
   "metadata": {},
   "source": [
    "# Part1: Linear Regression using QR Factorization"
   ]
  },
  {
   "cell_type": "markdown",
   "id": "46213396",
   "metadata": {},
   "source": [
    "### First get the Q matrix"
   ]
  },
  {
   "cell_type": "code",
   "execution_count": 14,
   "id": "0aa1b425",
   "metadata": {},
   "outputs": [],
   "source": [
    "Q = []\n",
    "cols = x_train.shape[1]\n",
    "for i in range(cols):\n",
    "    # get initial u\n",
    "    u = x_train[:, i]\n",
    "    # iteratively subtract projections \n",
    "    for j in range(i):\n",
    "        proj = np.dot(x_train[:, i], Q[j]) / np.dot(Q[j], Q[j])\n",
    "        prod = proj * Q[j]\n",
    "        u = u - prod\n",
    "    Q.append(u)\n",
    "\n",
    "\n",
    "# turn it into a numpy object\n",
    "Q = np.array(Q)\n",
    "# transpose it so that the computed vectors are now column vectors\n",
    "Q = Q.T"
   ]
  },
  {
   "cell_type": "code",
   "execution_count": 15,
   "id": "76848ab5",
   "metadata": {},
   "outputs": [
    {
     "data": {
      "text/plain": [
       "array([[ 1.        ,  0.76066508,  0.99323414, ..., -0.380303  ,\n",
       "         0.51625051,  0.10543767],\n",
       "       [ 1.        , -0.65736617, -0.075949  , ..., -0.03853357,\n",
       "         0.30884834, -0.03024183],\n",
       "       [ 1.        , -0.65736617, -0.65535167, ...,  0.67256689,\n",
       "         0.33261947, -0.18369264],\n",
       "       ...,\n",
       "       [ 1.        , -0.65736617,  0.92036704, ..., -0.12948242,\n",
       "         0.24828613, -0.14947669],\n",
       "       [ 1.        ,  0.28798799,  3.05636261, ..., -2.27291013,\n",
       "        -0.50176845,  0.6460148 ],\n",
       "       [ 1.        ,  1.23334216, -0.62732476, ...,  0.00744116,\n",
       "        -0.68531192, -0.01831509]])"
      ]
     },
     "execution_count": 15,
     "metadata": {},
     "output_type": "execute_result"
    }
   ],
   "source": [
    "Q"
   ]
  },
  {
   "cell_type": "markdown",
   "id": "dbfac1af",
   "metadata": {},
   "source": [
    "### Next, get the R matrix\n",
    "\n",
    "We can start with a d+1 identity matrix, and iteratively fill out the upper diagonal with projections."
   ]
  },
  {
   "cell_type": "code",
   "execution_count": 68,
   "id": "e27cd8cd",
   "metadata": {},
   "outputs": [],
   "source": [
    "R = np.identity(cols)\n",
    "\n",
    "for i in range(0, cols):\n",
    "    for j in range(i+1, cols):\n",
    "        R[i][j] = np.dot(x_train[:, j], Q[:, i]) / np.dot(Q[:, i], Q[:, i])\n",
    "        "
   ]
  },
  {
   "cell_type": "code",
   "execution_count": 73,
   "id": "a184285d",
   "metadata": {},
   "outputs": [
    {
     "name": "stdout",
     "output_type": "stream",
     "text": [
      "1.0 2.831865104842398e-16 8.155054574071463e-17 -5.063303114670744e-17 4.480799216522782e-19 -5.327670268445588e-16 2.182149218446595e-16 2.6704667170632477e-14 1.7116653007117028e-16 1.0778562515345554e-15 5.320052909777499e-15 2.7816801536173432e-15 4.118526599866915e-15 -4.555628563438713e-15 4.384977325277442e-14 5.1692740161415075e-15 -2.0057625572881755e-14 -1.4544674256832952e-15 -6.339658771497259e-14 2.5538539174532423e-14 1.7286923377344893e-14 2.929994607684247e-13 2.0501627967246998e-13 4.1851784882126914e-15 4.121215079396829e-15 -1.3557554189432982e-14 1.1522375185288335e-14 6.604698045154581e-15 2.47429732736388e-15 3.607883519153938e-15 \n",
      "0.0 1.0 0.017969763709676446 -0.0514268632677904 -0.013951823834340196 -0.011635530731530595 0.05241513551122127 -0.07110266418016853 -0.007235065184581003 -0.07147350469649792 0.06594005381701365 0.041100735606763424 0.03828007602713963 -0.06464110359347117 -0.05932144272944567 -0.07221436922201889 -0.06636490469630947 0.013804048785241246 -0.06526509900233067 0.031868309725114174 -0.05152236436830279 -0.027161479763592 -0.022535213337636882 -0.015651472344842404 -0.026708662682582623 0.010843261446073041 0.07867587419343942 -0.0023052497433687516 -0.1468369246409169 0.03707813723992832 \n",
      "0.0 0.0 1.0 0.41849489693176695 0.29622809327291255 0.3379488209421387 0.10157748561276408 0.16989987802559953 0.07285368668395287 0.031507873464837056 -0.008610663104962087 0.08521684833909127 -0.1422787539926896 0.03993541811853438 0.13070943186566938 0.024579280750022886 0.1390933995138474 0.12568172403140632 0.10235027597372806 0.09925179309962881 0.13818749291878485 -0.2618559383273354 0.4174462817508848 -0.1335061785834729 -0.4503511207149647 0.22476362750263765 0.0004956992060263739 0.02128221717212086 0.006335289128902623 0.011638920910758271 \n",
      "0.0 0.0 0.0 1.0 0.3278957611938407 0.24530822725602025 0.09892387125976931 0.1812526840971936 0.11668959334558361 -0.04133749537868545 -0.0566545196026833 -0.05650660191392538 0.2260488482506789 -0.09451624347730449 0.17814449600925467 0.09102257413044945 -0.0031199022832835753 -0.02509260265774294 0.0697481753811387 0.022258054644857226 0.15676122078990096 0.031134322362995577 0.13501163111862502 -0.11696112572722635 -0.0917513842623125 -0.04498087586944295 0.055297013607591414 0.03708490592457039 -0.003887834135965349 0.06483210430240162 \n",
      "0.0 0.0 0.0 0.0 1.0 0.07513914168815818 0.028690491495201066 0.032361143389342706 0.05918666103244512 -0.023138629399030275 0.015736068009764487 -0.11168749694273163 -0.06095818409231477 0.18015673005457095 0.03179920012336363 0.07238901845384284 0.10312125876242723 -0.02455846071161832 0.11582519424905048 -0.058528681242132514 0.016849382508635272 -0.0016050982967366616 0.033720307123248125 0.0154164528659161 0.045784997114367364 -0.02129628559168426 -0.03689487882855203 0.012222916284589942 0.003085977362626387 -0.03758814185226512 \n",
      "0.0 0.0 0.0 0.0 0.0 1.0 -0.14896550944604525 -0.07557208040942008 0.04336537123389924 -0.1818812003513179 0.07505540701184814 -0.12549228796713846 0.2600984792570132 -0.03496662418976873 -0.0018864617490985636 -0.012558599386151155 -0.11398645526393514 -0.011605898211456578 -0.09380839146171613 0.007145415046796644 0.021502546155072563 0.07004273471665708 -0.020518128585514935 -0.0029409157104564035 0.04111623087027696 -0.025815950239615405 0.05923072217147192 0.04356192862168966 -0.02381636571410298 0.061321109853753476 \n",
      "0.0 0.0 0.0 0.0 0.0 0.0 1.0 -0.04191662659460941 -0.03638433790710361 -0.09661837057416094 0.02784103711528387 -0.1160804681853892 0.3047818772793291 -0.1311147104239857 0.05939276523551591 -0.044949733886249996 0.047195581305969646 0.17708359718291541 -0.07537492567705939 0.06865846326613767 0.07592021190268938 0.021159432474524814 0.07207345455399228 -0.10147964455272462 -0.08753576896476492 0.004899342017230293 0.06218980985078915 0.018598966831969477 -0.020223583719611787 0.058098466218123285 \n",
      "0.0 0.0 0.0 0.0 0.0 0.0 0.0 1.0 -0.04929484376122264 0.06261497304561967 -0.0028406529982045892 0.09643474018076219 -0.17174857790244513 0.026354473709063617 0.5855711889719256 0.16175496495013972 0.3084432174945025 0.23430901864154463 0.573567125276424 0.33249791967830694 0.5307070946229389 0.285716659162161 0.407768820319954 -0.3114795695347794 -0.20667256528983952 -0.24256475736321345 -0.03615399977954977 -0.022956366915664717 0.015339909893754073 -0.03802681740642689 \n",
      "0.0 0.0 0.0 0.0 0.0 0.0 0.0 0.0 1.0 -0.14531098663990355 -0.05839812733763527 -0.011938386805312853 0.0032740633820380017 0.1851175346624919 0.04251765714460449 0.07938453248450439 0.057958067846514444 -0.02866405562322112 0.0464697947492984 -0.062379707222919877 0.035462983518168456 0.012683770932087286 0.04348279655408638 0.025281555306843756 0.020493679653889957 0.011391586383823232 0.014069751744577233 0.02692337330750104 -0.012396466149879009 0.018328594344199946 \n",
      "0.0 0.0 0.0 0.0 0.0 0.0 0.0 0.0 0.0 1.0 -0.1840165261816267 -0.31759706334541493 -0.19515222732849807 -0.25935656355931286 -0.034266214432480194 0.10844532364070265 0.12353125454798061 -0.09118719779514503 0.11775971292862483 -0.14576459297516975 -0.012572222992083094 -0.10532526039086762 0.030095791622130504 0.0608942243590784 0.06801520432585606 -0.0008773964425115977 -0.030437285748921274 0.04210161932916515 -0.011817156987740537 -0.011771537392914715 \n",
      "0.0 0.0 0.0 0.0 0.0 0.0 0.0 0.0 0.0 0.0 1.0 -0.2944572733626195 -0.18257547097100232 -0.29180321598508363 0.06662278456686664 0.011636636809340323 0.10447134799718928 0.08547350171152084 0.022575374965495807 0.0038756120498978654 0.05475595008891362 0.0062489213194050226 0.060592147681112096 -0.10494169750455427 -0.06377179825272604 -0.041327252526900504 0.046231880475917315 0.0015359542277551107 -0.06921794131126344 0.030786872713390933 \n",
      "0.0 0.0 0.0 0.0 0.0 0.0 0.0 0.0 0.0 0.0 0.0 1.0 -0.4497275750693764 -0.516973163726159 -0.27676392030896263 -0.24441803433376633 -0.2535937068263856 -0.0030483956403122704 -0.2026288560901357 0.14187781403517258 -0.20951500257185315 -0.10096181016513904 -0.1800870436887243 0.0649574120964537 -0.01678076054029928 0.08014373314147791 -0.07433086396666705 -0.06761769010458174 0.046422800332822645 -0.077952988980015 \n",
      "0.0 0.0 0.0 0.0 0.0 0.0 0.0 0.0 0.0 0.0 0.0 0.0 1.0 -1.0201200029472122 0.10206227273301531 -0.06590291422297183 -0.020346178876156803 0.14184799611008658 -0.13044115659775427 0.11870131227775331 0.10057138159958263 0.06663006592815371 0.04103666050158452 -0.2057181543870584 -0.1609101109454875 -0.08843832393101884 0.10029016616191919 -0.016718213528315713 0.008824751313209828 0.09447451474569708 \n",
      "0.0 0.0 0.0 0.0 0.0 0.0 0.0 0.0 0.0 0.0 0.0 0.0 0.0 1.0 248109375.03105316 -2821581557.778329 -2579036999.1544685 4247262008.9071846 -3366255331.8128815 4677712613.808918 -2003940556.8443503 2108340587.0345 455185370.73763084 2718022192.622694 893836735.8633585 931704298.0770028 -485613864.485738 -2036357410.4296074 -4906403827.524376 349246298.9007284 \n",
      "0.0 0.0 0.0 0.0 0.0 0.0 0.0 0.0 0.0 0.0 0.0 0.0 0.0 0.0 1.0 0.3239264440316612 0.3849439761806889 0.1574456248118688 0.19923187823263766 -0.07727372978361773 0.42458778234922645 0.15300432425349453 0.3041148575083038 -0.35970857600664635 -0.27180870135479485 -0.15803528592788116 0.18352526659009744 0.04498136888496052 -0.011975340891024214 0.1375613541060726 \n",
      "0.0 0.0 0.0 0.0 0.0 0.0 0.0 0.0 0.0 0.0 0.0 0.0 0.0 0.0 0.0 1.0 0.4489083886877691 -0.6148056976388784 0.6277824103249968 -0.7581586001177226 0.34292062715559785 0.010589261405556641 0.30850998697941967 0.41872561521198887 0.4298380410389695 0.04046701039298531 -0.009704381299456782 0.25318214011866935 -0.026751077667759013 0.049075975410509384 \n",
      "0.0 0.0 0.0 0.0 0.0 0.0 0.0 0.0 0.0 0.0 0.0 0.0 0.0 0.0 0.0 0.0 1.0 0.40153775020665233 0.17303395601152502 -0.15861669869693604 -0.20550401747193342 -0.3621807712949444 0.11598959183843012 -0.16826004641648956 -0.19368773120086108 0.0025123677359393834 0.14799392277686121 0.03406204883347793 -0.2253523617919213 0.10446286271460462 \n",
      "0.0 0.0 0.0 0.0 0.0 0.0 0.0 0.0 0.0 0.0 0.0 0.0 0.0 0.0 0.0 0.0 0.0 1.0 -0.5107185612190706 0.6750616815368207 0.48428970558632467 0.19003602031981678 0.28460293286296356 0.12637389479473254 -0.11387567314856084 0.2955195651965947 0.04917025520915166 -0.027200845601301236 -0.046937800404512516 0.08468959936612053 \n",
      "0.0 0.0 0.0 0.0 0.0 0.0 0.0 0.0 0.0 0.0 0.0 0.0 0.0 0.0 0.0 0.0 0.0 0.0 1.0 -0.7324108860849021 -0.12401708530040856 -0.1729725731276678 0.12532006683337168 0.00391058723635999 0.15661846419000516 -0.15171883847442438 -0.12046296744814054 -0.07813616224271916 0.0297833179158214 -0.10620465300462233 \n",
      "0.0 0.0 0.0 0.0 0.0 0.0 0.0 0.0 0.0 0.0 0.0 0.0 0.0 0.0 0.0 0.0 0.0 0.0 0.0 1.0 0.5514746973762934 0.5394492105471318 0.33854361560354446 -0.26639029549386395 -0.2837951257566649 -0.14105249291100616 -0.14931912668089806 0.020259737324710897 0.11810569859214533 -0.08769532054604987 \n",
      "0.0 0.0 0.0 0.0 0.0 0.0 0.0 0.0 0.0 0.0 0.0 0.0 0.0 0.0 0.0 0.0 0.0 0.0 0.0 0.0 1.0 0.5957467299069308 0.5571271526304977 -0.43025667245573657 -0.29346697928896515 -0.20591073916456976 0.03779984326242802 -0.014492684910640086 0.012569414956550796 0.13049694951977764 \n",
      "0.0 0.0 0.0 0.0 0.0 0.0 0.0 0.0 0.0 0.0 0.0 0.0 0.0 0.0 0.0 0.0 0.0 0.0 0.0 0.0 0.0 1.0 -0.2435134546180412 0.12044703496420317 0.16081000210353696 -0.048669558110067845 0.020616164663949367 0.01853011788576992 -0.055857829468371416 -0.013250164520428133 \n",
      "0.0 0.0 0.0 0.0 0.0 0.0 0.0 0.0 0.0 0.0 0.0 0.0 0.0 0.0 0.0 0.0 0.0 0.0 0.0 0.0 0.0 0.0 1.0 -0.053073279013490536 -0.12425599918192627 0.0745425615511619 -0.004140716691027898 -0.023813310974691377 0.00789691116546981 -0.01916305630138749 \n",
      "0.0 0.0 0.0 0.0 0.0 0.0 0.0 0.0 0.0 0.0 0.0 0.0 0.0 0.0 0.0 0.0 0.0 0.0 0.0 0.0 0.0 0.0 0.0 1.0 0.5998248483261227 0.8231953112455751 -0.00570752202776073 0.02247632652303144 -0.02812991781683616 -0.050209385568978714 \n",
      "0.0 0.0 0.0 0.0 0.0 0.0 0.0 0.0 0.0 0.0 0.0 0.0 0.0 0.0 0.0 0.0 0.0 0.0 0.0 0.0 0.0 0.0 0.0 0.0 1.0 -0.6584446351420348 0.03246600126887283 -0.03181968697670406 -0.03553670122194551 0.011883914414976543 \n",
      "0.0 0.0 0.0 0.0 0.0 0.0 0.0 0.0 0.0 0.0 0.0 0.0 0.0 0.0 0.0 0.0 0.0 0.0 0.0 0.0 0.0 0.0 0.0 0.0 0.0 1.0 0.01047660390776196 -0.05916420447899305 0.021434187847211322 0.03474897167527931 \n",
      "0.0 0.0 0.0 0.0 0.0 0.0 0.0 0.0 0.0 0.0 0.0 0.0 0.0 0.0 0.0 0.0 0.0 0.0 0.0 0.0 0.0 0.0 0.0 0.0 0.0 0.0 1.0 0.22828118240965994 -0.47941655049642357 0.708437168083368 \n",
      "0.0 0.0 0.0 0.0 0.0 0.0 0.0 0.0 0.0 0.0 0.0 0.0 0.0 0.0 0.0 0.0 0.0 0.0 0.0 0.0 0.0 0.0 0.0 0.0 0.0 0.0 0.0 1.0 -0.1376299627248682 0.25164361961472176 \n",
      "0.0 0.0 0.0 0.0 0.0 0.0 0.0 0.0 0.0 0.0 0.0 0.0 0.0 0.0 0.0 0.0 0.0 0.0 0.0 0.0 0.0 0.0 0.0 0.0 0.0 0.0 0.0 0.0 1.0 -0.035241839232263886 \n",
      "0.0 0.0 0.0 0.0 0.0 0.0 0.0 0.0 0.0 0.0 0.0 0.0 0.0 0.0 0.0 0.0 0.0 0.0 0.0 0.0 0.0 0.0 0.0 0.0 0.0 0.0 0.0 0.0 0.0 1.0 \n"
     ]
    }
   ],
   "source": [
    "for j in range(0, cols):\n",
    "    for i in range(0, cols):\n",
    "        print(R[j][i], end=\" \")\n",
    "    print()"
   ]
  },
  {
   "cell_type": "code",
   "execution_count": 72,
   "id": "ff7bed4c",
   "metadata": {},
   "outputs": [
    {
     "data": {
      "text/plain": [
       "(31715, 30)"
      ]
     },
     "execution_count": 72,
     "metadata": {},
     "output_type": "execute_result"
    }
   ],
   "source": [
    "Q.shape"
   ]
  },
  {
   "cell_type": "code",
   "execution_count": 74,
   "id": "7df2277e",
   "metadata": {},
   "outputs": [
    {
     "data": {
      "text/plain": [
       "(31715,)"
      ]
     },
     "execution_count": 74,
     "metadata": {},
     "output_type": "execute_result"
    }
   ],
   "source": [
    "y_train.shape"
   ]
  },
  {
   "cell_type": "code",
   "execution_count": 75,
   "id": "c0512bb4",
   "metadata": {},
   "outputs": [
    {
     "data": {
      "text/plain": [
       "(30, 30)"
      ]
     },
     "execution_count": 75,
     "metadata": {},
     "output_type": "execute_result"
    }
   ],
   "source": [
    "R.shape"
   ]
  },
  {
   "cell_type": "code",
   "execution_count": null,
   "id": "df9a903e",
   "metadata": {},
   "outputs": [],
   "source": []
  }
 ],
 "metadata": {
  "kernelspec": {
   "display_name": "Python 3",
   "language": "python",
   "name": "python3"
  },
  "language_info": {
   "codemirror_mode": {
    "name": "ipython",
    "version": 3
   },
   "file_extension": ".py",
   "mimetype": "text/x-python",
   "name": "python",
   "nbconvert_exporter": "python",
   "pygments_lexer": "ipython3",
   "version": "3.8.8"
  }
 },
 "nbformat": 4,
 "nbformat_minor": 5
}
