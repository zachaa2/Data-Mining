{
 "cells": [
  {
   "cell_type": "markdown",
   "id": "7021e5ae",
   "metadata": {},
   "source": [
    "# Importing Dependancies"
   ]
  },
  {
   "cell_type": "code",
   "execution_count": 1,
   "id": "ff041c6d",
   "metadata": {},
   "outputs": [],
   "source": [
    "import numpy as np\n",
    "import pandas as pd\n",
    "import warnings\n",
    "from sklearn.preprocessing import StandardScaler\n",
    "warnings.filterwarnings(\"ignore\")"
   ]
  },
  {
   "cell_type": "markdown",
   "id": "a8ad44e0",
   "metadata": {},
   "source": [
    "# Read in Dataset"
   ]
  },
  {
   "cell_type": "code",
   "execution_count": 2,
   "id": "cee89110",
   "metadata": {},
   "outputs": [
    {
     "name": "stdout",
     "output_type": "stream",
     "text": [
      "<class 'pandas.core.frame.DataFrame'>\n",
      "RangeIndex: 39644 entries, 0 to 39643\n",
      "Data columns (total 61 columns):\n",
      " #   Column                          Non-Null Count  Dtype  \n",
      "---  ------                          --------------  -----  \n",
      " 0   url                             39644 non-null  object \n",
      " 1    timedelta                      39644 non-null  float64\n",
      " 2    n_tokens_title                 39644 non-null  float64\n",
      " 3    n_tokens_content               39644 non-null  float64\n",
      " 4    n_unique_tokens                39644 non-null  float64\n",
      " 5    n_non_stop_words               39644 non-null  float64\n",
      " 6    n_non_stop_unique_tokens       39644 non-null  float64\n",
      " 7    num_hrefs                      39644 non-null  float64\n",
      " 8    num_self_hrefs                 39644 non-null  float64\n",
      " 9    num_imgs                       39644 non-null  float64\n",
      " 10   num_videos                     39644 non-null  float64\n",
      " 11   average_token_length           39644 non-null  float64\n",
      " 12   num_keywords                   39644 non-null  float64\n",
      " 13   data_channel_is_lifestyle      39644 non-null  float64\n",
      " 14   data_channel_is_entertainment  39644 non-null  float64\n",
      " 15   data_channel_is_bus            39644 non-null  float64\n",
      " 16   data_channel_is_socmed         39644 non-null  float64\n",
      " 17   data_channel_is_tech           39644 non-null  float64\n",
      " 18   data_channel_is_world          39644 non-null  float64\n",
      " 19   kw_min_min                     39644 non-null  float64\n",
      " 20   kw_max_min                     39644 non-null  float64\n",
      " 21   kw_avg_min                     39644 non-null  float64\n",
      " 22   kw_min_max                     39644 non-null  float64\n",
      " 23   kw_max_max                     39644 non-null  float64\n",
      " 24   kw_avg_max                     39644 non-null  float64\n",
      " 25   kw_min_avg                     39644 non-null  float64\n",
      " 26   kw_max_avg                     39644 non-null  float64\n",
      " 27   kw_avg_avg                     39644 non-null  float64\n",
      " 28   self_reference_min_shares      39644 non-null  float64\n",
      " 29   self_reference_max_shares      39644 non-null  float64\n",
      " 30   self_reference_avg_sharess     39644 non-null  float64\n",
      " 31   weekday_is_monday              39644 non-null  float64\n",
      " 32   weekday_is_tuesday             39644 non-null  float64\n",
      " 33   weekday_is_wednesday           39644 non-null  float64\n",
      " 34   weekday_is_thursday            39644 non-null  float64\n",
      " 35   weekday_is_friday              39644 non-null  float64\n",
      " 36   weekday_is_saturday            39644 non-null  float64\n",
      " 37   weekday_is_sunday              39644 non-null  float64\n",
      " 38   is_weekend                     39644 non-null  float64\n",
      " 39   LDA_00                         39644 non-null  float64\n",
      " 40   LDA_01                         39644 non-null  float64\n",
      " 41   LDA_02                         39644 non-null  float64\n",
      " 42   LDA_03                         39644 non-null  float64\n",
      " 43   LDA_04                         39644 non-null  float64\n",
      " 44   global_subjectivity            39644 non-null  float64\n",
      " 45   global_sentiment_polarity      39644 non-null  float64\n",
      " 46   global_rate_positive_words     39644 non-null  float64\n",
      " 47   global_rate_negative_words     39644 non-null  float64\n",
      " 48   rate_positive_words            39644 non-null  float64\n",
      " 49   rate_negative_words            39644 non-null  float64\n",
      " 50   avg_positive_polarity          39644 non-null  float64\n",
      " 51   min_positive_polarity          39644 non-null  float64\n",
      " 52   max_positive_polarity          39644 non-null  float64\n",
      " 53   avg_negative_polarity          39644 non-null  float64\n",
      " 54   min_negative_polarity          39644 non-null  float64\n",
      " 55   max_negative_polarity          39644 non-null  float64\n",
      " 56   title_subjectivity             39644 non-null  float64\n",
      " 57   title_sentiment_polarity       39644 non-null  float64\n",
      " 58   abs_title_subjectivity         39644 non-null  float64\n",
      " 59   abs_title_sentiment_polarity   39644 non-null  float64\n",
      " 60   shares                         39644 non-null  int64  \n",
      "dtypes: float64(59), int64(1), object(1)\n",
      "memory usage: 18.5+ MB\n"
     ]
    }
   ],
   "source": [
    "# read data into dataframe\n",
    "df = pd.read_csv(\"./OnlineNewsPopularity.csv\")\n",
    "df.info()"
   ]
  },
  {
   "cell_type": "markdown",
   "id": "faa2c149",
   "metadata": {},
   "source": [
    "# Preprocessing"
   ]
  },
  {
   "cell_type": "markdown",
   "id": "1d3e58f5",
   "metadata": {},
   "source": [
    "### Split into data and target labels"
   ]
  },
  {
   "cell_type": "code",
   "execution_count": 3,
   "id": "4aa97fd3",
   "metadata": {},
   "outputs": [],
   "source": [
    "y = df.iloc[:, 60]\n",
    "x = df.iloc[:, 0:60]"
   ]
  },
  {
   "cell_type": "code",
   "execution_count": 4,
   "id": "1814e544",
   "metadata": {},
   "outputs": [
    {
     "name": "stdout",
     "output_type": "stream",
     "text": [
      "<class 'pandas.core.frame.DataFrame'>\n",
      "RangeIndex: 39644 entries, 0 to 39643\n",
      "Data columns (total 60 columns):\n",
      " #   Column                          Non-Null Count  Dtype  \n",
      "---  ------                          --------------  -----  \n",
      " 0   url                             39644 non-null  object \n",
      " 1    timedelta                      39644 non-null  float64\n",
      " 2    n_tokens_title                 39644 non-null  float64\n",
      " 3    n_tokens_content               39644 non-null  float64\n",
      " 4    n_unique_tokens                39644 non-null  float64\n",
      " 5    n_non_stop_words               39644 non-null  float64\n",
      " 6    n_non_stop_unique_tokens       39644 non-null  float64\n",
      " 7    num_hrefs                      39644 non-null  float64\n",
      " 8    num_self_hrefs                 39644 non-null  float64\n",
      " 9    num_imgs                       39644 non-null  float64\n",
      " 10   num_videos                     39644 non-null  float64\n",
      " 11   average_token_length           39644 non-null  float64\n",
      " 12   num_keywords                   39644 non-null  float64\n",
      " 13   data_channel_is_lifestyle      39644 non-null  float64\n",
      " 14   data_channel_is_entertainment  39644 non-null  float64\n",
      " 15   data_channel_is_bus            39644 non-null  float64\n",
      " 16   data_channel_is_socmed         39644 non-null  float64\n",
      " 17   data_channel_is_tech           39644 non-null  float64\n",
      " 18   data_channel_is_world          39644 non-null  float64\n",
      " 19   kw_min_min                     39644 non-null  float64\n",
      " 20   kw_max_min                     39644 non-null  float64\n",
      " 21   kw_avg_min                     39644 non-null  float64\n",
      " 22   kw_min_max                     39644 non-null  float64\n",
      " 23   kw_max_max                     39644 non-null  float64\n",
      " 24   kw_avg_max                     39644 non-null  float64\n",
      " 25   kw_min_avg                     39644 non-null  float64\n",
      " 26   kw_max_avg                     39644 non-null  float64\n",
      " 27   kw_avg_avg                     39644 non-null  float64\n",
      " 28   self_reference_min_shares      39644 non-null  float64\n",
      " 29   self_reference_max_shares      39644 non-null  float64\n",
      " 30   self_reference_avg_sharess     39644 non-null  float64\n",
      " 31   weekday_is_monday              39644 non-null  float64\n",
      " 32   weekday_is_tuesday             39644 non-null  float64\n",
      " 33   weekday_is_wednesday           39644 non-null  float64\n",
      " 34   weekday_is_thursday            39644 non-null  float64\n",
      " 35   weekday_is_friday              39644 non-null  float64\n",
      " 36   weekday_is_saturday            39644 non-null  float64\n",
      " 37   weekday_is_sunday              39644 non-null  float64\n",
      " 38   is_weekend                     39644 non-null  float64\n",
      " 39   LDA_00                         39644 non-null  float64\n",
      " 40   LDA_01                         39644 non-null  float64\n",
      " 41   LDA_02                         39644 non-null  float64\n",
      " 42   LDA_03                         39644 non-null  float64\n",
      " 43   LDA_04                         39644 non-null  float64\n",
      " 44   global_subjectivity            39644 non-null  float64\n",
      " 45   global_sentiment_polarity      39644 non-null  float64\n",
      " 46   global_rate_positive_words     39644 non-null  float64\n",
      " 47   global_rate_negative_words     39644 non-null  float64\n",
      " 48   rate_positive_words            39644 non-null  float64\n",
      " 49   rate_negative_words            39644 non-null  float64\n",
      " 50   avg_positive_polarity          39644 non-null  float64\n",
      " 51   min_positive_polarity          39644 non-null  float64\n",
      " 52   max_positive_polarity          39644 non-null  float64\n",
      " 53   avg_negative_polarity          39644 non-null  float64\n",
      " 54   min_negative_polarity          39644 non-null  float64\n",
      " 55   max_negative_polarity          39644 non-null  float64\n",
      " 56   title_subjectivity             39644 non-null  float64\n",
      " 57   title_sentiment_polarity       39644 non-null  float64\n",
      " 58   abs_title_subjectivity         39644 non-null  float64\n",
      " 59   abs_title_sentiment_polarity   39644 non-null  float64\n",
      "dtypes: float64(59), object(1)\n",
      "memory usage: 18.1+ MB\n"
     ]
    }
   ],
   "source": [
    "x.info()"
   ]
  },
  {
   "cell_type": "code",
   "execution_count": null,
   "id": "9284aa02",
   "metadata": {},
   "outputs": [],
   "source": []
  },
  {
   "cell_type": "markdown",
   "id": "acb64eea",
   "metadata": {},
   "source": [
    "### Drop Unused Features"
   ]
  },
  {
   "cell_type": "code",
   "execution_count": 5,
   "id": "7cf99fd6",
   "metadata": {},
   "outputs": [
    {
     "data": {
      "text/html": [
       "<div>\n",
       "<style scoped>\n",
       "    .dataframe tbody tr th:only-of-type {\n",
       "        vertical-align: middle;\n",
       "    }\n",
       "\n",
       "    .dataframe tbody tr th {\n",
       "        vertical-align: top;\n",
       "    }\n",
       "\n",
       "    .dataframe thead th {\n",
       "        text-align: right;\n",
       "    }\n",
       "</style>\n",
       "<table border=\"1\" class=\"dataframe\">\n",
       "  <thead>\n",
       "    <tr style=\"text-align: right;\">\n",
       "      <th></th>\n",
       "      <th>n_tokens_title</th>\n",
       "      <th>n_tokens_content</th>\n",
       "      <th>num_hrefs</th>\n",
       "      <th>num_self_hrefs</th>\n",
       "      <th>num_imgs</th>\n",
       "      <th>num_videos</th>\n",
       "      <th>average_token_length</th>\n",
       "      <th>num_keywords</th>\n",
       "      <th>LDA_00</th>\n",
       "      <th>LDA_01</th>\n",
       "      <th>...</th>\n",
       "      <th>avg_positive_polarity</th>\n",
       "      <th>min_positive_polarity</th>\n",
       "      <th>max_positive_polarity</th>\n",
       "      <th>avg_negative_polarity</th>\n",
       "      <th>min_negative_polarity</th>\n",
       "      <th>max_negative_polarity</th>\n",
       "      <th>title_subjectivity</th>\n",
       "      <th>title_sentiment_polarity</th>\n",
       "      <th>abs_title_subjectivity</th>\n",
       "      <th>abs_title_sentiment_polarity</th>\n",
       "    </tr>\n",
       "  </thead>\n",
       "  <tbody>\n",
       "    <tr>\n",
       "      <th>0</th>\n",
       "      <td>12.0</td>\n",
       "      <td>219.0</td>\n",
       "      <td>4.0</td>\n",
       "      <td>2.0</td>\n",
       "      <td>1.0</td>\n",
       "      <td>0.0</td>\n",
       "      <td>4.680365</td>\n",
       "      <td>5.0</td>\n",
       "      <td>0.500331</td>\n",
       "      <td>0.378279</td>\n",
       "      <td>...</td>\n",
       "      <td>0.378636</td>\n",
       "      <td>0.100000</td>\n",
       "      <td>0.7</td>\n",
       "      <td>-0.350000</td>\n",
       "      <td>-0.600</td>\n",
       "      <td>-0.200000</td>\n",
       "      <td>0.500000</td>\n",
       "      <td>-0.187500</td>\n",
       "      <td>0.000000</td>\n",
       "      <td>0.187500</td>\n",
       "    </tr>\n",
       "    <tr>\n",
       "      <th>1</th>\n",
       "      <td>9.0</td>\n",
       "      <td>255.0</td>\n",
       "      <td>3.0</td>\n",
       "      <td>1.0</td>\n",
       "      <td>1.0</td>\n",
       "      <td>0.0</td>\n",
       "      <td>4.913725</td>\n",
       "      <td>4.0</td>\n",
       "      <td>0.799756</td>\n",
       "      <td>0.050047</td>\n",
       "      <td>...</td>\n",
       "      <td>0.286915</td>\n",
       "      <td>0.033333</td>\n",
       "      <td>0.7</td>\n",
       "      <td>-0.118750</td>\n",
       "      <td>-0.125</td>\n",
       "      <td>-0.100000</td>\n",
       "      <td>0.000000</td>\n",
       "      <td>0.000000</td>\n",
       "      <td>0.500000</td>\n",
       "      <td>0.000000</td>\n",
       "    </tr>\n",
       "    <tr>\n",
       "      <th>2</th>\n",
       "      <td>9.0</td>\n",
       "      <td>211.0</td>\n",
       "      <td>3.0</td>\n",
       "      <td>1.0</td>\n",
       "      <td>1.0</td>\n",
       "      <td>0.0</td>\n",
       "      <td>4.393365</td>\n",
       "      <td>6.0</td>\n",
       "      <td>0.217792</td>\n",
       "      <td>0.033334</td>\n",
       "      <td>...</td>\n",
       "      <td>0.495833</td>\n",
       "      <td>0.100000</td>\n",
       "      <td>1.0</td>\n",
       "      <td>-0.466667</td>\n",
       "      <td>-0.800</td>\n",
       "      <td>-0.133333</td>\n",
       "      <td>0.000000</td>\n",
       "      <td>0.000000</td>\n",
       "      <td>0.500000</td>\n",
       "      <td>0.000000</td>\n",
       "    </tr>\n",
       "    <tr>\n",
       "      <th>3</th>\n",
       "      <td>9.0</td>\n",
       "      <td>531.0</td>\n",
       "      <td>9.0</td>\n",
       "      <td>0.0</td>\n",
       "      <td>1.0</td>\n",
       "      <td>0.0</td>\n",
       "      <td>4.404896</td>\n",
       "      <td>7.0</td>\n",
       "      <td>0.028573</td>\n",
       "      <td>0.419300</td>\n",
       "      <td>...</td>\n",
       "      <td>0.385965</td>\n",
       "      <td>0.136364</td>\n",
       "      <td>0.8</td>\n",
       "      <td>-0.369697</td>\n",
       "      <td>-0.600</td>\n",
       "      <td>-0.166667</td>\n",
       "      <td>0.000000</td>\n",
       "      <td>0.000000</td>\n",
       "      <td>0.500000</td>\n",
       "      <td>0.000000</td>\n",
       "    </tr>\n",
       "    <tr>\n",
       "      <th>4</th>\n",
       "      <td>13.0</td>\n",
       "      <td>1072.0</td>\n",
       "      <td>19.0</td>\n",
       "      <td>19.0</td>\n",
       "      <td>20.0</td>\n",
       "      <td>0.0</td>\n",
       "      <td>4.682836</td>\n",
       "      <td>7.0</td>\n",
       "      <td>0.028633</td>\n",
       "      <td>0.028794</td>\n",
       "      <td>...</td>\n",
       "      <td>0.411127</td>\n",
       "      <td>0.033333</td>\n",
       "      <td>1.0</td>\n",
       "      <td>-0.220192</td>\n",
       "      <td>-0.500</td>\n",
       "      <td>-0.050000</td>\n",
       "      <td>0.454545</td>\n",
       "      <td>0.136364</td>\n",
       "      <td>0.045455</td>\n",
       "      <td>0.136364</td>\n",
       "    </tr>\n",
       "  </tbody>\n",
       "</table>\n",
       "<p>5 rows × 29 columns</p>\n",
       "</div>"
      ],
      "text/plain": [
       "    n_tokens_title   n_tokens_content   num_hrefs   num_self_hrefs   num_imgs  \\\n",
       "0             12.0              219.0         4.0              2.0        1.0   \n",
       "1              9.0              255.0         3.0              1.0        1.0   \n",
       "2              9.0              211.0         3.0              1.0        1.0   \n",
       "3              9.0              531.0         9.0              0.0        1.0   \n",
       "4             13.0             1072.0        19.0             19.0       20.0   \n",
       "\n",
       "    num_videos   average_token_length   num_keywords    LDA_00    LDA_01  ...  \\\n",
       "0          0.0               4.680365            5.0  0.500331  0.378279  ...   \n",
       "1          0.0               4.913725            4.0  0.799756  0.050047  ...   \n",
       "2          0.0               4.393365            6.0  0.217792  0.033334  ...   \n",
       "3          0.0               4.404896            7.0  0.028573  0.419300  ...   \n",
       "4          0.0               4.682836            7.0  0.028633  0.028794  ...   \n",
       "\n",
       "    avg_positive_polarity   min_positive_polarity   max_positive_polarity  \\\n",
       "0                0.378636                0.100000                     0.7   \n",
       "1                0.286915                0.033333                     0.7   \n",
       "2                0.495833                0.100000                     1.0   \n",
       "3                0.385965                0.136364                     0.8   \n",
       "4                0.411127                0.033333                     1.0   \n",
       "\n",
       "    avg_negative_polarity   min_negative_polarity   max_negative_polarity  \\\n",
       "0               -0.350000                  -0.600               -0.200000   \n",
       "1               -0.118750                  -0.125               -0.100000   \n",
       "2               -0.466667                  -0.800               -0.133333   \n",
       "3               -0.369697                  -0.600               -0.166667   \n",
       "4               -0.220192                  -0.500               -0.050000   \n",
       "\n",
       "    title_subjectivity   title_sentiment_polarity   abs_title_subjectivity  \\\n",
       "0             0.500000                  -0.187500                 0.000000   \n",
       "1             0.000000                   0.000000                 0.500000   \n",
       "2             0.000000                   0.000000                 0.500000   \n",
       "3             0.000000                   0.000000                 0.500000   \n",
       "4             0.454545                   0.136364                 0.045455   \n",
       "\n",
       "    abs_title_sentiment_polarity  \n",
       "0                       0.187500  \n",
       "1                       0.000000  \n",
       "2                       0.000000  \n",
       "3                       0.000000  \n",
       "4                       0.136364  \n",
       "\n",
       "[5 rows x 29 columns]"
      ]
     },
     "execution_count": 5,
     "metadata": {},
     "output_type": "execute_result"
    }
   ],
   "source": [
    "# drop unused features\n",
    "vals = [0, 1, 4, 5, 6]\n",
    "for i in range(13, 39):\n",
    "    vals.append(i)\n",
    "\n",
    "x = x.drop(x.columns[vals], axis = 1)\n",
    "x.head()"
   ]
  },
  {
   "cell_type": "markdown",
   "id": "8e38a7e1",
   "metadata": {},
   "source": [
    "### Shuffle Data"
   ]
  },
  {
   "cell_type": "code",
   "execution_count": 6,
   "id": "1f91cea9",
   "metadata": {},
   "outputs": [],
   "source": [
    "np.random.seed(42)"
   ]
  },
  {
   "cell_type": "code",
   "execution_count": 7,
   "id": "00806677",
   "metadata": {},
   "outputs": [],
   "source": [
    "x = x.to_numpy()\n",
    "y = y.to_numpy()"
   ]
  },
  {
   "cell_type": "code",
   "execution_count": 8,
   "id": "3cc50bb7",
   "metadata": {},
   "outputs": [],
   "source": [
    "arr = np.arange(len(df))\n",
    "np.random.shuffle(arr)\n",
    "x = x[arr]\n",
    "y = y[arr]"
   ]
  },
  {
   "cell_type": "markdown",
   "id": "26f2342a",
   "metadata": {},
   "source": [
    "### Split data"
   ]
  },
  {
   "cell_type": "code",
   "execution_count": 9,
   "id": "424cc40b",
   "metadata": {},
   "outputs": [],
   "source": [
    "x_train = x[:31715]\n",
    "y_train = y[:31715]\n",
    "x_val = x[31715:35679]\n",
    "y_val = y[31715:35679]\n",
    "x_test = x[35679:39644]\n",
    "y_test = y[35679:39644]"
   ]
  },
  {
   "cell_type": "markdown",
   "id": "8da519bc",
   "metadata": {},
   "source": [
    "### Standardize Data"
   ]
  },
  {
   "cell_type": "code",
   "execution_count": 10,
   "id": "27da3456",
   "metadata": {},
   "outputs": [],
   "source": [
    "# first save the training mean and std\n",
    "training_mean = np.mean(x_train, axis=0)\n",
    "training_std = np.std(x_train, axis=0)\n",
    "\n",
    "# first standardize the training data\n",
    "scaler = StandardScaler()\n",
    "scaler.fit(x_train)\n",
    "x_train = scaler.transform(x_train)"
   ]
  },
  {
   "cell_type": "code",
   "execution_count": 11,
   "id": "a1b0759b",
   "metadata": {},
   "outputs": [],
   "source": [
    "# standardize the test and validation data using training mean and std\n",
    "x_test = (x_test - training_mean) / training_std\n",
    "x_val = (x_val - training_mean) / training_std"
   ]
  },
  {
   "cell_type": "markdown",
   "id": "4c5f1407",
   "metadata": {},
   "source": [
    "# Augment data"
   ]
  },
  {
   "cell_type": "code",
   "execution_count": 12,
   "id": "003693e2",
   "metadata": {},
   "outputs": [],
   "source": [
    "# finally, augment data using a 1's column\n",
    "ones_train = np.ones((len(x_train), 1))\n",
    "ones_test = np.ones((len(x_test), 1))\n",
    "ones_val = np.ones((len(x_val), 1))"
   ]
  },
  {
   "cell_type": "code",
   "execution_count": 13,
   "id": "e585985d",
   "metadata": {},
   "outputs": [],
   "source": [
    "x_train = np.hstack((ones_train, x_train))\n",
    "x_test = np.hstack((ones_test, x_test))\n",
    "x_val = np.hstack((ones_val, x_val))"
   ]
  },
  {
   "cell_type": "markdown",
   "id": "fc424ebc",
   "metadata": {},
   "source": [
    "# Part1: Linear Regression using QR Factorization"
   ]
  },
  {
   "cell_type": "markdown",
   "id": "46213396",
   "metadata": {},
   "source": [
    "### First get the Q matrix"
   ]
  },
  {
   "cell_type": "code",
   "execution_count": 14,
   "id": "0aa1b425",
   "metadata": {},
   "outputs": [],
   "source": [
    "Q = []\n",
    "cols = x_train.shape[1]\n",
    "for i in range(cols):\n",
    "    # get initial u\n",
    "    u = x_train[:, i]\n",
    "    # iteratively subtract projections \n",
    "    for j in range(i):\n",
    "        proj = np.dot(x_train[:, i], Q[j]) / np.dot(Q[j], Q[j])\n",
    "        prod = proj * Q[j]\n",
    "        u = u - prod\n",
    "    Q.append(u)\n",
    "\n",
    "\n",
    "# turn it into a numpy object\n",
    "Q = np.array(Q)\n",
    "# transpose it so that the computed vectors are now column vectors\n",
    "Q = Q.T"
   ]
  },
  {
   "cell_type": "code",
   "execution_count": 15,
   "id": "76848ab5",
   "metadata": {},
   "outputs": [
    {
     "data": {
      "text/plain": [
       "array([[ 1.        ,  0.76066508,  0.99323414, ..., -0.38032909,\n",
       "         0.51623674,  0.10543864],\n",
       "       [ 1.        , -0.65736617, -0.075949  , ..., -0.03852483,\n",
       "         0.30885073, -0.03024141],\n",
       "       [ 1.        , -0.65736617, -0.65535167, ...,  0.67258597,\n",
       "         0.33262519, -0.1836919 ],\n",
       "       ...,\n",
       "       [ 1.        , -0.65736617,  0.92036704, ..., -0.12948664,\n",
       "         0.2482869 , -0.14947752],\n",
       "       [ 1.        ,  0.28798799,  3.05636261, ..., -2.27290149,\n",
       "        -0.50176896,  0.64601598],\n",
       "       [ 1.        ,  1.23334216, -0.62732476, ...,  0.0074167 ,\n",
       "        -0.68531803, -0.01831628]])"
      ]
     },
     "execution_count": 15,
     "metadata": {},
     "output_type": "execute_result"
    }
   ],
   "source": [
    "Q"
   ]
  },
  {
   "cell_type": "markdown",
   "id": "dbfac1af",
   "metadata": {},
   "source": [
    "### Next, get the R matrix\n",
    "\n",
    "We can start with a d+1 identity matrix, and iteratively fill out the upper diagonal with projections."
   ]
  },
  {
   "cell_type": "code",
   "execution_count": 16,
   "id": "e27cd8cd",
   "metadata": {},
   "outputs": [],
   "source": [
    "R = np.identity(cols)\n",
    "\n",
    "for i in range(0, cols):\n",
    "    for j in range(i+1, cols):\n",
    "        R[i][j] = np.dot(x_train[:, j], Q[:, i]) / np.dot(Q[:, i], Q[:, i])\n",
    "        "
   ]
  },
  {
   "cell_type": "code",
   "execution_count": 21,
   "id": "a184285d",
   "metadata": {},
   "outputs": [
    {
     "data": {
      "text/plain": [
       "array([[ 1.00000000e+00,  1.97603245e-16,  8.33428654e-17,\n",
       "        -4.72724317e-17, -3.04694347e-17, -4.69139678e-16,\n",
       "         1.61756852e-16,  2.67127886e-14, -1.88193567e-17,\n",
       "         1.08782603e-15,  5.32610199e-15,  2.77025412e-15,\n",
       "         4.10866884e-15, -4.56010936e-15,  4.38665762e-14,\n",
       "         5.15762394e-15, -2.00939200e-14, -1.43811251e-15,\n",
       "        -6.34420678e-14,  2.55806587e-14,  1.72871474e-14,\n",
       "         2.92216217e-13,  2.04928680e-13,  4.20153341e-15,\n",
       "         4.14485130e-15, -1.35416474e-14,  1.15169982e-14,\n",
       "         6.70820451e-15,  2.33158387e-15,  3.72163981e-15],\n",
       "       [ 0.00000000e+00,  1.00000000e+00,  1.79697637e-02,\n",
       "        -5.14268633e-02, -1.39518238e-02, -1.16355307e-02,\n",
       "         5.24151355e-02, -7.11026642e-02, -7.23506518e-03,\n",
       "        -7.14735047e-02,  6.59400538e-02,  4.11007356e-02,\n",
       "         3.82800760e-02, -6.46411036e-02, -5.93214427e-02,\n",
       "        -7.22143692e-02, -6.63649047e-02,  1.38040488e-02,\n",
       "        -6.52650990e-02,  3.18683097e-02, -5.15223644e-02,\n",
       "        -2.71614798e-02, -2.25352133e-02, -1.56514723e-02,\n",
       "        -2.67086627e-02,  1.08432614e-02,  7.86758742e-02,\n",
       "        -2.30524974e-03, -1.46836925e-01,  3.70781372e-02],\n",
       "       [ 0.00000000e+00,  0.00000000e+00,  1.00000000e+00,\n",
       "         4.18494897e-01,  2.96228093e-01,  3.37948821e-01,\n",
       "         1.01577486e-01,  1.69899878e-01,  7.28536867e-02,\n",
       "         3.15078735e-02, -8.61066310e-03,  8.52168483e-02,\n",
       "        -1.42278754e-01,  3.99354181e-02,  1.30709432e-01,\n",
       "         2.45792808e-02,  1.39093400e-01,  1.25681724e-01,\n",
       "         1.02350276e-01,  9.92517931e-02,  1.38187493e-01,\n",
       "        -2.61855938e-01,  4.17446282e-01, -1.33506179e-01,\n",
       "        -4.50351121e-01,  2.24763628e-01,  4.95699206e-04,\n",
       "         2.12822172e-02,  6.33528913e-03,  1.16389209e-02],\n",
       "       [ 0.00000000e+00,  0.00000000e+00,  0.00000000e+00,\n",
       "         1.00000000e+00,  3.27895761e-01,  2.45308227e-01,\n",
       "         9.89238713e-02,  1.81252684e-01,  1.16689593e-01,\n",
       "        -4.13374954e-02, -5.66545196e-02, -5.65066019e-02,\n",
       "         2.26048848e-01, -9.45162435e-02,  1.78144496e-01,\n",
       "         9.10225741e-02, -3.11990228e-03, -2.50926027e-02,\n",
       "         6.97481754e-02,  2.22580546e-02,  1.56761221e-01,\n",
       "         3.11343224e-02,  1.35011631e-01, -1.16961126e-01,\n",
       "        -9.17513843e-02, -4.49808759e-02,  5.52970136e-02,\n",
       "         3.70849059e-02, -3.88783414e-03,  6.48321043e-02],\n",
       "       [ 0.00000000e+00,  0.00000000e+00,  0.00000000e+00,\n",
       "         0.00000000e+00,  1.00000000e+00,  7.51391417e-02,\n",
       "         2.86904915e-02,  3.23611434e-02,  5.91866610e-02,\n",
       "        -2.31386294e-02,  1.57360680e-02, -1.11687497e-01,\n",
       "        -6.09581841e-02,  1.80156730e-01,  3.17992001e-02,\n",
       "         7.23890185e-02,  1.03121259e-01, -2.45584607e-02,\n",
       "         1.15825194e-01, -5.85286812e-02,  1.68493825e-02,\n",
       "        -1.60509830e-03,  3.37203071e-02,  1.54164529e-02,\n",
       "         4.57849971e-02, -2.12962856e-02, -3.68948788e-02,\n",
       "         1.22229163e-02,  3.08597736e-03, -3.75881419e-02],\n",
       "       [ 0.00000000e+00,  0.00000000e+00,  0.00000000e+00,\n",
       "         0.00000000e+00,  0.00000000e+00,  1.00000000e+00,\n",
       "        -1.48965509e-01, -7.55720804e-02,  4.33653712e-02,\n",
       "        -1.81881200e-01,  7.50554070e-02, -1.25492288e-01,\n",
       "         2.60098479e-01, -3.49666242e-02, -1.88646175e-03,\n",
       "        -1.25585994e-02, -1.13986455e-01, -1.16058982e-02,\n",
       "        -9.38083915e-02,  7.14541505e-03,  2.15025462e-02,\n",
       "         7.00427347e-02, -2.05181286e-02, -2.94091571e-03,\n",
       "         4.11162309e-02, -2.58159502e-02,  5.92307222e-02,\n",
       "         4.35619286e-02, -2.38163657e-02,  6.13211099e-02],\n",
       "       [ 0.00000000e+00,  0.00000000e+00,  0.00000000e+00,\n",
       "         0.00000000e+00,  0.00000000e+00,  0.00000000e+00,\n",
       "         1.00000000e+00, -4.19166266e-02, -3.63843379e-02,\n",
       "        -9.66183706e-02,  2.78410371e-02, -1.16080468e-01,\n",
       "         3.04781877e-01, -1.31114710e-01,  5.93927652e-02,\n",
       "        -4.49497339e-02,  4.71955813e-02,  1.77083597e-01,\n",
       "        -7.53749257e-02,  6.86584633e-02,  7.59202119e-02,\n",
       "         2.11594325e-02,  7.20734546e-02, -1.01479645e-01,\n",
       "        -8.75357690e-02,  4.89934202e-03,  6.21898099e-02,\n",
       "         1.85989668e-02, -2.02235837e-02,  5.80984662e-02],\n",
       "       [ 0.00000000e+00,  0.00000000e+00,  0.00000000e+00,\n",
       "         0.00000000e+00,  0.00000000e+00,  0.00000000e+00,\n",
       "         0.00000000e+00,  1.00000000e+00, -4.92948438e-02,\n",
       "         6.26149730e-02, -2.84065300e-03,  9.64347402e-02,\n",
       "        -1.71748578e-01,  2.63544737e-02,  5.85571189e-01,\n",
       "         1.61754965e-01,  3.08443217e-01,  2.34309019e-01,\n",
       "         5.73567125e-01,  3.32497920e-01,  5.30707095e-01,\n",
       "         2.85716659e-01,  4.07768820e-01, -3.11479570e-01,\n",
       "        -2.06672565e-01, -2.42564757e-01, -3.61539998e-02,\n",
       "        -2.29563669e-02,  1.53399099e-02, -3.80268174e-02],\n",
       "       [ 0.00000000e+00,  0.00000000e+00,  0.00000000e+00,\n",
       "         0.00000000e+00,  0.00000000e+00,  0.00000000e+00,\n",
       "         0.00000000e+00,  0.00000000e+00,  1.00000000e+00,\n",
       "        -1.45310987e-01, -5.83981273e-02, -1.19383868e-02,\n",
       "         3.27406338e-03,  1.85117535e-01,  4.25176571e-02,\n",
       "         7.93845325e-02,  5.79580678e-02, -2.86640556e-02,\n",
       "         4.64697947e-02, -6.23797072e-02,  3.54629835e-02,\n",
       "         1.26837709e-02,  4.34827966e-02,  2.52815553e-02,\n",
       "         2.04936797e-02,  1.13915864e-02,  1.40697517e-02,\n",
       "         2.69233733e-02, -1.23964661e-02,  1.83285943e-02],\n",
       "       [ 0.00000000e+00,  0.00000000e+00,  0.00000000e+00,\n",
       "         0.00000000e+00,  0.00000000e+00,  0.00000000e+00,\n",
       "         0.00000000e+00,  0.00000000e+00,  0.00000000e+00,\n",
       "         1.00000000e+00, -1.84016526e-01, -3.17597063e-01,\n",
       "        -1.95152227e-01, -2.59356564e-01, -3.42662144e-02,\n",
       "         1.08445324e-01,  1.23531255e-01, -9.11871978e-02,\n",
       "         1.17759713e-01, -1.45764593e-01, -1.25722230e-02,\n",
       "        -1.05325260e-01,  3.00957916e-02,  6.08942244e-02,\n",
       "         6.80152043e-02, -8.77396443e-04, -3.04372857e-02,\n",
       "         4.21016193e-02, -1.18171570e-02, -1.17715374e-02],\n",
       "       [ 0.00000000e+00,  0.00000000e+00,  0.00000000e+00,\n",
       "         0.00000000e+00,  0.00000000e+00,  0.00000000e+00,\n",
       "         0.00000000e+00,  0.00000000e+00,  0.00000000e+00,\n",
       "         0.00000000e+00,  1.00000000e+00, -2.94457273e-01,\n",
       "        -1.82575471e-01, -2.91803216e-01,  6.66227846e-02,\n",
       "         1.16366368e-02,  1.04471348e-01,  8.54735017e-02,\n",
       "         2.25753750e-02,  3.87561205e-03,  5.47559501e-02,\n",
       "         6.24892132e-03,  6.05921477e-02, -1.04941698e-01,\n",
       "        -6.37717983e-02, -4.13272525e-02,  4.62318805e-02,\n",
       "         1.53595423e-03, -6.92179413e-02,  3.07868727e-02],\n",
       "       [ 0.00000000e+00,  0.00000000e+00,  0.00000000e+00,\n",
       "         0.00000000e+00,  0.00000000e+00,  0.00000000e+00,\n",
       "         0.00000000e+00,  0.00000000e+00,  0.00000000e+00,\n",
       "         0.00000000e+00,  0.00000000e+00,  1.00000000e+00,\n",
       "        -4.49727575e-01, -5.16973164e-01, -2.76763920e-01,\n",
       "        -2.44418034e-01, -2.53593707e-01, -3.04839564e-03,\n",
       "        -2.02628856e-01,  1.41877814e-01, -2.09515003e-01,\n",
       "        -1.00961810e-01, -1.80087044e-01,  6.49574121e-02,\n",
       "        -1.67807605e-02,  8.01437331e-02, -7.43308640e-02,\n",
       "        -6.76176901e-02,  4.64228003e-02, -7.79529890e-02],\n",
       "       [ 0.00000000e+00,  0.00000000e+00,  0.00000000e+00,\n",
       "         0.00000000e+00,  0.00000000e+00,  0.00000000e+00,\n",
       "         0.00000000e+00,  0.00000000e+00,  0.00000000e+00,\n",
       "         0.00000000e+00,  0.00000000e+00,  0.00000000e+00,\n",
       "         1.00000000e+00, -1.02012000e+00,  1.02062273e-01,\n",
       "        -6.59029142e-02, -2.03461789e-02,  1.41847996e-01,\n",
       "        -1.30441157e-01,  1.18701312e-01,  1.00571382e-01,\n",
       "         6.66300659e-02,  4.10366605e-02, -2.05718154e-01,\n",
       "        -1.60910111e-01, -8.84383239e-02,  1.00290166e-01,\n",
       "        -1.67182135e-02,  8.82475131e-03,  9.44745147e-02],\n",
       "       [ 0.00000000e+00,  0.00000000e+00,  0.00000000e+00,\n",
       "         0.00000000e+00,  0.00000000e+00,  0.00000000e+00,\n",
       "         0.00000000e+00,  0.00000000e+00,  0.00000000e+00,\n",
       "         0.00000000e+00,  0.00000000e+00,  0.00000000e+00,\n",
       "         0.00000000e+00,  1.00000000e+00,  2.63248443e+08,\n",
       "        -2.84879704e+09, -2.58204536e+09,  4.27615118e+09,\n",
       "        -3.36152847e+09,  4.72381222e+09, -1.99298860e+09,\n",
       "         2.15057256e+09,  4.29070421e+08,  2.68551906e+09,\n",
       "         8.95368264e+08,  8.88577057e+08, -4.88334068e+08,\n",
       "        -2.05832980e+09, -4.90575224e+09,  3.41149771e+08],\n",
       "       [ 0.00000000e+00,  0.00000000e+00,  0.00000000e+00,\n",
       "         0.00000000e+00,  0.00000000e+00,  0.00000000e+00,\n",
       "         0.00000000e+00,  0.00000000e+00,  0.00000000e+00,\n",
       "         0.00000000e+00,  0.00000000e+00,  0.00000000e+00,\n",
       "         0.00000000e+00,  0.00000000e+00,  1.00000000e+00,\n",
       "         3.23926610e-01,  3.84944109e-01,  1.57445386e-01,\n",
       "         1.99232044e-01, -7.72740060e-02,  4.24587874e-01,\n",
       "         1.53004181e-01,  3.04114858e-01, -3.59708685e-01,\n",
       "        -2.71808748e-01, -1.58035295e-01,  1.83525294e-01,\n",
       "         4.49814908e-02, -1.19750942e-02,  1.37561344e-01],\n",
       "       [ 0.00000000e+00,  0.00000000e+00,  0.00000000e+00,\n",
       "         0.00000000e+00,  0.00000000e+00,  0.00000000e+00,\n",
       "         0.00000000e+00,  0.00000000e+00,  0.00000000e+00,\n",
       "         0.00000000e+00,  0.00000000e+00,  0.00000000e+00,\n",
       "         0.00000000e+00,  0.00000000e+00,  0.00000000e+00,\n",
       "         1.00000000e+00,  4.48908151e-01, -6.14805235e-01,\n",
       "         6.27782192e-01, -7.58157971e-01,  3.42920516e-01,\n",
       "         1.05896723e-02,  3.08509822e-01,  4.18725647e-01,\n",
       "         4.29838155e-01,  4.04668133e-02, -9.70445460e-03,\n",
       "         2.53181851e-01, -2.67514243e-02,  4.90759332e-02],\n",
       "       [ 0.00000000e+00,  0.00000000e+00,  0.00000000e+00,\n",
       "         0.00000000e+00,  0.00000000e+00,  0.00000000e+00,\n",
       "         0.00000000e+00,  0.00000000e+00,  0.00000000e+00,\n",
       "         0.00000000e+00,  0.00000000e+00,  0.00000000e+00,\n",
       "         0.00000000e+00,  0.00000000e+00,  0.00000000e+00,\n",
       "         0.00000000e+00,  1.00000000e+00,  4.01537571e-01,\n",
       "         1.73034263e-01, -1.58616846e-01, -2.05503828e-01,\n",
       "        -3.62180620e-01,  1.15989555e-01, -1.68260077e-01,\n",
       "        -1.93687568e-01,  2.51217064e-03,  1.47993905e-01,\n",
       "         3.40620749e-02, -2.25352274e-01,  1.04462828e-01],\n",
       "       [ 0.00000000e+00,  0.00000000e+00,  0.00000000e+00,\n",
       "         0.00000000e+00,  0.00000000e+00,  0.00000000e+00,\n",
       "         0.00000000e+00,  0.00000000e+00,  0.00000000e+00,\n",
       "         0.00000000e+00,  0.00000000e+00,  0.00000000e+00,\n",
       "         0.00000000e+00,  0.00000000e+00,  0.00000000e+00,\n",
       "         0.00000000e+00,  0.00000000e+00,  1.00000000e+00,\n",
       "        -5.10719113e-01,  6.75061755e-01,  4.84289301e-01,\n",
       "         1.90035416e-01,  2.84603010e-01,  1.26373708e-01,\n",
       "        -1.13876235e-01,  2.95519995e-01,  4.91703731e-02,\n",
       "        -2.72007835e-02, -4.69377412e-02,  8.46896892e-02],\n",
       "       [ 0.00000000e+00,  0.00000000e+00,  0.00000000e+00,\n",
       "         0.00000000e+00,  0.00000000e+00,  0.00000000e+00,\n",
       "         0.00000000e+00,  0.00000000e+00,  0.00000000e+00,\n",
       "         0.00000000e+00,  0.00000000e+00,  0.00000000e+00,\n",
       "         0.00000000e+00,  0.00000000e+00,  0.00000000e+00,\n",
       "         0.00000000e+00,  0.00000000e+00,  0.00000000e+00,\n",
       "         1.00000000e+00, -7.32410535e-01, -1.24015185e-01,\n",
       "        -1.72972700e-01,  1.25320305e-01,  3.90968195e-03,\n",
       "         1.56617647e-01, -1.51718442e-01, -1.20462772e-01,\n",
       "        -7.81355835e-02,  2.97854207e-02, -1.06204699e-01],\n",
       "       [ 0.00000000e+00,  0.00000000e+00,  0.00000000e+00,\n",
       "         0.00000000e+00,  0.00000000e+00,  0.00000000e+00,\n",
       "         0.00000000e+00,  0.00000000e+00,  0.00000000e+00,\n",
       "         0.00000000e+00,  0.00000000e+00,  0.00000000e+00,\n",
       "         0.00000000e+00,  0.00000000e+00,  0.00000000e+00,\n",
       "         0.00000000e+00,  0.00000000e+00,  0.00000000e+00,\n",
       "         0.00000000e+00,  1.00000000e+00,  5.51476961e-01,\n",
       "         5.39447495e-01,  3.38542939e-01, -2.66393914e-01,\n",
       "        -2.83797863e-01, -1.41052427e-01, -1.49318460e-01,\n",
       "         2.02611449e-02,  1.18110924e-01, -8.76955603e-02],\n",
       "       [ 0.00000000e+00,  0.00000000e+00,  0.00000000e+00,\n",
       "         0.00000000e+00,  0.00000000e+00,  0.00000000e+00,\n",
       "         0.00000000e+00,  0.00000000e+00,  0.00000000e+00,\n",
       "         0.00000000e+00,  0.00000000e+00,  0.00000000e+00,\n",
       "         0.00000000e+00,  0.00000000e+00,  0.00000000e+00,\n",
       "         0.00000000e+00,  0.00000000e+00,  0.00000000e+00,\n",
       "         0.00000000e+00,  0.00000000e+00,  1.00000000e+00,\n",
       "         5.95747613e-01,  5.57126896e-01, -4.30256176e-01,\n",
       "        -2.93466064e-01, -2.05911128e-01,  3.77998258e-02,\n",
       "        -1.44927365e-02,  1.25692733e-02,  1.30496948e-01],\n",
       "       [ 0.00000000e+00,  0.00000000e+00,  0.00000000e+00,\n",
       "         0.00000000e+00,  0.00000000e+00,  0.00000000e+00,\n",
       "         0.00000000e+00,  0.00000000e+00,  0.00000000e+00,\n",
       "         0.00000000e+00,  0.00000000e+00,  0.00000000e+00,\n",
       "         0.00000000e+00,  0.00000000e+00,  0.00000000e+00,\n",
       "         0.00000000e+00,  0.00000000e+00,  0.00000000e+00,\n",
       "         0.00000000e+00,  0.00000000e+00,  0.00000000e+00,\n",
       "         1.00000000e+00, -2.43513429e-01,  1.20446908e-01,\n",
       "         1.60809658e-01, -4.86692419e-02,  2.06161744e-02,\n",
       "         1.85303162e-02, -5.58573756e-02, -1.32502264e-02],\n",
       "       [ 0.00000000e+00,  0.00000000e+00,  0.00000000e+00,\n",
       "         0.00000000e+00,  0.00000000e+00,  0.00000000e+00,\n",
       "         0.00000000e+00,  0.00000000e+00,  0.00000000e+00,\n",
       "         0.00000000e+00,  0.00000000e+00,  0.00000000e+00,\n",
       "         0.00000000e+00,  0.00000000e+00,  0.00000000e+00,\n",
       "         0.00000000e+00,  0.00000000e+00,  0.00000000e+00,\n",
       "         0.00000000e+00,  0.00000000e+00,  0.00000000e+00,\n",
       "         0.00000000e+00,  1.00000000e+00, -5.30726322e-02,\n",
       "        -1.24256065e-01,  7.45431138e-02, -4.14083760e-03,\n",
       "        -2.38133132e-02,  7.89604295e-03, -1.91629305e-02],\n",
       "       [ 0.00000000e+00,  0.00000000e+00,  0.00000000e+00,\n",
       "         0.00000000e+00,  0.00000000e+00,  0.00000000e+00,\n",
       "         0.00000000e+00,  0.00000000e+00,  0.00000000e+00,\n",
       "         0.00000000e+00,  0.00000000e+00,  0.00000000e+00,\n",
       "         0.00000000e+00,  0.00000000e+00,  0.00000000e+00,\n",
       "         0.00000000e+00,  0.00000000e+00,  0.00000000e+00,\n",
       "         0.00000000e+00,  0.00000000e+00,  0.00000000e+00,\n",
       "         0.00000000e+00,  0.00000000e+00,  1.00000000e+00,\n",
       "         5.99825082e-01,  8.23195715e-01, -5.70756034e-03,\n",
       "         2.24765516e-02, -2.81300691e-02, -5.02093163e-02],\n",
       "       [ 0.00000000e+00,  0.00000000e+00,  0.00000000e+00,\n",
       "         0.00000000e+00,  0.00000000e+00,  0.00000000e+00,\n",
       "         0.00000000e+00,  0.00000000e+00,  0.00000000e+00,\n",
       "         0.00000000e+00,  0.00000000e+00,  0.00000000e+00,\n",
       "         0.00000000e+00,  0.00000000e+00,  0.00000000e+00,\n",
       "         0.00000000e+00,  0.00000000e+00,  0.00000000e+00,\n",
       "         0.00000000e+00,  0.00000000e+00,  0.00000000e+00,\n",
       "         0.00000000e+00,  0.00000000e+00,  0.00000000e+00,\n",
       "         1.00000000e+00, -6.58444869e-01,  3.24660661e-02,\n",
       "        -3.18194341e-02, -3.55357826e-02,  1.18837824e-02],\n",
       "       [ 0.00000000e+00,  0.00000000e+00,  0.00000000e+00,\n",
       "         0.00000000e+00,  0.00000000e+00,  0.00000000e+00,\n",
       "         0.00000000e+00,  0.00000000e+00,  0.00000000e+00,\n",
       "         0.00000000e+00,  0.00000000e+00,  0.00000000e+00,\n",
       "         0.00000000e+00,  0.00000000e+00,  0.00000000e+00,\n",
       "         0.00000000e+00,  0.00000000e+00,  0.00000000e+00,\n",
       "         0.00000000e+00,  0.00000000e+00,  0.00000000e+00,\n",
       "         0.00000000e+00,  0.00000000e+00,  0.00000000e+00,\n",
       "         0.00000000e+00,  1.00000000e+00,  1.04766294e-02,\n",
       "        -5.91644855e-02,  2.14340501e-02,  3.47490015e-02],\n",
       "       [ 0.00000000e+00,  0.00000000e+00,  0.00000000e+00,\n",
       "         0.00000000e+00,  0.00000000e+00,  0.00000000e+00,\n",
       "         0.00000000e+00,  0.00000000e+00,  0.00000000e+00,\n",
       "         0.00000000e+00,  0.00000000e+00,  0.00000000e+00,\n",
       "         0.00000000e+00,  0.00000000e+00,  0.00000000e+00,\n",
       "         0.00000000e+00,  0.00000000e+00,  0.00000000e+00,\n",
       "         0.00000000e+00,  0.00000000e+00,  0.00000000e+00,\n",
       "         0.00000000e+00,  0.00000000e+00,  0.00000000e+00,\n",
       "         0.00000000e+00,  0.00000000e+00,  1.00000000e+00,\n",
       "         2.28281171e-01, -4.79416550e-01,  7.08437166e-01],\n",
       "       [ 0.00000000e+00,  0.00000000e+00,  0.00000000e+00,\n",
       "         0.00000000e+00,  0.00000000e+00,  0.00000000e+00,\n",
       "         0.00000000e+00,  0.00000000e+00,  0.00000000e+00,\n",
       "         0.00000000e+00,  0.00000000e+00,  0.00000000e+00,\n",
       "         0.00000000e+00,  0.00000000e+00,  0.00000000e+00,\n",
       "         0.00000000e+00,  0.00000000e+00,  0.00000000e+00,\n",
       "         0.00000000e+00,  0.00000000e+00,  0.00000000e+00,\n",
       "         0.00000000e+00,  0.00000000e+00,  0.00000000e+00,\n",
       "         0.00000000e+00,  0.00000000e+00,  0.00000000e+00,\n",
       "         1.00000000e+00, -1.37630113e-01,  2.51643652e-01],\n",
       "       [ 0.00000000e+00,  0.00000000e+00,  0.00000000e+00,\n",
       "         0.00000000e+00,  0.00000000e+00,  0.00000000e+00,\n",
       "         0.00000000e+00,  0.00000000e+00,  0.00000000e+00,\n",
       "         0.00000000e+00,  0.00000000e+00,  0.00000000e+00,\n",
       "         0.00000000e+00,  0.00000000e+00,  0.00000000e+00,\n",
       "         0.00000000e+00,  0.00000000e+00,  0.00000000e+00,\n",
       "         0.00000000e+00,  0.00000000e+00,  0.00000000e+00,\n",
       "         0.00000000e+00,  0.00000000e+00,  0.00000000e+00,\n",
       "         0.00000000e+00,  0.00000000e+00,  0.00000000e+00,\n",
       "         0.00000000e+00,  1.00000000e+00, -3.52418391e-02],\n",
       "       [ 0.00000000e+00,  0.00000000e+00,  0.00000000e+00,\n",
       "         0.00000000e+00,  0.00000000e+00,  0.00000000e+00,\n",
       "         0.00000000e+00,  0.00000000e+00,  0.00000000e+00,\n",
       "         0.00000000e+00,  0.00000000e+00,  0.00000000e+00,\n",
       "         0.00000000e+00,  0.00000000e+00,  0.00000000e+00,\n",
       "         0.00000000e+00,  0.00000000e+00,  0.00000000e+00,\n",
       "         0.00000000e+00,  0.00000000e+00,  0.00000000e+00,\n",
       "         0.00000000e+00,  0.00000000e+00,  0.00000000e+00,\n",
       "         0.00000000e+00,  0.00000000e+00,  0.00000000e+00,\n",
       "         0.00000000e+00,  0.00000000e+00,  1.00000000e+00]])"
      ]
     },
     "execution_count": 21,
     "metadata": {},
     "output_type": "execute_result"
    }
   ],
   "source": [
    "R"
   ]
  },
  {
   "cell_type": "markdown",
   "id": "036df59f",
   "metadata": {},
   "source": [
    "Now that we got Q and R, we can check if the QR factorization was done correctly. For QR factorization, the training data D will be \n",
    "\n",
    "D = Q * R"
   ]
  },
  {
   "cell_type": "code",
   "execution_count": 26,
   "id": "7df2277e",
   "metadata": {},
   "outputs": [],
   "source": [
    "matr = np.matmul(Q, R)"
   ]
  },
  {
   "cell_type": "code",
   "execution_count": 27,
   "id": "c0512bb4",
   "metadata": {},
   "outputs": [
    {
     "data": {
      "text/plain": [
       "array([[ 1.        ,  0.76066508,  1.00690312, ..., -0.26330178,\n",
       "         0.83711369, -0.69029101],\n",
       "       [ 1.        , -0.65736617, -0.08776171, ..., -0.26330178,\n",
       "         0.83711369, -0.69029101],\n",
       "       [ 1.        , -0.65736617, -0.66716439, ..., -0.26330178,\n",
       "         0.83711369, -0.69029101],\n",
       "       ...,\n",
       "       [ 1.        , -0.65736617,  0.90855432, ..., -0.26330178,\n",
       "         0.83711369, -0.69029101],\n",
       "       [ 1.        ,  0.28798799,  3.06153769, ..., -1.76983497,\n",
       "        -0.75038339,  1.07998198],\n",
       "       [ 1.        ,  1.23334216, -0.60516189, ...,  0.39580649,\n",
       "        -0.88267481,  0.08420343]])"
      ]
     },
     "execution_count": 27,
     "metadata": {},
     "output_type": "execute_result"
    }
   ],
   "source": [
    "matr"
   ]
  },
  {
   "cell_type": "code",
   "execution_count": 28,
   "id": "df9a903e",
   "metadata": {},
   "outputs": [
    {
     "data": {
      "text/plain": [
       "array([[ 1.        ,  0.76066508,  1.00690312, ..., -0.26330178,\n",
       "         0.83711369, -0.69029101],\n",
       "       [ 1.        , -0.65736617, -0.08776171, ..., -0.26330178,\n",
       "         0.83711369, -0.69029101],\n",
       "       [ 1.        , -0.65736617, -0.66716439, ..., -0.26330178,\n",
       "         0.83711369, -0.69029101],\n",
       "       ...,\n",
       "       [ 1.        , -0.65736617,  0.90855432, ..., -0.26330178,\n",
       "         0.83711369, -0.69029101],\n",
       "       [ 1.        ,  0.28798799,  3.06153769, ..., -1.76983497,\n",
       "        -0.75038339,  1.07998198],\n",
       "       [ 1.        ,  1.23334216, -0.60516189, ...,  0.39580649,\n",
       "        -0.88267481,  0.08420343]])"
      ]
     },
     "execution_count": 28,
     "metadata": {},
     "output_type": "execute_result"
    }
   ],
   "source": [
    "x_train"
   ]
  },
  {
   "cell_type": "markdown",
   "id": "36d0ad36",
   "metadata": {},
   "source": [
    "The Product of the Q and R matrices and the x_train matrix are the same, so the Factorization was done correctly. "
   ]
  },
  {
   "cell_type": "markdown",
   "id": "5cabba9f",
   "metadata": {},
   "source": [
    "### Getting the Delta Matrix"
   ]
  },
  {
   "cell_type": "markdown",
   "id": "288afaff",
   "metadata": {},
   "source": [
    "The delta matrix is simply the diagonal matrix of the squared norms of the Q column vectors. "
   ]
  },
  {
   "cell_type": "code",
   "execution_count": 31,
   "id": "e84883f7",
   "metadata": {},
   "outputs": [],
   "source": [
    "# first create the vector, which will be the diagonal\n",
    "delta_diagonal = []\n",
    "for i in range(len(Q.T)):\n",
    "    dot = np.dot(Q[:, i], Q[:, i])\n",
    "    delta_diagonal.append(dot)\n",
    "\n",
    "delta_diagonal = np.array(delta_diagonal)\n",
    "\n",
    "# now make it into a diagonal matrix\n",
    "delta = np.diag(delta_diagonal)"
   ]
  },
  {
   "cell_type": "markdown",
   "id": "72b2086f",
   "metadata": {},
   "source": [
    "### Getting Delta Inverse"
   ]
  },
  {
   "cell_type": "code",
   "execution_count": 33,
   "id": "ecd5e776",
   "metadata": {},
   "outputs": [],
   "source": [
    "delta_inv = np.linalg.inv(delta)"
   ]
  },
  {
   "cell_type": "markdown",
   "id": "7f5babf5",
   "metadata": {},
   "source": [
    "### Getting R inverse"
   ]
  },
  {
   "cell_type": "code",
   "execution_count": 35,
   "id": "6d4f1f1b",
   "metadata": {},
   "outputs": [],
   "source": [
    "R_inv = np.linalg.inv(R)"
   ]
  },
  {
   "cell_type": "markdown",
   "id": "83d8d25e",
   "metadata": {},
   "source": [
    "### Solve for the weight vector"
   ]
  },
  {
   "cell_type": "code",
   "execution_count": 39,
   "id": "293f249f",
   "metadata": {},
   "outputs": [],
   "source": [
    "t1 = np.dot(Q.T, y_train)"
   ]
  },
  {
   "cell_type": "code",
   "execution_count": 40,
   "id": "d79f26a6",
   "metadata": {},
   "outputs": [],
   "source": [
    "t2 = np.dot(delta_inv, t1)"
   ]
  },
  {
   "cell_type": "code",
   "execution_count": 41,
   "id": "442afd84",
   "metadata": {},
   "outputs": [],
   "source": [
    "weights = np.dot(R_inv, t2)"
   ]
  },
  {
   "cell_type": "code",
   "execution_count": 42,
   "id": "ff2ab49e",
   "metadata": {},
   "outputs": [
    {
     "data": {
      "text/plain": [
       "array([ 3.40671589e+03,  1.14983442e+02,  4.34197860e+01,  4.51148103e+02,\n",
       "       -2.55123355e+02,  1.60751660e+02,  6.92285331e+01, -2.53209371e+02,\n",
       "        2.09448153e+02,  4.33675185e+13,  3.65081402e+13,  4.65433152e+13,\n",
       "        4.86598032e+13,  4.77000775e+13,  5.35003137e+02, -3.20932785e+01,\n",
       "       -1.55609941e+02,  3.59935403e+01, -2.44346667e+02, -1.76628520e+02,\n",
       "        1.54116966e+00, -9.25278069e+01, -4.42302714e+01, -2.01410725e+02,\n",
       "        6.67962243e+01, -1.05268772e+02, -2.30387594e+01,  4.45954720e+01,\n",
       "        6.01780802e+01,  1.55689608e+02])"
      ]
     },
     "execution_count": 42,
     "metadata": {},
     "output_type": "execute_result"
    }
   ],
   "source": [
    "weights"
   ]
  },
  {
   "cell_type": "markdown",
   "id": "60292a7d",
   "metadata": {},
   "source": [
    "### Calculate the Y-hat values"
   ]
  },
  {
   "cell_type": "code",
   "execution_count": 60,
   "id": "72a753f1",
   "metadata": {},
   "outputs": [],
   "source": [
    "y_pred = np.dot(x_test, weights)"
   ]
  },
  {
   "cell_type": "markdown",
   "id": "3cbb99ec",
   "metadata": {},
   "source": [
    "### Calculate SSE"
   ]
  },
  {
   "cell_type": "code",
   "execution_count": 63,
   "id": "72e9fe2d",
   "metadata": {},
   "outputs": [],
   "source": [
    "diff = y_test - y_pred\n",
    "SSE = np.dot(diff, diff)"
   ]
  },
  {
   "cell_type": "code",
   "execution_count": 64,
   "id": "36f71d8b",
   "metadata": {},
   "outputs": [
    {
     "data": {
      "text/plain": [
       "2.723291872261555e+28"
      ]
     },
     "execution_count": 64,
     "metadata": {},
     "output_type": "execute_result"
    }
   ],
   "source": [
    "SSE"
   ]
  },
  {
   "cell_type": "markdown",
   "id": "b6df1a1f",
   "metadata": {},
   "source": [
    "### Calculate TSS"
   ]
  },
  {
   "cell_type": "code",
   "execution_count": 67,
   "id": "6c2339ea",
   "metadata": {},
   "outputs": [],
   "source": [
    "y_mu = np.mean(y_test)\n",
    "diff2 = y_test - y_mu\n",
    "TSS = np.dot(diff2, diff2)"
   ]
  },
  {
   "cell_type": "code",
   "execution_count": 68,
   "id": "e59dde0f",
   "metadata": {},
   "outputs": [
    {
     "data": {
      "text/plain": [
       "277008716210.6517"
      ]
     },
     "execution_count": 68,
     "metadata": {},
     "output_type": "execute_result"
    }
   ],
   "source": [
    "TSS"
   ]
  },
  {
   "cell_type": "markdown",
   "id": "b5c1098a",
   "metadata": {},
   "source": [
    "# Calculate the R^2 metric"
   ]
  },
  {
   "cell_type": "code",
   "execution_count": 69,
   "id": "85586221",
   "metadata": {},
   "outputs": [],
   "source": [
    "R2 = (TSS - SSE) / TSS"
   ]
  },
  {
   "cell_type": "code",
   "execution_count": 70,
   "id": "e692f990",
   "metadata": {},
   "outputs": [
    {
     "data": {
      "text/plain": [
       "-9.831069251231155e+16"
      ]
     },
     "execution_count": 70,
     "metadata": {},
     "output_type": "execute_result"
    }
   ],
   "source": [
    "R2"
   ]
  },
  {
   "cell_type": "markdown",
   "id": "6b2bc78d",
   "metadata": {},
   "source": [
    "# Part2: Linear Regression with Regularization"
   ]
  },
  {
   "cell_type": "code",
   "execution_count": null,
   "id": "37fb705e",
   "metadata": {},
   "outputs": [],
   "source": []
  }
 ],
 "metadata": {
  "kernelspec": {
   "display_name": "Python 3 (ipykernel)",
   "language": "python",
   "name": "python3"
  },
  "language_info": {
   "codemirror_mode": {
    "name": "ipython",
    "version": 3
   },
   "file_extension": ".py",
   "mimetype": "text/x-python",
   "name": "python",
   "nbconvert_exporter": "python",
   "pygments_lexer": "ipython3",
   "version": "3.9.12"
  }
 },
 "nbformat": 4,
 "nbformat_minor": 5
}
