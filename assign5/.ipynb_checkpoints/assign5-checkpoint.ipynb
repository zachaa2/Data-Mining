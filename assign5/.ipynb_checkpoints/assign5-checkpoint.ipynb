{
 "cells": [
  {
   "cell_type": "markdown",
   "id": "f32ad333",
   "metadata": {},
   "source": [
    "# Importing Dependancies"
   ]
  },
  {
   "cell_type": "code",
   "execution_count": 26,
   "id": "9f91a155",
   "metadata": {},
   "outputs": [],
   "source": [
    "import numpy as np\n",
    "import pandas as pd\n",
    "import warnings\n",
    "import copy\n",
    "import random\n",
    "from sklearn.metrics import accuracy_score\n",
    "from sklearn.preprocessing import StandardScaler\n",
    "warnings.filterwarnings(\"ignore\")"
   ]
  },
  {
   "cell_type": "markdown",
   "id": "e831ab79",
   "metadata": {},
   "source": [
    "# Read in Dataset"
   ]
  },
  {
   "cell_type": "code",
   "execution_count": 2,
   "id": "2a0ae9a3",
   "metadata": {},
   "outputs": [
    {
     "name": "stdout",
     "output_type": "stream",
     "text": [
      "<class 'pandas.core.frame.DataFrame'>\n",
      "RangeIndex: 39644 entries, 0 to 39643\n",
      "Data columns (total 61 columns):\n",
      " #   Column                          Non-Null Count  Dtype  \n",
      "---  ------                          --------------  -----  \n",
      " 0   url                             39644 non-null  object \n",
      " 1    timedelta                      39644 non-null  float64\n",
      " 2    n_tokens_title                 39644 non-null  float64\n",
      " 3    n_tokens_content               39644 non-null  float64\n",
      " 4    n_unique_tokens                39644 non-null  float64\n",
      " 5    n_non_stop_words               39644 non-null  float64\n",
      " 6    n_non_stop_unique_tokens       39644 non-null  float64\n",
      " 7    num_hrefs                      39644 non-null  float64\n",
      " 8    num_self_hrefs                 39644 non-null  float64\n",
      " 9    num_imgs                       39644 non-null  float64\n",
      " 10   num_videos                     39644 non-null  float64\n",
      " 11   average_token_length           39644 non-null  float64\n",
      " 12   num_keywords                   39644 non-null  float64\n",
      " 13   data_channel_is_lifestyle      39644 non-null  float64\n",
      " 14   data_channel_is_entertainment  39644 non-null  float64\n",
      " 15   data_channel_is_bus            39644 non-null  float64\n",
      " 16   data_channel_is_socmed         39644 non-null  float64\n",
      " 17   data_channel_is_tech           39644 non-null  float64\n",
      " 18   data_channel_is_world          39644 non-null  float64\n",
      " 19   kw_min_min                     39644 non-null  float64\n",
      " 20   kw_max_min                     39644 non-null  float64\n",
      " 21   kw_avg_min                     39644 non-null  float64\n",
      " 22   kw_min_max                     39644 non-null  float64\n",
      " 23   kw_max_max                     39644 non-null  float64\n",
      " 24   kw_avg_max                     39644 non-null  float64\n",
      " 25   kw_min_avg                     39644 non-null  float64\n",
      " 26   kw_max_avg                     39644 non-null  float64\n",
      " 27   kw_avg_avg                     39644 non-null  float64\n",
      " 28   self_reference_min_shares      39644 non-null  float64\n",
      " 29   self_reference_max_shares      39644 non-null  float64\n",
      " 30   self_reference_avg_sharess     39644 non-null  float64\n",
      " 31   weekday_is_monday              39644 non-null  float64\n",
      " 32   weekday_is_tuesday             39644 non-null  float64\n",
      " 33   weekday_is_wednesday           39644 non-null  float64\n",
      " 34   weekday_is_thursday            39644 non-null  float64\n",
      " 35   weekday_is_friday              39644 non-null  float64\n",
      " 36   weekday_is_saturday            39644 non-null  float64\n",
      " 37   weekday_is_sunday              39644 non-null  float64\n",
      " 38   is_weekend                     39644 non-null  float64\n",
      " 39   LDA_00                         39644 non-null  float64\n",
      " 40   LDA_01                         39644 non-null  float64\n",
      " 41   LDA_02                         39644 non-null  float64\n",
      " 42   LDA_03                         39644 non-null  float64\n",
      " 43   LDA_04                         39644 non-null  float64\n",
      " 44   global_subjectivity            39644 non-null  float64\n",
      " 45   global_sentiment_polarity      39644 non-null  float64\n",
      " 46   global_rate_positive_words     39644 non-null  float64\n",
      " 47   global_rate_negative_words     39644 non-null  float64\n",
      " 48   rate_positive_words            39644 non-null  float64\n",
      " 49   rate_negative_words            39644 non-null  float64\n",
      " 50   avg_positive_polarity          39644 non-null  float64\n",
      " 51   min_positive_polarity          39644 non-null  float64\n",
      " 52   max_positive_polarity          39644 non-null  float64\n",
      " 53   avg_negative_polarity          39644 non-null  float64\n",
      " 54   min_negative_polarity          39644 non-null  float64\n",
      " 55   max_negative_polarity          39644 non-null  float64\n",
      " 56   title_subjectivity             39644 non-null  float64\n",
      " 57   title_sentiment_polarity       39644 non-null  float64\n",
      " 58   abs_title_subjectivity         39644 non-null  float64\n",
      " 59   abs_title_sentiment_polarity   39644 non-null  float64\n",
      " 60   shares                         39644 non-null  int64  \n",
      "dtypes: float64(59), int64(1), object(1)\n",
      "memory usage: 18.5+ MB\n"
     ]
    }
   ],
   "source": [
    "# read data into dataframe\n",
    "df = pd.read_csv(\"./OnlineNewsPopularity.csv\")\n",
    "df.info()"
   ]
  },
  {
   "cell_type": "markdown",
   "id": "678102a6",
   "metadata": {},
   "source": [
    "# Preprocessing"
   ]
  },
  {
   "cell_type": "markdown",
   "id": "7c7b9b37",
   "metadata": {},
   "source": [
    "### Split into data and target labels"
   ]
  },
  {
   "cell_type": "code",
   "execution_count": 3,
   "id": "30e49e57",
   "metadata": {},
   "outputs": [],
   "source": [
    "y = df.iloc[:, 60]\n",
    "x = df.iloc[:, 0:60]"
   ]
  },
  {
   "cell_type": "markdown",
   "id": "cb4a4867",
   "metadata": {},
   "source": [
    "### Independant Variables"
   ]
  },
  {
   "cell_type": "code",
   "execution_count": 4,
   "id": "1f12af53",
   "metadata": {},
   "outputs": [
    {
     "name": "stdout",
     "output_type": "stream",
     "text": [
      "<class 'pandas.core.frame.DataFrame'>\n",
      "RangeIndex: 39644 entries, 0 to 39643\n",
      "Data columns (total 60 columns):\n",
      " #   Column                          Non-Null Count  Dtype  \n",
      "---  ------                          --------------  -----  \n",
      " 0   url                             39644 non-null  object \n",
      " 1    timedelta                      39644 non-null  float64\n",
      " 2    n_tokens_title                 39644 non-null  float64\n",
      " 3    n_tokens_content               39644 non-null  float64\n",
      " 4    n_unique_tokens                39644 non-null  float64\n",
      " 5    n_non_stop_words               39644 non-null  float64\n",
      " 6    n_non_stop_unique_tokens       39644 non-null  float64\n",
      " 7    num_hrefs                      39644 non-null  float64\n",
      " 8    num_self_hrefs                 39644 non-null  float64\n",
      " 9    num_imgs                       39644 non-null  float64\n",
      " 10   num_videos                     39644 non-null  float64\n",
      " 11   average_token_length           39644 non-null  float64\n",
      " 12   num_keywords                   39644 non-null  float64\n",
      " 13   data_channel_is_lifestyle      39644 non-null  float64\n",
      " 14   data_channel_is_entertainment  39644 non-null  float64\n",
      " 15   data_channel_is_bus            39644 non-null  float64\n",
      " 16   data_channel_is_socmed         39644 non-null  float64\n",
      " 17   data_channel_is_tech           39644 non-null  float64\n",
      " 18   data_channel_is_world          39644 non-null  float64\n",
      " 19   kw_min_min                     39644 non-null  float64\n",
      " 20   kw_max_min                     39644 non-null  float64\n",
      " 21   kw_avg_min                     39644 non-null  float64\n",
      " 22   kw_min_max                     39644 non-null  float64\n",
      " 23   kw_max_max                     39644 non-null  float64\n",
      " 24   kw_avg_max                     39644 non-null  float64\n",
      " 25   kw_min_avg                     39644 non-null  float64\n",
      " 26   kw_max_avg                     39644 non-null  float64\n",
      " 27   kw_avg_avg                     39644 non-null  float64\n",
      " 28   self_reference_min_shares      39644 non-null  float64\n",
      " 29   self_reference_max_shares      39644 non-null  float64\n",
      " 30   self_reference_avg_sharess     39644 non-null  float64\n",
      " 31   weekday_is_monday              39644 non-null  float64\n",
      " 32   weekday_is_tuesday             39644 non-null  float64\n",
      " 33   weekday_is_wednesday           39644 non-null  float64\n",
      " 34   weekday_is_thursday            39644 non-null  float64\n",
      " 35   weekday_is_friday              39644 non-null  float64\n",
      " 36   weekday_is_saturday            39644 non-null  float64\n",
      " 37   weekday_is_sunday              39644 non-null  float64\n",
      " 38   is_weekend                     39644 non-null  float64\n",
      " 39   LDA_00                         39644 non-null  float64\n",
      " 40   LDA_01                         39644 non-null  float64\n",
      " 41   LDA_02                         39644 non-null  float64\n",
      " 42   LDA_03                         39644 non-null  float64\n",
      " 43   LDA_04                         39644 non-null  float64\n",
      " 44   global_subjectivity            39644 non-null  float64\n",
      " 45   global_sentiment_polarity      39644 non-null  float64\n",
      " 46   global_rate_positive_words     39644 non-null  float64\n",
      " 47   global_rate_negative_words     39644 non-null  float64\n",
      " 48   rate_positive_words            39644 non-null  float64\n",
      " 49   rate_negative_words            39644 non-null  float64\n",
      " 50   avg_positive_polarity          39644 non-null  float64\n",
      " 51   min_positive_polarity          39644 non-null  float64\n",
      " 52   max_positive_polarity          39644 non-null  float64\n",
      " 53   avg_negative_polarity          39644 non-null  float64\n",
      " 54   min_negative_polarity          39644 non-null  float64\n",
      " 55   max_negative_polarity          39644 non-null  float64\n",
      " 56   title_subjectivity             39644 non-null  float64\n",
      " 57   title_sentiment_polarity       39644 non-null  float64\n",
      " 58   abs_title_subjectivity         39644 non-null  float64\n",
      " 59   abs_title_sentiment_polarity   39644 non-null  float64\n",
      "dtypes: float64(59), object(1)\n",
      "memory usage: 18.1+ MB\n"
     ]
    }
   ],
   "source": [
    "x.info()"
   ]
  },
  {
   "cell_type": "markdown",
   "id": "2a61ea34",
   "metadata": {},
   "source": [
    "### Dependant Variables"
   ]
  },
  {
   "cell_type": "code",
   "execution_count": 5,
   "id": "4e32800f",
   "metadata": {},
   "outputs": [],
   "source": [
    "# y.info()"
   ]
  },
  {
   "cell_type": "markdown",
   "id": "22460223",
   "metadata": {},
   "source": [
    "### Drop Unused Features"
   ]
  },
  {
   "cell_type": "code",
   "execution_count": 6,
   "id": "370d68dd",
   "metadata": {},
   "outputs": [
    {
     "data": {
      "text/html": [
       "<div>\n",
       "<style scoped>\n",
       "    .dataframe tbody tr th:only-of-type {\n",
       "        vertical-align: middle;\n",
       "    }\n",
       "\n",
       "    .dataframe tbody tr th {\n",
       "        vertical-align: top;\n",
       "    }\n",
       "\n",
       "    .dataframe thead th {\n",
       "        text-align: right;\n",
       "    }\n",
       "</style>\n",
       "<table border=\"1\" class=\"dataframe\">\n",
       "  <thead>\n",
       "    <tr style=\"text-align: right;\">\n",
       "      <th></th>\n",
       "      <th>n_tokens_title</th>\n",
       "      <th>n_tokens_content</th>\n",
       "      <th>num_hrefs</th>\n",
       "      <th>num_self_hrefs</th>\n",
       "      <th>num_imgs</th>\n",
       "      <th>num_videos</th>\n",
       "      <th>average_token_length</th>\n",
       "      <th>num_keywords</th>\n",
       "      <th>LDA_00</th>\n",
       "      <th>LDA_01</th>\n",
       "      <th>...</th>\n",
       "      <th>avg_positive_polarity</th>\n",
       "      <th>min_positive_polarity</th>\n",
       "      <th>max_positive_polarity</th>\n",
       "      <th>avg_negative_polarity</th>\n",
       "      <th>min_negative_polarity</th>\n",
       "      <th>max_negative_polarity</th>\n",
       "      <th>title_subjectivity</th>\n",
       "      <th>title_sentiment_polarity</th>\n",
       "      <th>abs_title_subjectivity</th>\n",
       "      <th>abs_title_sentiment_polarity</th>\n",
       "    </tr>\n",
       "  </thead>\n",
       "  <tbody>\n",
       "    <tr>\n",
       "      <th>0</th>\n",
       "      <td>12.0</td>\n",
       "      <td>219.0</td>\n",
       "      <td>4.0</td>\n",
       "      <td>2.0</td>\n",
       "      <td>1.0</td>\n",
       "      <td>0.0</td>\n",
       "      <td>4.680365</td>\n",
       "      <td>5.0</td>\n",
       "      <td>0.500331</td>\n",
       "      <td>0.378279</td>\n",
       "      <td>...</td>\n",
       "      <td>0.378636</td>\n",
       "      <td>0.100000</td>\n",
       "      <td>0.7</td>\n",
       "      <td>-0.350000</td>\n",
       "      <td>-0.600</td>\n",
       "      <td>-0.200000</td>\n",
       "      <td>0.500000</td>\n",
       "      <td>-0.187500</td>\n",
       "      <td>0.000000</td>\n",
       "      <td>0.187500</td>\n",
       "    </tr>\n",
       "    <tr>\n",
       "      <th>1</th>\n",
       "      <td>9.0</td>\n",
       "      <td>255.0</td>\n",
       "      <td>3.0</td>\n",
       "      <td>1.0</td>\n",
       "      <td>1.0</td>\n",
       "      <td>0.0</td>\n",
       "      <td>4.913725</td>\n",
       "      <td>4.0</td>\n",
       "      <td>0.799756</td>\n",
       "      <td>0.050047</td>\n",
       "      <td>...</td>\n",
       "      <td>0.286915</td>\n",
       "      <td>0.033333</td>\n",
       "      <td>0.7</td>\n",
       "      <td>-0.118750</td>\n",
       "      <td>-0.125</td>\n",
       "      <td>-0.100000</td>\n",
       "      <td>0.000000</td>\n",
       "      <td>0.000000</td>\n",
       "      <td>0.500000</td>\n",
       "      <td>0.000000</td>\n",
       "    </tr>\n",
       "    <tr>\n",
       "      <th>2</th>\n",
       "      <td>9.0</td>\n",
       "      <td>211.0</td>\n",
       "      <td>3.0</td>\n",
       "      <td>1.0</td>\n",
       "      <td>1.0</td>\n",
       "      <td>0.0</td>\n",
       "      <td>4.393365</td>\n",
       "      <td>6.0</td>\n",
       "      <td>0.217792</td>\n",
       "      <td>0.033334</td>\n",
       "      <td>...</td>\n",
       "      <td>0.495833</td>\n",
       "      <td>0.100000</td>\n",
       "      <td>1.0</td>\n",
       "      <td>-0.466667</td>\n",
       "      <td>-0.800</td>\n",
       "      <td>-0.133333</td>\n",
       "      <td>0.000000</td>\n",
       "      <td>0.000000</td>\n",
       "      <td>0.500000</td>\n",
       "      <td>0.000000</td>\n",
       "    </tr>\n",
       "    <tr>\n",
       "      <th>3</th>\n",
       "      <td>9.0</td>\n",
       "      <td>531.0</td>\n",
       "      <td>9.0</td>\n",
       "      <td>0.0</td>\n",
       "      <td>1.0</td>\n",
       "      <td>0.0</td>\n",
       "      <td>4.404896</td>\n",
       "      <td>7.0</td>\n",
       "      <td>0.028573</td>\n",
       "      <td>0.419300</td>\n",
       "      <td>...</td>\n",
       "      <td>0.385965</td>\n",
       "      <td>0.136364</td>\n",
       "      <td>0.8</td>\n",
       "      <td>-0.369697</td>\n",
       "      <td>-0.600</td>\n",
       "      <td>-0.166667</td>\n",
       "      <td>0.000000</td>\n",
       "      <td>0.000000</td>\n",
       "      <td>0.500000</td>\n",
       "      <td>0.000000</td>\n",
       "    </tr>\n",
       "    <tr>\n",
       "      <th>4</th>\n",
       "      <td>13.0</td>\n",
       "      <td>1072.0</td>\n",
       "      <td>19.0</td>\n",
       "      <td>19.0</td>\n",
       "      <td>20.0</td>\n",
       "      <td>0.0</td>\n",
       "      <td>4.682836</td>\n",
       "      <td>7.0</td>\n",
       "      <td>0.028633</td>\n",
       "      <td>0.028794</td>\n",
       "      <td>...</td>\n",
       "      <td>0.411127</td>\n",
       "      <td>0.033333</td>\n",
       "      <td>1.0</td>\n",
       "      <td>-0.220192</td>\n",
       "      <td>-0.500</td>\n",
       "      <td>-0.050000</td>\n",
       "      <td>0.454545</td>\n",
       "      <td>0.136364</td>\n",
       "      <td>0.045455</td>\n",
       "      <td>0.136364</td>\n",
       "    </tr>\n",
       "  </tbody>\n",
       "</table>\n",
       "<p>5 rows × 29 columns</p>\n",
       "</div>"
      ],
      "text/plain": [
       "    n_tokens_title   n_tokens_content   num_hrefs   num_self_hrefs   num_imgs  \\\n",
       "0             12.0              219.0         4.0              2.0        1.0   \n",
       "1              9.0              255.0         3.0              1.0        1.0   \n",
       "2              9.0              211.0         3.0              1.0        1.0   \n",
       "3              9.0              531.0         9.0              0.0        1.0   \n",
       "4             13.0             1072.0        19.0             19.0       20.0   \n",
       "\n",
       "    num_videos   average_token_length   num_keywords    LDA_00    LDA_01  ...  \\\n",
       "0          0.0               4.680365            5.0  0.500331  0.378279  ...   \n",
       "1          0.0               4.913725            4.0  0.799756  0.050047  ...   \n",
       "2          0.0               4.393365            6.0  0.217792  0.033334  ...   \n",
       "3          0.0               4.404896            7.0  0.028573  0.419300  ...   \n",
       "4          0.0               4.682836            7.0  0.028633  0.028794  ...   \n",
       "\n",
       "    avg_positive_polarity   min_positive_polarity   max_positive_polarity  \\\n",
       "0                0.378636                0.100000                     0.7   \n",
       "1                0.286915                0.033333                     0.7   \n",
       "2                0.495833                0.100000                     1.0   \n",
       "3                0.385965                0.136364                     0.8   \n",
       "4                0.411127                0.033333                     1.0   \n",
       "\n",
       "    avg_negative_polarity   min_negative_polarity   max_negative_polarity  \\\n",
       "0               -0.350000                  -0.600               -0.200000   \n",
       "1               -0.118750                  -0.125               -0.100000   \n",
       "2               -0.466667                  -0.800               -0.133333   \n",
       "3               -0.369697                  -0.600               -0.166667   \n",
       "4               -0.220192                  -0.500               -0.050000   \n",
       "\n",
       "    title_subjectivity   title_sentiment_polarity   abs_title_subjectivity  \\\n",
       "0             0.500000                  -0.187500                 0.000000   \n",
       "1             0.000000                   0.000000                 0.500000   \n",
       "2             0.000000                   0.000000                 0.500000   \n",
       "3             0.000000                   0.000000                 0.500000   \n",
       "4             0.454545                   0.136364                 0.045455   \n",
       "\n",
       "    abs_title_sentiment_polarity  \n",
       "0                       0.187500  \n",
       "1                       0.000000  \n",
       "2                       0.000000  \n",
       "3                       0.000000  \n",
       "4                       0.136364  \n",
       "\n",
       "[5 rows x 29 columns]"
      ]
     },
     "execution_count": 6,
     "metadata": {},
     "output_type": "execute_result"
    }
   ],
   "source": [
    "# drop unused features\n",
    "vals = [0, 1, 4, 5, 6]\n",
    "for i in range(13, 39):\n",
    "    vals.append(i)\n",
    "\n",
    "x = x.drop(x.columns[vals], axis = 1)\n",
    "x.head()"
   ]
  },
  {
   "cell_type": "markdown",
   "id": "d312a4cf",
   "metadata": {},
   "source": [
    "### Shuffle Data"
   ]
  },
  {
   "cell_type": "code",
   "execution_count": 7,
   "id": "f885be85",
   "metadata": {},
   "outputs": [],
   "source": [
    "np.random.seed(42)"
   ]
  },
  {
   "cell_type": "code",
   "execution_count": 8,
   "id": "a87dfd2e",
   "metadata": {},
   "outputs": [],
   "source": [
    "# convert to numpy objects\n",
    "x = x.to_numpy()\n",
    "y = y.to_numpy()"
   ]
  },
  {
   "cell_type": "code",
   "execution_count": 9,
   "id": "137ee908",
   "metadata": {},
   "outputs": [],
   "source": [
    "# shuffle\n",
    "arr = np.arange(len(df))\n",
    "np.random.shuffle(arr)\n",
    "x = x[arr]\n",
    "y = y[arr]"
   ]
  },
  {
   "cell_type": "markdown",
   "id": "7e3c2687",
   "metadata": {},
   "source": [
    "### Splitting Data"
   ]
  },
  {
   "cell_type": "code",
   "execution_count": 10,
   "id": "4fa0fb0f",
   "metadata": {},
   "outputs": [],
   "source": [
    "x_train = x[:1000].copy()\n",
    "y_train = y[:1000].copy()\n",
    "x_val = x[1000:2000].copy()\n",
    "y_val = y[1000:2000].copy()\n",
    "x_test = x[2000:3000].copy()\n",
    "y_test = y[2000:3000].copy()"
   ]
  },
  {
   "cell_type": "markdown",
   "id": "35acbec4",
   "metadata": {},
   "source": [
    "### Standardize Data"
   ]
  },
  {
   "cell_type": "code",
   "execution_count": 11,
   "id": "6a0be2ca",
   "metadata": {},
   "outputs": [],
   "source": [
    "# first save the training mean and std\n",
    "training_mean = np.mean(x_train, axis=0)\n",
    "training_std = np.std(x_train, axis=0)\n",
    "\n",
    "# first standardize the training data\n",
    "scaler = StandardScaler()\n",
    "scaler.fit(x_train)\n",
    "x_train = scaler.transform(x_train)\n",
    "# standardize the test and validation data using training mean and std\n",
    "x_test = (x_test - training_mean) / training_std\n",
    "x_val = (x_val - training_mean) / training_std"
   ]
  },
  {
   "cell_type": "markdown",
   "id": "2c478f6d",
   "metadata": {},
   "source": [
    "### Clamping Data\n",
    "I'll clamp the shares attribute to be at most 6000."
   ]
  },
  {
   "cell_type": "code",
   "execution_count": 12,
   "id": "668e5148",
   "metadata": {},
   "outputs": [],
   "source": [
    "for i in range(1000):\n",
    "    if y_train[i] > 6000:\n",
    "        y_train[i] = 6000\n",
    "    if y_test[i] > 6000:\n",
    "        y_test[i] = 6000\n",
    "    if y_val[i] > 6000:\n",
    "        y_val[i] = 6000"
   ]
  },
  {
   "cell_type": "markdown",
   "id": "fb051dd3",
   "metadata": {},
   "source": [
    "### Map target data into two distinct classes\n",
    "+1 is shares >= 2000 and -1 is shares < 2000"
   ]
  },
  {
   "cell_type": "code",
   "execution_count": 13,
   "id": "ace11412",
   "metadata": {},
   "outputs": [],
   "source": [
    "for i in range(1000):\n",
    "    if y_train[i] >= 2000:\n",
    "        y_train[i] = 1\n",
    "    else:\n",
    "        y_train[i] = -1\n",
    "        \n",
    "    if y_test[i] >= 2000:\n",
    "        y_test[i] = 1\n",
    "    else:\n",
    "        y_test[i] = -1\n",
    "        \n",
    "    if y_val[i] >= 2000:\n",
    "        y_val[i] = 1\n",
    "    else:\n",
    "        y_val[i] = -1"
   ]
  },
  {
   "cell_type": "markdown",
   "id": "a8f29070",
   "metadata": {},
   "source": [
    "# Computing the Kernel Matrices\n",
    "I will compute the linear and gaussian kernel and use each one to implement the Dual SVM algorithm  "
   ]
  },
  {
   "cell_type": "markdown",
   "id": "7b58b54a",
   "metadata": {},
   "source": [
    "### Linear Kernel"
   ]
  },
  {
   "cell_type": "code",
   "execution_count": 14,
   "id": "4f0a9eac",
   "metadata": {},
   "outputs": [],
   "source": [
    "D = x_train.copy()"
   ]
  },
  {
   "cell_type": "code",
   "execution_count": 15,
   "id": "1d8960b2",
   "metadata": {},
   "outputs": [],
   "source": [
    "linear_kernel = np.dot(D, D.T)"
   ]
  },
  {
   "cell_type": "code",
   "execution_count": 16,
   "id": "3384e539",
   "metadata": {},
   "outputs": [
    {
     "data": {
      "text/plain": [
       "array([[23.56861317, -1.78768508, -9.04492404, ...,  8.87583137,\n",
       "         6.88528597,  3.20230281],\n",
       "       [-1.78768508, 12.57868004,  1.10172574, ..., -6.69551931,\n",
       "        -2.99318777, -0.90015711],\n",
       "       [-9.04492404,  1.10172574, 58.1960898 , ..., -8.16555486,\n",
       "         3.26771302, -3.40711312],\n",
       "       ...,\n",
       "       [ 8.87583137, -6.69551931, -8.16555486, ..., 62.61216466,\n",
       "        -1.25606695,  5.56410057],\n",
       "       [ 6.88528597, -2.99318777,  3.26771302, ..., -1.25606695,\n",
       "        17.72336005, -2.0619736 ],\n",
       "       [ 3.20230281, -0.90015711, -3.40711312, ...,  5.56410057,\n",
       "        -2.0619736 , 23.86693631]])"
      ]
     },
     "execution_count": 16,
     "metadata": {},
     "output_type": "execute_result"
    }
   ],
   "source": [
    "linear_kernel"
   ]
  },
  {
   "cell_type": "markdown",
   "id": "ec3c819c",
   "metadata": {},
   "source": [
    "### Gaussian Kernel\n",
    "\n",
    "Get the vector of squared norms"
   ]
  },
  {
   "cell_type": "code",
   "execution_count": 17,
   "id": "4cca7e04",
   "metadata": {},
   "outputs": [],
   "source": [
    "S = np.linalg.norm(D, axis = 1)\n",
    "S = S * S"
   ]
  },
  {
   "cell_type": "markdown",
   "id": "740f315b",
   "metadata": {},
   "source": [
    "Set variance"
   ]
  },
  {
   "cell_type": "code",
   "execution_count": 18,
   "id": "0bb9aa64",
   "metadata": {},
   "outputs": [],
   "source": [
    "variance = 10000"
   ]
  },
  {
   "cell_type": "markdown",
   "id": "e5a88c80",
   "metadata": {},
   "source": [
    "Compute Gaussian Kernel"
   ]
  },
  {
   "cell_type": "code",
   "execution_count": 19,
   "id": "f3c0058a",
   "metadata": {},
   "outputs": [
    {
     "data": {
      "text/plain": [
       "array([[1.        , 0.99801584, 0.99501972, ..., 0.99658439, 0.99862488,\n",
       "        0.99795056],\n",
       "       [0.99801584, 1.        , 0.9965773 , ..., 0.9955807 , 0.99818722,\n",
       "        0.99808953],\n",
       "       [0.99501972, 0.9965773 , 1.        , ..., 0.99316649, 0.99653681,\n",
       "        0.995566  ],\n",
       "       ...,\n",
       "       [0.99658439, 0.9955807 , 0.99316649, ..., 1.        , 0.99586618,\n",
       "        0.99623954],\n",
       "       [0.99862488, 0.99818722, 0.99653681, ..., 0.99586618, 1.        ,\n",
       "        0.9977169 ],\n",
       "       [0.99795056, 0.99808953, 0.995566  , ..., 0.99623954, 0.9977169 ,\n",
       "        1.        ]])"
      ]
     },
     "execution_count": 19,
     "metadata": {},
     "output_type": "execute_result"
    }
   ],
   "source": [
    "gaussian_kernel = np.exp( ((2 * np.matmul(D, D.T)) - S - S[:,None]) / (2*variance) )\n",
    "gaussian_kernel"
   ]
  },
  {
   "cell_type": "markdown",
   "id": "4e3cb31a",
   "metadata": {},
   "source": [
    "### SVM Algorithm Implementation "
   ]
  },
  {
   "cell_type": "code",
   "execution_count": 20,
   "id": "3d55f019",
   "metadata": {},
   "outputs": [],
   "source": [
    "def dual_SVM(D, kernel, C, epsilon):\n",
    "    # augmented kernel matrix\n",
    "    kernel_augmented = kernel + 1\n",
    "    \n",
    "    # make vector of step sizes\n",
    "    eta = []\n",
    "    for i in range(len(kernel_augmented)):\n",
    "        val = 1 / kernel_augmented[i][i]\n",
    "        eta.append(val)\n",
    "    eta = np.array(eta)\n",
    "    # initialize alpha vector\n",
    "    t = 0\n",
    "    alpha = np.random.uniform(0, 1, len(kernel_augmented))\n",
    "    old_alpha = alpha.copy()\n",
    "    while(True):\n",
    "        # iterate thru n in random order\n",
    "        r = list(range(len(kernel_augmented)))\n",
    "        random.shuffle(r)\n",
    "        # update the kth component in alpha\n",
    "        for k in r:\n",
    "            # first calculate the gradient\n",
    "            # do the summation\n",
    "            summation = 0\n",
    "            for i in range(len(kernel)):\n",
    "                summation += (alpha[i] * y_train[i] * kernel_augmented[i][k])\n",
    "            # print(summation)\n",
    "            # multiply the gradient by the step size\n",
    "            t = eta[k] * (1 - (y_train[k] * summation))\n",
    "            \n",
    "            # update alpha in place\n",
    "            alpha[k] = alpha[k] + t\n",
    "            # finally clamp alpha between 0 and C\n",
    "            if alpha[k] < 0:\n",
    "                alpha[k] = 0\n",
    "            if alpha[k] > C:\n",
    "                alpha[k] = C\n",
    "        \n",
    "        t += 1\n",
    "        # print(np.linalg.norm(alpha - old_alpha))\n",
    "        if np.linalg.norm(alpha - old_alpha) < epsilon:\n",
    "            break\n",
    "        \n",
    "        old_alpha = alpha.copy()\n",
    "    \n",
    "    \n",
    "    return alpha"
   ]
  },
  {
   "cell_type": "markdown",
   "id": "b95284ca",
   "metadata": {},
   "source": [
    "### Finding the Best Hyperparameter"
   ]
  },
  {
   "cell_type": "markdown",
   "id": "0dbf6002",
   "metadata": {},
   "source": [
    "Use the validation set to try some C values. First use the linear kernel to find the best C. "
   ]
  },
  {
   "cell_type": "code",
   "execution_count": 27,
   "id": "1071c976",
   "metadata": {},
   "outputs": [],
   "source": [
    "accuracies = []\n",
    "c_values = [1e-2, 1e-3, 1e-4, 1e-5]\n",
    "for i in range(len(c_values)):\n",
    "    c = c_values[i]\n",
    "    # get the alpha vector\n",
    "    a = dual_SVM(D, linear_kernel, c, 1e-3)\n",
    "    # make predictions using the validation set\n",
    "    K_new = np.dot(x_train, x_val.T)\n",
    "    y_pred = []\n",
    "    for j in range(1000):\n",
    "        v = np.sum(K_new[:, j]) * y_train[j] * a[j]\n",
    "        if v >= 0:\n",
    "            y_pred.append(1)\n",
    "        else:\n",
    "            y_pred.append(-1)\n",
    "            \n",
    "    # compute accuracy score\n",
    "    acc = accuracy_score(y_pred, y_val)\n",
    "    accuracies.append(acc)\n",
    "    "
   ]
  },
  {
   "cell_type": "code",
   "execution_count": 30,
   "id": "886a9f17",
   "metadata": {},
   "outputs": [
    {
     "name": "stdout",
     "output_type": "stream",
     "text": [
      "maximum accuracy: 0.49\n",
      "Ideal C value: 0.001\n"
     ]
    }
   ],
   "source": [
    "max_acc = max(accuracies)\n",
    "ideal_c = c_values[accuracies.index(max_acc)]\n",
    "print(\"maximum accuracy:\", max_acc)\n",
    "print(\"Ideal C value:\", ideal_c)"
   ]
  },
  {
   "cell_type": "markdown",
   "id": "fad67533",
   "metadata": {},
   "source": [
    "#### Ideal Hyperparameters\n",
    "\n",
    "The ideal variance was found in assign3 to be either 10,000 or 100,000. In this assignment, I will use a variance of 10,000 and the ideal C value found above to calculate the predictions and accuracies on the test data."
   ]
  },
  {
   "cell_type": "markdown",
   "id": "9734311b",
   "metadata": {},
   "source": [
    "### Making Predictions on the Test Set"
   ]
  },
  {
   "cell_type": "markdown",
   "id": "62379671",
   "metadata": {},
   "source": [
    "First, the linear kernel."
   ]
  },
  {
   "cell_type": "code",
   "execution_count": 31,
   "id": "d8fa9a61",
   "metadata": {},
   "outputs": [],
   "source": [
    "c = 1e-3\n",
    "a = dual_SVM(D, linear_kernel, c, 1e-3)"
   ]
  },
  {
   "cell_type": "code",
   "execution_count": 32,
   "id": "3bd6e19c",
   "metadata": {},
   "outputs": [],
   "source": [
    "K_new = np.dot(x_train, x_test.T)"
   ]
  },
  {
   "cell_type": "code",
   "execution_count": 33,
   "id": "765607f6",
   "metadata": {},
   "outputs": [
    {
     "name": "stdout",
     "output_type": "stream",
     "text": [
      "Accuracy using Linear Kernel: 0.477\n"
     ]
    }
   ],
   "source": [
    "y_pred = []\n",
    "for i in range(1000):\n",
    "    pred = np.sum(K_new[:, i]) * y_train[i] * a[i]\n",
    "    if pred >= 0:\n",
    "        y_pred.append(1)\n",
    "    else:\n",
    "        y_pred.append(-1)\n",
    "        \n",
    "# compute accuracy score\n",
    "acc = accuracy_score(y_pred, y_test)\n",
    "print(\"Accuracy using Linear Kernel:\", acc)"
   ]
  },
  {
   "cell_type": "markdown",
   "id": "ad9d3f8d",
   "metadata": {},
   "source": [
    "Next, the gaussian kernel"
   ]
  },
  {
   "cell_type": "code",
   "execution_count": 34,
   "id": "02d91c15",
   "metadata": {},
   "outputs": [],
   "source": [
    "c = 1e-3\n",
    "a = dual_SVM(D, gaussian_kernel, c, 1e-3)"
   ]
  },
  {
   "cell_type": "code",
   "execution_count": 35,
   "id": "e9bac2be",
   "metadata": {},
   "outputs": [],
   "source": [
    "K_new = np.dot(x_train, x_test.T)"
   ]
  },
  {
   "cell_type": "code",
   "execution_count": 36,
   "id": "9e7a84b3",
   "metadata": {},
   "outputs": [
    {
     "name": "stdout",
     "output_type": "stream",
     "text": [
      "Accuracy using Linear Kernel: 0.478\n"
     ]
    }
   ],
   "source": [
    "y_pred = []\n",
    "for i in range(1000):\n",
    "    pred = np.sum(K_new[:, i]) * y_train[i] * a[i]\n",
    "    if pred >= 0:\n",
    "        y_pred.append(1)\n",
    "    else:\n",
    "        y_pred.append(-1)\n",
    "        \n",
    "# compute accuracy score\n",
    "acc = accuracy_score(y_pred, y_test)\n",
    "print(\"Accuracy using Gaussian Kernel:\", acc)"
   ]
  },
  {
   "cell_type": "markdown",
   "id": "5ea16941",
   "metadata": {},
   "source": [
    "# Exam 1 Question"
   ]
  },
  {
   "cell_type": "markdown",
   "id": "45c735a0",
   "metadata": {},
   "source": [
    "Question 5:"
   ]
  },
  {
   "attachments": {
    "q5%20remastered.PNG": {
     "image/png": "[encoded data removed]"
    }
   },
   "cell_type": "markdown",
   "id": "e1f8be53",
   "metadata": {},
   "source": [
    "![q5%20remastered.PNG](attachment:q5%20remastered.PNG)"
   ]
  },
  {
   "cell_type": "code",
   "execution_count": null,
   "id": "92b72b62",
   "metadata": {},
   "outputs": [],
   "source": []
  }
 ],
 "metadata": {
  "kernelspec": {
   "display_name": "Python 3 (ipykernel)",
   "language": "python",
   "name": "python3"
  },
  "language_info": {
   "codemirror_mode": {
    "name": "ipython",
    "version": 3
   },
   "file_extension": ".py",
   "mimetype": "text/x-python",
   "name": "python",
   "nbconvert_exporter": "python",
   "pygments_lexer": "ipython3",
   "version": "3.9.12"
  }
 },
 "nbformat": 4,
 "nbformat_minor": 5
}
