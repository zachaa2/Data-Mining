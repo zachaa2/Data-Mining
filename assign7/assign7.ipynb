{
 "cells": [
  {
   "cell_type": "markdown",
   "id": "3a983f64",
   "metadata": {},
   "source": [
    "# Assign7: RNN"
   ]
  },
  {
   "cell_type": "code",
   "execution_count": 35,
   "id": "81560f72",
   "metadata": {},
   "outputs": [],
   "source": [
    "import numpy as np\n",
    "import pandas as pd\n",
    "import warnings\n",
    "import copy\n",
    "import random\n",
    "from scipy.special import softmax\n",
    "from sklearn.metrics import accuracy_score\n",
    "from sklearn.preprocessing import StandardScaler\n",
    "warnings.filterwarnings(\"ignore\")"
   ]
  },
  {
   "cell_type": "markdown",
   "id": "0efea4d5",
   "metadata": {},
   "source": [
    "### Reading in training data"
   ]
  },
  {
   "cell_type": "code",
   "execution_count": 53,
   "id": "7b441d38",
   "metadata": {},
   "outputs": [],
   "source": [
    "f = open(\"./Train_Arabic_Digit.txt\", \"r\")"
   ]
  },
  {
   "cell_type": "code",
   "execution_count": 54,
   "id": "b337a779",
   "metadata": {},
   "outputs": [],
   "source": [
    "dataset = []\n",
    "point = []\n",
    "for line in f:\n",
    "    if line.isspace() == True and len(point) > 0:\n",
    "        dataset.append(copy.deepcopy(point))\n",
    "        point = []\n",
    "    else:\n",
    "        if line.isspace() == False:\n",
    "            line_list = line.strip().split()\n",
    "            line_float = [ float(x) for x in line_list ]\n",
    "            point.append(line_float)\n",
    "dataset.append(copy.deepcopy(point))"
   ]
  },
  {
   "cell_type": "code",
   "execution_count": 55,
   "id": "d74ae02e",
   "metadata": {},
   "outputs": [],
   "source": [
    "f.close()"
   ]
  },
  {
   "cell_type": "code",
   "execution_count": 56,
   "id": "fb308d48",
   "metadata": {},
   "outputs": [
    {
     "data": {
      "text/plain": [
       "6600"
      ]
     },
     "execution_count": 56,
     "metadata": {},
     "output_type": "execute_result"
    }
   ],
   "source": [
    "len(dataset)"
   ]
  },
  {
   "cell_type": "markdown",
   "id": "33c4f878",
   "metadata": {},
   "source": [
    "### Reading in testing data"
   ]
  },
  {
   "cell_type": "code",
   "execution_count": 67,
   "id": "6282b3b1",
   "metadata": {},
   "outputs": [],
   "source": [
    "f = open(\"./Test_Arabic_Digit.txt\", \"r\")"
   ]
  },
  {
   "cell_type": "code",
   "execution_count": 68,
   "id": "fb7503ef",
   "metadata": {},
   "outputs": [],
   "source": [
    "testset = []\n",
    "point = []\n",
    "for line in f:\n",
    "    if line.isspace() == True and len(point) > 0:\n",
    "        testset.append(copy.deepcopy(point))\n",
    "        point = []\n",
    "    else:\n",
    "        if line.isspace() == False:\n",
    "            line_list = line.strip().split()\n",
    "            line_float = [ float(x) for x in line_list ]\n",
    "            point.append(line_float)\n",
    "testset.append(copy.deepcopy(point))"
   ]
  },
  {
   "cell_type": "code",
   "execution_count": 69,
   "id": "24917f40",
   "metadata": {},
   "outputs": [],
   "source": [
    "f.close()"
   ]
  },
  {
   "cell_type": "code",
   "execution_count": 70,
   "id": "543051a7",
   "metadata": {},
   "outputs": [
    {
     "data": {
      "text/plain": [
       "2200"
      ]
     },
     "execution_count": 70,
     "metadata": {},
     "output_type": "execute_result"
    }
   ],
   "source": [
    "len(testset)"
   ]
  },
  {
   "cell_type": "markdown",
   "id": "2db69039",
   "metadata": {},
   "source": [
    "### Making the ground truth labels according to documentation"
   ]
  },
  {
   "cell_type": "code",
   "execution_count": 74,
   "id": "2f94ff22",
   "metadata": {},
   "outputs": [],
   "source": [
    "y_train = []\n",
    "y_test = []\n",
    "for i in range(10):\n",
    "    for j in range(660):\n",
    "        y_train.append(i)\n",
    "        \n",
    "for i in range(10):\n",
    "    for j in range(220):\n",
    "        y_test.append(i)"
   ]
  },
  {
   "cell_type": "code",
   "execution_count": 79,
   "id": "9742c61c",
   "metadata": {},
   "outputs": [
    {
     "data": {
      "text/plain": [
       "6600"
      ]
     },
     "execution_count": 79,
     "metadata": {},
     "output_type": "execute_result"
    }
   ],
   "source": [
    "len(y_train)"
   ]
  },
  {
   "cell_type": "code",
   "execution_count": 80,
   "id": "0cecb5d7",
   "metadata": {},
   "outputs": [
    {
     "data": {
      "text/plain": [
       "2200"
      ]
     },
     "execution_count": 80,
     "metadata": {},
     "output_type": "execute_result"
    }
   ],
   "source": [
    "len(y_test)"
   ]
  },
  {
   "cell_type": "markdown",
   "id": "e7d2884d",
   "metadata": {},
   "source": [
    "# RNN Function"
   ]
  },
  {
   "cell_type": "code",
   "execution_count": 84,
   "id": "93246a33",
   "metadata": {},
   "outputs": [],
   "source": [
    "def RNN_Training(x_train, y_train):\n",
    "    # define some constants\n",
    "    maxiter = 100\n",
    "    d = len(x_train)\n",
    "    m = 16\n",
    "    p = 10\n",
    "    eta = 1e-5\n",
    "    # hidden layer activation function - ReLU\n",
    "    # output layer activation function - softmax\n",
    "    \n",
    "    # initialize bias vectors\n",
    "    bh = np.random.rand(m)\n",
    "    bo = np.random.rand(p)\n",
    "    #initialize weight matrices\n",
    "    Wi = np.random.rand(d, m)\n",
    "    Wh = np.random.rand(m, m)\n",
    "    Wo = np.random.rand(m, p)\n",
    "    # iteration counter\n",
    "    r = 0\n",
    "    while (r < maxiter):\n",
    "        \n",
    "        \n",
    "        \n",
    "        \n",
    "        \n",
    "        \n",
    "        r += 1\n",
    "    \n",
    "    \n",
    "    "
   ]
  },
  {
   "cell_type": "code",
   "execution_count": 85,
   "id": "de8a0d15",
   "metadata": {},
   "outputs": [
    {
     "name": "stdout",
     "output_type": "stream",
     "text": [
      "(16,)\n",
      "(10,)\n",
      "(6600, 16)\n",
      "(16, 16)\n",
      "(16, 10)\n"
     ]
    }
   ],
   "source": [
    "RNN_Training(dataset, y_train)"
   ]
  },
  {
   "cell_type": "code",
   "execution_count": null,
   "id": "285bfec1",
   "metadata": {},
   "outputs": [],
   "source": []
  }
 ],
 "metadata": {
  "kernelspec": {
   "display_name": "Python 3 (ipykernel)",
   "language": "python",
   "name": "python3"
  },
  "language_info": {
   "codemirror_mode": {
    "name": "ipython",
    "version": 3
   },
   "file_extension": ".py",
   "mimetype": "text/x-python",
   "name": "python",
   "nbconvert_exporter": "python",
   "pygments_lexer": "ipython3",
   "version": "3.9.12"
  }
 },
 "nbformat": 4,
 "nbformat_minor": 5
}
