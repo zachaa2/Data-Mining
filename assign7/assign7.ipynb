{
 "cells": [
  {
   "cell_type": "markdown",
   "id": "3353e934",
   "metadata": {},
   "source": [
    "# Assign7: RNN"
   ]
  },
  {
   "cell_type": "code",
   "execution_count": 1,
   "id": "b898f375",
   "metadata": {},
   "outputs": [],
   "source": [
    "import numpy as np\n",
    "import pandas as pd\n",
    "import warnings\n",
    "import copy\n",
    "import random\n",
    "from scipy.special import softmax\n",
    "from sklearn.metrics import accuracy_score\n",
    "from sklearn.preprocessing import StandardScaler\n",
    "warnings.filterwarnings(\"ignore\")"
   ]
  },
  {
   "cell_type": "markdown",
   "id": "c8790dd3",
   "metadata": {},
   "source": [
    "### Reading in training data"
   ]
  },
  {
   "cell_type": "code",
   "execution_count": 2,
   "id": "275db394",
   "metadata": {},
   "outputs": [],
   "source": [
    "f = open(\"./Train_Arabic_Digit.txt\", \"r\")"
   ]
  },
  {
   "cell_type": "code",
   "execution_count": 3,
   "id": "6f7e2b80",
   "metadata": {},
   "outputs": [],
   "source": [
    "dataset = []\n",
    "point = []\n",
    "for line in f:\n",
    "    if line.isspace() == True and len(point) > 0:\n",
    "        dataset.append(copy.deepcopy(point))\n",
    "        point = []\n",
    "    else:\n",
    "        if line.isspace() == False:\n",
    "            line_list = line.strip().split()\n",
    "            line_float = [ float(x) for x in line_list ]\n",
    "            point.append(line_float)\n",
    "dataset.append(copy.deepcopy(point))"
   ]
  },
  {
   "cell_type": "code",
   "execution_count": 4,
   "id": "bb1138a6",
   "metadata": {},
   "outputs": [],
   "source": [
    "f.close()"
   ]
  },
  {
   "cell_type": "code",
   "execution_count": 5,
   "id": "c29308cb",
   "metadata": {},
   "outputs": [
    {
     "data": {
      "text/plain": [
       "6600"
      ]
     },
     "execution_count": 5,
     "metadata": {},
     "output_type": "execute_result"
    }
   ],
   "source": [
    "len(dataset)"
   ]
  },
  {
   "cell_type": "markdown",
   "id": "5c1e19f9",
   "metadata": {},
   "source": [
    "### Reading in testing data"
   ]
  },
  {
   "cell_type": "code",
   "execution_count": 6,
   "id": "6324fcab",
   "metadata": {},
   "outputs": [],
   "source": [
    "f = open(\"./Test_Arabic_Digit.txt\", \"r\")"
   ]
  },
  {
   "cell_type": "code",
   "execution_count": 7,
   "id": "1ed3d966",
   "metadata": {},
   "outputs": [],
   "source": [
    "testset = []\n",
    "point = []\n",
    "for line in f:\n",
    "    if line.isspace() == True and len(point) > 0:\n",
    "        testset.append(copy.deepcopy(point))\n",
    "        point = []\n",
    "    else:\n",
    "        if line.isspace() == False:\n",
    "            line_list = line.strip().split()\n",
    "            line_float = [ float(x) for x in line_list ]\n",
    "            point.append(line_float)\n",
    "testset.append(copy.deepcopy(point))"
   ]
  },
  {
   "cell_type": "code",
   "execution_count": 8,
   "id": "0964ee24",
   "metadata": {},
   "outputs": [],
   "source": [
    "f.close()"
   ]
  },
  {
   "cell_type": "code",
   "execution_count": 9,
   "id": "080e0853",
   "metadata": {},
   "outputs": [
    {
     "data": {
      "text/plain": [
       "2200"
      ]
     },
     "execution_count": 9,
     "metadata": {},
     "output_type": "execute_result"
    }
   ],
   "source": [
    "len(testset)"
   ]
  },
  {
   "cell_type": "markdown",
   "id": "4df6af66",
   "metadata": {},
   "source": [
    "### Making the ground truth labels according to documentation"
   ]
  },
  {
   "cell_type": "code",
   "execution_count": 10,
   "id": "9960ded1",
   "metadata": {},
   "outputs": [],
   "source": [
    "y_train = []\n",
    "y_test = []\n",
    "for i in range(10):\n",
    "    for j in range(660):\n",
    "        y_train.append(i)\n",
    "        \n",
    "for i in range(10):\n",
    "    for j in range(220):\n",
    "        y_test.append(i)"
   ]
  },
  {
   "cell_type": "code",
   "execution_count": 11,
   "id": "5578848b",
   "metadata": {},
   "outputs": [
    {
     "data": {
      "text/plain": [
       "6600"
      ]
     },
     "execution_count": 11,
     "metadata": {},
     "output_type": "execute_result"
    }
   ],
   "source": [
    "len(y_train)"
   ]
  },
  {
   "cell_type": "code",
   "execution_count": 12,
   "id": "53358fd3",
   "metadata": {},
   "outputs": [
    {
     "data": {
      "text/plain": [
       "2200"
      ]
     },
     "execution_count": 12,
     "metadata": {},
     "output_type": "execute_result"
    }
   ],
   "source": [
    "len(y_test)"
   ]
  },
  {
   "cell_type": "markdown",
   "id": "e088a3fe",
   "metadata": {},
   "source": [
    "### Create One-Hot Encodings"
   ]
  },
  {
   "cell_type": "code",
   "execution_count": 13,
   "id": "8916030d",
   "metadata": {},
   "outputs": [],
   "source": [
    "# create a one hot encoding of the target labels\n",
    "y = np.zeros( (len(y_train), max(y_train) + 1) )\n",
    "y[np.arange(len(y_train)), y_train] = 1\n",
    "y_train = copy.deepcopy(y)"
   ]
  },
  {
   "cell_type": "code",
   "execution_count": 14,
   "id": "868fc74a",
   "metadata": {},
   "outputs": [],
   "source": [
    "# create a one hot encoding of the target labels\n",
    "y = np.zeros( (len(y_test), max(y_test) + 1) )\n",
    "y[np.arange(len(y_test)), y_test] = 1\n",
    "y_test = copy.deepcopy(y)"
   ]
  },
  {
   "cell_type": "markdown",
   "id": "b4563161",
   "metadata": {},
   "source": [
    "# RNN Function"
   ]
  },
  {
   "cell_type": "markdown",
   "id": "008d3b77",
   "metadata": {},
   "source": [
    "### ReLU activation function"
   ]
  },
  {
   "cell_type": "code",
   "execution_count": 46,
   "id": "b2d516a7",
   "metadata": {},
   "outputs": [],
   "source": [
    "def relu(x):\n",
    "    return (np.maximum(0, x))"
   ]
  },
  {
   "cell_type": "code",
   "execution_count": 59,
   "id": "04f16950",
   "metadata": {},
   "outputs": [],
   "source": [
    "def RNN_Training(x, y):\n",
    "    # define some constants\n",
    "    maxiter = 40\n",
    "    d = 13\n",
    "    m = 16\n",
    "    p = 10\n",
    "    eta = 1e-5\n",
    "    # hidden layer activation function - ReLU\n",
    "    # output layer activation function - softmax\n",
    "    \n",
    "    # initialize bias vectors\n",
    "    bh = np.random.rand(m)\n",
    "    bh = bh * 0.01\n",
    "    bo = np.random.rand(p)\n",
    "    bo = bo * 0.01\n",
    "    #initialize weight matrices\n",
    "    Wi = np.random.rand(d, m)\n",
    "    Wi = Wi * 0.01\n",
    "    Wh = np.random.rand(m, m)\n",
    "    Wh = Wh * 0.01\n",
    "    Wo = np.random.rand(m, p)\n",
    "    Wo = Wo * 0.01\n",
    "    # iteration counter\n",
    "    r = 0\n",
    "    while (r < maxiter):\n",
    "        \n",
    "        # iterate through dataset in random order\n",
    "        s = list(range(len(x)))\n",
    "        random.shuffle(s)\n",
    "        for i in s:\n",
    "            sequence = x[i]\n",
    "            tau = len(sequence)\n",
    "            \n",
    "            # initialize hidden state\n",
    "            h = np.zeros((tau, m))\n",
    "            # iteratively calculate hidden state\n",
    "            for j in range(tau):\n",
    "                t1 = np.dot(Wi.T, sequence[j]) + np.dot(Wh.T, h[j-1]) + bh\n",
    "                h[j] = relu(t1)\n",
    "            # compute output layer\n",
    "            o = softmax(np.dot(Wo.T, h[tau-1]) + bo)\n",
    "                \n",
    "        \n",
    "        \n",
    "        \n",
    "        r += 1\n",
    "    \n",
    "    \n",
    "    "
   ]
  },
  {
   "cell_type": "code",
   "execution_count": 60,
   "id": "90dd75c1",
   "metadata": {},
   "outputs": [
    {
     "ename": "KeyboardInterrupt",
     "evalue": "",
     "output_type": "error",
     "traceback": [
      "\u001b[1;31m---------------------------------------------------------------------------\u001b[0m",
      "\u001b[1;31mKeyboardInterrupt\u001b[0m                         Traceback (most recent call last)",
      "Input \u001b[1;32mIn [60]\u001b[0m, in \u001b[0;36m<cell line: 1>\u001b[1;34m()\u001b[0m\n\u001b[1;32m----> 1\u001b[0m \u001b[43mRNN_Training\u001b[49m\u001b[43m(\u001b[49m\u001b[43mdataset\u001b[49m\u001b[43m,\u001b[49m\u001b[43m \u001b[49m\u001b[43my_train\u001b[49m\u001b[43m)\u001b[49m\n",
      "Input \u001b[1;32mIn [59]\u001b[0m, in \u001b[0;36mRNN_Training\u001b[1;34m(x, y)\u001b[0m\n\u001b[0;32m     36\u001b[0m \u001b[38;5;66;03m# iteratively calculate hidden state\u001b[39;00m\n\u001b[0;32m     37\u001b[0m \u001b[38;5;28;01mfor\u001b[39;00m j \u001b[38;5;129;01min\u001b[39;00m \u001b[38;5;28mrange\u001b[39m(tau):\n\u001b[1;32m---> 38\u001b[0m     t1 \u001b[38;5;241m=\u001b[39m np\u001b[38;5;241m.\u001b[39mdot(Wi\u001b[38;5;241m.\u001b[39mT, sequence[j]) \u001b[38;5;241m+\u001b[39m \u001b[43mnp\u001b[49m\u001b[38;5;241;43m.\u001b[39;49m\u001b[43mdot\u001b[49m\u001b[43m(\u001b[49m\u001b[43mWh\u001b[49m\u001b[38;5;241;43m.\u001b[39;49m\u001b[43mT\u001b[49m\u001b[43m,\u001b[49m\u001b[43m \u001b[49m\u001b[43mh\u001b[49m\u001b[43m[\u001b[49m\u001b[43mj\u001b[49m\u001b[38;5;241;43m-\u001b[39;49m\u001b[38;5;241;43m1\u001b[39;49m\u001b[43m]\u001b[49m\u001b[43m)\u001b[49m \u001b[38;5;241m+\u001b[39m bh\n\u001b[0;32m     39\u001b[0m     h[j] \u001b[38;5;241m=\u001b[39m relu(t1)\n\u001b[0;32m     40\u001b[0m \u001b[38;5;66;03m# compute output layer\u001b[39;00m\n",
      "File \u001b[1;32m<__array_function__ internals>:5\u001b[0m, in \u001b[0;36mdot\u001b[1;34m(*args, **kwargs)\u001b[0m\n",
      "\u001b[1;31mKeyboardInterrupt\u001b[0m: "
     ]
    }
   ],
   "source": [
    "RNN_Training(dataset, y_train)"
   ]
  },
  {
   "cell_type": "code",
   "execution_count": null,
   "id": "12019298",
   "metadata": {},
   "outputs": [],
   "source": []
  },
  {
   "cell_type": "code",
   "execution_count": null,
   "id": "df3a60dd",
   "metadata": {},
   "outputs": [],
   "source": []
  },
  {
   "cell_type": "code",
   "execution_count": null,
   "id": "136c8ec4",
   "metadata": {},
   "outputs": [],
   "source": []
  },
  {
   "cell_type": "code",
   "execution_count": null,
   "id": "b56115d4",
   "metadata": {},
   "outputs": [],
   "source": []
  }
 ],
 "metadata": {
  "kernelspec": {
   "display_name": "Python 3 (ipykernel)",
   "language": "python",
   "name": "python3"
  },
  "language_info": {
   "codemirror_mode": {
    "name": "ipython",
    "version": 3
   },
   "file_extension": ".py",
   "mimetype": "text/x-python",
   "name": "python",
   "nbconvert_exporter": "python",
   "pygments_lexer": "ipython3",
   "version": "3.9.12"
  }
 },
 "nbformat": 4,
 "nbformat_minor": 5
}
