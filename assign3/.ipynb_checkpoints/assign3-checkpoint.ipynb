{
 "cells": [
  {
   "cell_type": "markdown",
   "id": "e05956d9",
   "metadata": {},
   "source": [
    "# Assign3: Non-Linear Dimensionality Reduction - KPCA"
   ]
  },
  {
   "cell_type": "markdown",
   "id": "dc82ae62",
   "metadata": {},
   "source": [
    "# Importing Dependancies"
   ]
  },
  {
   "cell_type": "code",
   "execution_count": 1,
   "id": "2568fd5c",
   "metadata": {},
   "outputs": [],
   "source": [
    "import numpy as np\n",
    "import pandas as pd\n",
    "import warnings\n",
    "import matplotlib.pyplot as plt\n",
    "import copy\n",
    "warnings.filterwarnings(\"ignore\")"
   ]
  },
  {
   "cell_type": "markdown",
   "id": "6d7a45df",
   "metadata": {},
   "source": [
    "# Reading Dataset"
   ]
  },
  {
   "cell_type": "code",
   "execution_count": 2,
   "id": "cf8c4510",
   "metadata": {},
   "outputs": [],
   "source": [
    "# read data into dataframe\n",
    "df = pd.read_csv(\"./OnlineNewsPopularity.csv\") "
   ]
  },
  {
   "cell_type": "markdown",
   "id": "9025e7db",
   "metadata": {},
   "source": [
    "# Drop Unused Features\n",
    "\n",
    "Ignore the following attributes for this assignment: 0-1, 4-6, 13-38, and 60 (counting from 0)"
   ]
  },
  {
   "cell_type": "code",
   "execution_count": 3,
   "id": "93bb1613",
   "metadata": {},
   "outputs": [
    {
     "data": {
      "text/html": [
       "<div>\n",
       "<style scoped>\n",
       "    .dataframe tbody tr th:only-of-type {\n",
       "        vertical-align: middle;\n",
       "    }\n",
       "\n",
       "    .dataframe tbody tr th {\n",
       "        vertical-align: top;\n",
       "    }\n",
       "\n",
       "    .dataframe thead th {\n",
       "        text-align: right;\n",
       "    }\n",
       "</style>\n",
       "<table border=\"1\" class=\"dataframe\">\n",
       "  <thead>\n",
       "    <tr style=\"text-align: right;\">\n",
       "      <th></th>\n",
       "      <th>n_tokens_title</th>\n",
       "      <th>n_tokens_content</th>\n",
       "      <th>num_hrefs</th>\n",
       "      <th>num_self_hrefs</th>\n",
       "      <th>num_imgs</th>\n",
       "      <th>num_videos</th>\n",
       "      <th>average_token_length</th>\n",
       "      <th>num_keywords</th>\n",
       "      <th>LDA_00</th>\n",
       "      <th>LDA_01</th>\n",
       "      <th>...</th>\n",
       "      <th>avg_positive_polarity</th>\n",
       "      <th>min_positive_polarity</th>\n",
       "      <th>max_positive_polarity</th>\n",
       "      <th>avg_negative_polarity</th>\n",
       "      <th>min_negative_polarity</th>\n",
       "      <th>max_negative_polarity</th>\n",
       "      <th>title_subjectivity</th>\n",
       "      <th>title_sentiment_polarity</th>\n",
       "      <th>abs_title_subjectivity</th>\n",
       "      <th>abs_title_sentiment_polarity</th>\n",
       "    </tr>\n",
       "  </thead>\n",
       "  <tbody>\n",
       "    <tr>\n",
       "      <th>0</th>\n",
       "      <td>12.0</td>\n",
       "      <td>219.0</td>\n",
       "      <td>4.0</td>\n",
       "      <td>2.0</td>\n",
       "      <td>1.0</td>\n",
       "      <td>0.0</td>\n",
       "      <td>4.680365</td>\n",
       "      <td>5.0</td>\n",
       "      <td>0.500331</td>\n",
       "      <td>0.378279</td>\n",
       "      <td>...</td>\n",
       "      <td>0.378636</td>\n",
       "      <td>0.100000</td>\n",
       "      <td>0.7</td>\n",
       "      <td>-0.350000</td>\n",
       "      <td>-0.600</td>\n",
       "      <td>-0.200000</td>\n",
       "      <td>0.500000</td>\n",
       "      <td>-0.187500</td>\n",
       "      <td>0.000000</td>\n",
       "      <td>0.187500</td>\n",
       "    </tr>\n",
       "    <tr>\n",
       "      <th>1</th>\n",
       "      <td>9.0</td>\n",
       "      <td>255.0</td>\n",
       "      <td>3.0</td>\n",
       "      <td>1.0</td>\n",
       "      <td>1.0</td>\n",
       "      <td>0.0</td>\n",
       "      <td>4.913725</td>\n",
       "      <td>4.0</td>\n",
       "      <td>0.799756</td>\n",
       "      <td>0.050047</td>\n",
       "      <td>...</td>\n",
       "      <td>0.286915</td>\n",
       "      <td>0.033333</td>\n",
       "      <td>0.7</td>\n",
       "      <td>-0.118750</td>\n",
       "      <td>-0.125</td>\n",
       "      <td>-0.100000</td>\n",
       "      <td>0.000000</td>\n",
       "      <td>0.000000</td>\n",
       "      <td>0.500000</td>\n",
       "      <td>0.000000</td>\n",
       "    </tr>\n",
       "    <tr>\n",
       "      <th>2</th>\n",
       "      <td>9.0</td>\n",
       "      <td>211.0</td>\n",
       "      <td>3.0</td>\n",
       "      <td>1.0</td>\n",
       "      <td>1.0</td>\n",
       "      <td>0.0</td>\n",
       "      <td>4.393365</td>\n",
       "      <td>6.0</td>\n",
       "      <td>0.217792</td>\n",
       "      <td>0.033334</td>\n",
       "      <td>...</td>\n",
       "      <td>0.495833</td>\n",
       "      <td>0.100000</td>\n",
       "      <td>1.0</td>\n",
       "      <td>-0.466667</td>\n",
       "      <td>-0.800</td>\n",
       "      <td>-0.133333</td>\n",
       "      <td>0.000000</td>\n",
       "      <td>0.000000</td>\n",
       "      <td>0.500000</td>\n",
       "      <td>0.000000</td>\n",
       "    </tr>\n",
       "    <tr>\n",
       "      <th>3</th>\n",
       "      <td>9.0</td>\n",
       "      <td>531.0</td>\n",
       "      <td>9.0</td>\n",
       "      <td>0.0</td>\n",
       "      <td>1.0</td>\n",
       "      <td>0.0</td>\n",
       "      <td>4.404896</td>\n",
       "      <td>7.0</td>\n",
       "      <td>0.028573</td>\n",
       "      <td>0.419300</td>\n",
       "      <td>...</td>\n",
       "      <td>0.385965</td>\n",
       "      <td>0.136364</td>\n",
       "      <td>0.8</td>\n",
       "      <td>-0.369697</td>\n",
       "      <td>-0.600</td>\n",
       "      <td>-0.166667</td>\n",
       "      <td>0.000000</td>\n",
       "      <td>0.000000</td>\n",
       "      <td>0.500000</td>\n",
       "      <td>0.000000</td>\n",
       "    </tr>\n",
       "    <tr>\n",
       "      <th>4</th>\n",
       "      <td>13.0</td>\n",
       "      <td>1072.0</td>\n",
       "      <td>19.0</td>\n",
       "      <td>19.0</td>\n",
       "      <td>20.0</td>\n",
       "      <td>0.0</td>\n",
       "      <td>4.682836</td>\n",
       "      <td>7.0</td>\n",
       "      <td>0.028633</td>\n",
       "      <td>0.028794</td>\n",
       "      <td>...</td>\n",
       "      <td>0.411127</td>\n",
       "      <td>0.033333</td>\n",
       "      <td>1.0</td>\n",
       "      <td>-0.220192</td>\n",
       "      <td>-0.500</td>\n",
       "      <td>-0.050000</td>\n",
       "      <td>0.454545</td>\n",
       "      <td>0.136364</td>\n",
       "      <td>0.045455</td>\n",
       "      <td>0.136364</td>\n",
       "    </tr>\n",
       "  </tbody>\n",
       "</table>\n",
       "<p>5 rows × 29 columns</p>\n",
       "</div>"
      ],
      "text/plain": [
       "    n_tokens_title   n_tokens_content   num_hrefs   num_self_hrefs   num_imgs  \\\n",
       "0             12.0              219.0         4.0              2.0        1.0   \n",
       "1              9.0              255.0         3.0              1.0        1.0   \n",
       "2              9.0              211.0         3.0              1.0        1.0   \n",
       "3              9.0              531.0         9.0              0.0        1.0   \n",
       "4             13.0             1072.0        19.0             19.0       20.0   \n",
       "\n",
       "    num_videos   average_token_length   num_keywords    LDA_00    LDA_01  ...  \\\n",
       "0          0.0               4.680365            5.0  0.500331  0.378279  ...   \n",
       "1          0.0               4.913725            4.0  0.799756  0.050047  ...   \n",
       "2          0.0               4.393365            6.0  0.217792  0.033334  ...   \n",
       "3          0.0               4.404896            7.0  0.028573  0.419300  ...   \n",
       "4          0.0               4.682836            7.0  0.028633  0.028794  ...   \n",
       "\n",
       "    avg_positive_polarity   min_positive_polarity   max_positive_polarity  \\\n",
       "0                0.378636                0.100000                     0.7   \n",
       "1                0.286915                0.033333                     0.7   \n",
       "2                0.495833                0.100000                     1.0   \n",
       "3                0.385965                0.136364                     0.8   \n",
       "4                0.411127                0.033333                     1.0   \n",
       "\n",
       "    avg_negative_polarity   min_negative_polarity   max_negative_polarity  \\\n",
       "0               -0.350000                  -0.600               -0.200000   \n",
       "1               -0.118750                  -0.125               -0.100000   \n",
       "2               -0.466667                  -0.800               -0.133333   \n",
       "3               -0.369697                  -0.600               -0.166667   \n",
       "4               -0.220192                  -0.500               -0.050000   \n",
       "\n",
       "    title_subjectivity   title_sentiment_polarity   abs_title_subjectivity  \\\n",
       "0             0.500000                  -0.187500                 0.000000   \n",
       "1             0.000000                   0.000000                 0.500000   \n",
       "2             0.000000                   0.000000                 0.500000   \n",
       "3             0.000000                   0.000000                 0.500000   \n",
       "4             0.454545                   0.136364                 0.045455   \n",
       "\n",
       "    abs_title_sentiment_polarity  \n",
       "0                       0.187500  \n",
       "1                       0.000000  \n",
       "2                       0.000000  \n",
       "3                       0.000000  \n",
       "4                       0.136364  \n",
       "\n",
       "[5 rows x 29 columns]"
      ]
     },
     "execution_count": 3,
     "metadata": {},
     "output_type": "execute_result"
    }
   ],
   "source": [
    "# drop unused features\n",
    "vals = [0, 1, 4, 5, 6, 60]\n",
    "for i in range(13, 39):\n",
    "    vals.append(i)\n",
    "\n",
    "df = df.drop(df.columns[vals], axis = 1)\n",
    "df.head()"
   ]
  },
  {
   "cell_type": "markdown",
   "id": "ba887c59",
   "metadata": {},
   "source": [
    "# Drop Unused Data Points\n",
    " \n",
    "We will only use the first 5000 data points"
   ]
  },
  {
   "cell_type": "code",
   "execution_count": 4,
   "id": "d87e431d",
   "metadata": {},
   "outputs": [
    {
     "name": "stdout",
     "output_type": "stream",
     "text": [
      "<class 'pandas.core.frame.DataFrame'>\n",
      "RangeIndex: 5000 entries, 0 to 4999\n",
      "Data columns (total 29 columns):\n",
      " #   Column                         Non-Null Count  Dtype  \n",
      "---  ------                         --------------  -----  \n",
      " 0    n_tokens_title                5000 non-null   float64\n",
      " 1    n_tokens_content              5000 non-null   float64\n",
      " 2    num_hrefs                     5000 non-null   float64\n",
      " 3    num_self_hrefs                5000 non-null   float64\n",
      " 4    num_imgs                      5000 non-null   float64\n",
      " 5    num_videos                    5000 non-null   float64\n",
      " 6    average_token_length          5000 non-null   float64\n",
      " 7    num_keywords                  5000 non-null   float64\n",
      " 8    LDA_00                        5000 non-null   float64\n",
      " 9    LDA_01                        5000 non-null   float64\n",
      " 10   LDA_02                        5000 non-null   float64\n",
      " 11   LDA_03                        5000 non-null   float64\n",
      " 12   LDA_04                        5000 non-null   float64\n",
      " 13   global_subjectivity           5000 non-null   float64\n",
      " 14   global_sentiment_polarity     5000 non-null   float64\n",
      " 15   global_rate_positive_words    5000 non-null   float64\n",
      " 16   global_rate_negative_words    5000 non-null   float64\n",
      " 17   rate_positive_words           5000 non-null   float64\n",
      " 18   rate_negative_words           5000 non-null   float64\n",
      " 19   avg_positive_polarity         5000 non-null   float64\n",
      " 20   min_positive_polarity         5000 non-null   float64\n",
      " 21   max_positive_polarity         5000 non-null   float64\n",
      " 22   avg_negative_polarity         5000 non-null   float64\n",
      " 23   min_negative_polarity         5000 non-null   float64\n",
      " 24   max_negative_polarity         5000 non-null   float64\n",
      " 25   title_subjectivity            5000 non-null   float64\n",
      " 26   title_sentiment_polarity      5000 non-null   float64\n",
      " 27   abs_title_subjectivity        5000 non-null   float64\n",
      " 28   abs_title_sentiment_polarity  5000 non-null   float64\n",
      "dtypes: float64(29)\n",
      "memory usage: 1.1 MB\n"
     ]
    }
   ],
   "source": [
    "df = df.iloc[:5000]\n",
    "df.info()"
   ]
  },
  {
   "cell_type": "markdown",
   "id": "32be5dd0",
   "metadata": {},
   "source": [
    "Based on the dataframe info, we now have 29 features remaining and the first 5000 points remaining. "
   ]
  },
  {
   "cell_type": "markdown",
   "id": "c8a0ad11",
   "metadata": {},
   "source": [
    "# Compute Kernel Matrix"
   ]
  },
  {
   "cell_type": "markdown",
   "id": "0c984842",
   "metadata": {},
   "source": [
    "**save data as numpy array**"
   ]
  },
  {
   "cell_type": "code",
   "execution_count": 5,
   "id": "1993e1e6",
   "metadata": {},
   "outputs": [
    {
     "data": {
      "text/plain": [
       "array([[ 1.20000000e+01,  2.19000000e+02,  4.00000000e+00,\n",
       "         2.00000000e+00,  1.00000000e+00,  0.00000000e+00,\n",
       "         4.68036530e+00,  5.00000000e+00,  5.00331204e-01,\n",
       "         3.78278930e-01,  4.00046751e-02,  4.12626477e-02,\n",
       "         4.01225435e-02,  5.21617145e-01,  9.25619835e-02,\n",
       "         4.56621005e-02,  1.36986301e-02,  7.69230769e-01,\n",
       "         2.30769231e-01,  3.78636364e-01,  1.00000000e-01,\n",
       "         7.00000000e-01, -3.50000000e-01, -6.00000000e-01,\n",
       "        -2.00000000e-01,  5.00000000e-01, -1.87500000e-01,\n",
       "         0.00000000e+00,  1.87500000e-01],\n",
       "       [ 9.00000000e+00,  2.55000000e+02,  3.00000000e+00,\n",
       "         1.00000000e+00,  1.00000000e+00,  0.00000000e+00,\n",
       "         4.91372549e+00,  4.00000000e+00,  7.99755687e-01,\n",
       "         5.00466754e-02,  5.00962518e-02,  5.01006734e-02,\n",
       "         5.00007119e-02,  3.41245791e-01,  1.48947811e-01,\n",
       "         4.31372549e-02,  1.56862745e-02,  7.33333333e-01,\n",
       "         2.66666667e-01,  2.86914601e-01,  3.33333333e-02,\n",
       "         7.00000000e-01, -1.18750000e-01, -1.25000000e-01,\n",
       "        -1.00000000e-01,  0.00000000e+00,  0.00000000e+00,\n",
       "         5.00000000e-01,  0.00000000e+00],\n",
       "       [ 9.00000000e+00,  2.11000000e+02,  3.00000000e+00,\n",
       "         1.00000000e+00,  1.00000000e+00,  0.00000000e+00,\n",
       "         4.39336493e+00,  6.00000000e+00,  2.17792289e-01,\n",
       "         3.33344570e-02,  3.33514249e-02,  3.33335358e-02,\n",
       "         6.82188294e-01,  7.02222222e-01,  3.23333333e-01,\n",
       "         5.68720379e-02,  9.47867299e-03,  8.57142857e-01,\n",
       "         1.42857143e-01,  4.95833333e-01,  1.00000000e-01,\n",
       "         1.00000000e+00, -4.66666667e-01, -8.00000000e-01,\n",
       "        -1.33333333e-01,  0.00000000e+00,  0.00000000e+00,\n",
       "         5.00000000e-01,  0.00000000e+00],\n",
       "       [ 9.00000000e+00,  5.31000000e+02,  9.00000000e+00,\n",
       "         0.00000000e+00,  1.00000000e+00,  0.00000000e+00,\n",
       "         4.40489642e+00,  7.00000000e+00,  2.85732165e-02,\n",
       "         4.19299642e-01,  4.94650826e-01,  2.89047184e-02,\n",
       "         2.85715976e-02,  4.29849687e-01,  1.00704666e-01,\n",
       "         4.14312618e-02,  2.07156309e-02,  6.66666667e-01,\n",
       "         3.33333333e-01,  3.85965171e-01,  1.36363636e-01,\n",
       "         8.00000000e-01, -3.69696970e-01, -6.00000000e-01,\n",
       "        -1.66666667e-01,  0.00000000e+00,  0.00000000e+00,\n",
       "         5.00000000e-01,  0.00000000e+00],\n",
       "       [ 1.30000000e+01,  1.07200000e+03,  1.90000000e+01,\n",
       "         1.90000000e+01,  2.00000000e+01,  0.00000000e+00,\n",
       "         4.68283582e+00,  7.00000000e+00,  2.86328102e-02,\n",
       "         2.87935517e-02,  2.85751849e-02,  2.85716753e-02,\n",
       "         8.85426778e-01,  5.13502123e-01,  2.81003476e-01,\n",
       "         7.46268657e-02,  1.21268657e-02,  8.60215054e-01,\n",
       "         1.39784946e-01,  4.11127435e-01,  3.33333333e-02,\n",
       "         1.00000000e+00, -2.20192308e-01, -5.00000000e-01,\n",
       "        -5.00000000e-02,  4.54545455e-01,  1.36363636e-01,\n",
       "         4.54545455e-02,  1.36363636e-01]])"
      ]
     },
     "execution_count": 5,
     "metadata": {},
     "output_type": "execute_result"
    }
   ],
   "source": [
    "data = df.to_numpy()\n",
    "data[:5]"
   ]
  },
  {
   "cell_type": "code",
   "execution_count": 6,
   "id": "0578afec",
   "metadata": {},
   "outputs": [
    {
     "name": "stdout",
     "output_type": "stream",
     "text": [
      "(5000, 29)\n"
     ]
    }
   ],
   "source": [
    "print(data.shape)"
   ]
  },
  {
   "cell_type": "markdown",
   "id": "395fb5f3",
   "metadata": {},
   "source": [
    "**Compute Kernel Matrix** where each K(xi, xj) is = xi * xj"
   ]
  },
  {
   "cell_type": "code",
   "execution_count": 7,
   "id": "f6ee151e",
   "metadata": {},
   "outputs": [],
   "source": [
    "kernel = np.dot(data, data.T)"
   ]
  },
  {
   "cell_type": "code",
   "execution_count": 8,
   "id": "8e24dfdc",
   "metadata": {},
   "outputs": [
    {
     "name": "stdout",
     "output_type": "stream",
     "text": [
      "(5000, 5000)\n"
     ]
    }
   ],
   "source": [
    "kernel = np.array(kernel)\n",
    "print(kernel.shape)"
   ]
  },
  {
   "cell_type": "markdown",
   "id": "3c6a94e5",
   "metadata": {},
   "source": [
    "Now kernel is an nxn matrix made of dot products between data points"
   ]
  },
  {
   "cell_type": "markdown",
   "id": "f6e17b55",
   "metadata": {},
   "source": [
    "# Center Kernel Matrix"
   ]
  },
  {
   "cell_type": "markdown",
   "id": "f4603f5f",
   "metadata": {},
   "source": [
    "Get the nxn identity matrix"
   ]
  },
  {
   "cell_type": "code",
   "execution_count": 9,
   "id": "64b7e720",
   "metadata": {},
   "outputs": [
    {
     "data": {
      "text/plain": [
       "array([[1., 0., 0., ..., 0., 0., 0.],\n",
       "       [0., 1., 0., ..., 0., 0., 0.],\n",
       "       [0., 0., 1., ..., 0., 0., 0.],\n",
       "       ...,\n",
       "       [0., 0., 0., ..., 1., 0., 0.],\n",
       "       [0., 0., 0., ..., 0., 1., 0.],\n",
       "       [0., 0., 0., ..., 0., 0., 1.]])"
      ]
     },
     "execution_count": 9,
     "metadata": {},
     "output_type": "execute_result"
    }
   ],
   "source": [
    "I = np.identity(len(kernel))\n",
    "I"
   ]
  },
  {
   "cell_type": "markdown",
   "id": "24d3bc2b",
   "metadata": {},
   "source": [
    "Get the ones matrix"
   ]
  },
  {
   "cell_type": "code",
   "execution_count": 10,
   "id": "0feaf2fd",
   "metadata": {},
   "outputs": [
    {
     "data": {
      "text/plain": [
       "array([[1., 1., 1., ..., 1., 1., 1.],\n",
       "       [1., 1., 1., ..., 1., 1., 1.],\n",
       "       [1., 1., 1., ..., 1., 1., 1.],\n",
       "       ...,\n",
       "       [1., 1., 1., ..., 1., 1., 1.],\n",
       "       [1., 1., 1., ..., 1., 1., 1.],\n",
       "       [1., 1., 1., ..., 1., 1., 1.]])"
      ]
     },
     "execution_count": 10,
     "metadata": {},
     "output_type": "execute_result"
    }
   ],
   "source": [
    "ones = np.ones((len(kernel), len(kernel)))\n",
    "ones"
   ]
  },
  {
   "cell_type": "code",
   "execution_count": 11,
   "id": "5de32ad8",
   "metadata": {},
   "outputs": [
    {
     "data": {
      "text/plain": [
       "array([[0.0002, 0.0002, 0.0002, ..., 0.0002, 0.0002, 0.0002],\n",
       "       [0.0002, 0.0002, 0.0002, ..., 0.0002, 0.0002, 0.0002],\n",
       "       [0.0002, 0.0002, 0.0002, ..., 0.0002, 0.0002, 0.0002],\n",
       "       ...,\n",
       "       [0.0002, 0.0002, 0.0002, ..., 0.0002, 0.0002, 0.0002],\n",
       "       [0.0002, 0.0002, 0.0002, ..., 0.0002, 0.0002, 0.0002],\n",
       "       [0.0002, 0.0002, 0.0002, ..., 0.0002, 0.0002, 0.0002]])"
      ]
     },
     "execution_count": 11,
     "metadata": {},
     "output_type": "execute_result"
    }
   ],
   "source": [
    "# divide ones matrix by n\n",
    "O = ones / len(kernel)\n",
    "O"
   ]
  },
  {
   "cell_type": "markdown",
   "id": "eb919427",
   "metadata": {},
   "source": [
    "Each element is 1/n, where n = 5000"
   ]
  },
  {
   "cell_type": "markdown",
   "id": "9718e509",
   "metadata": {},
   "source": [
    "Store the difference of I - ones/n into a matrix"
   ]
  },
  {
   "cell_type": "code",
   "execution_count": 12,
   "id": "bb6dd101",
   "metadata": {},
   "outputs": [
    {
     "data": {
      "text/plain": [
       "array([[ 9.998e-01, -2.000e-04, -2.000e-04, ..., -2.000e-04, -2.000e-04,\n",
       "        -2.000e-04],\n",
       "       [-2.000e-04,  9.998e-01, -2.000e-04, ..., -2.000e-04, -2.000e-04,\n",
       "        -2.000e-04],\n",
       "       [-2.000e-04, -2.000e-04,  9.998e-01, ..., -2.000e-04, -2.000e-04,\n",
       "        -2.000e-04],\n",
       "       ...,\n",
       "       [-2.000e-04, -2.000e-04, -2.000e-04, ...,  9.998e-01, -2.000e-04,\n",
       "        -2.000e-04],\n",
       "       [-2.000e-04, -2.000e-04, -2.000e-04, ..., -2.000e-04,  9.998e-01,\n",
       "        -2.000e-04],\n",
       "       [-2.000e-04, -2.000e-04, -2.000e-04, ..., -2.000e-04, -2.000e-04,\n",
       "         9.998e-01]])"
      ]
     },
     "execution_count": 12,
     "metadata": {},
     "output_type": "execute_result"
    }
   ],
   "source": [
    "diff = I - O\n",
    "diff"
   ]
  },
  {
   "cell_type": "markdown",
   "id": "149d699b",
   "metadata": {},
   "source": [
    "Now we can center the Kernel matrix. The centered kernel matrix is the following matrix multiplication: diff * K * diff\n",
    "\n",
    "Both diff and K metrices are nxn, so the resulting matrix will be the centered nxn kernel matrix"
   ]
  },
  {
   "cell_type": "code",
   "execution_count": 13,
   "id": "66cca5f1",
   "metadata": {},
   "outputs": [
    {
     "data": {
      "text/plain": [
       "array([[  66960.97071963,   57650.74971404,   69027.59359944, ...,\n",
       "          34330.4990171 ,   48064.9373983 , -185826.62361056],\n",
       "       [  57650.74971404,   49649.69140655,   59439.75878584, ...,\n",
       "          29551.93376277,   41383.20271813, -159958.314801  ],\n",
       "       [  69027.59359944,   59439.75878584,   71171.74359628, ...,\n",
       "          35389.1439709 ,   49554.6622794 , -191573.16910162],\n",
       "       ...,\n",
       "       [  34330.4990171 ,   29551.93376277,   35389.1439709 , ...,\n",
       "          17667.79558324,   24651.92480261,  -95348.19578332],\n",
       "       [  48064.9373983 ,   41383.20271813,   49554.6622794 , ...,\n",
       "          24651.92480261,   34560.77086859, -133413.55888478],\n",
       "       [-185826.62361056, -159958.314801  , -191573.16910162, ...,\n",
       "         -95348.19578332, -133413.55888478,  516065.81889657]])"
      ]
     },
     "execution_count": 13,
     "metadata": {},
     "output_type": "execute_result"
    }
   ],
   "source": [
    "kernel_center =  np.matmul(np.matmul(diff, kernel), diff)\n",
    "kernel_center"
   ]
  },
  {
   "cell_type": "markdown",
   "id": "6d35ecc1",
   "metadata": {},
   "source": [
    "New centered matrix is still nxn"
   ]
  },
  {
   "cell_type": "code",
   "execution_count": 14,
   "id": "f0e85750",
   "metadata": {},
   "outputs": [
    {
     "data": {
      "text/plain": [
       "(5000, 5000)"
      ]
     },
     "execution_count": 14,
     "metadata": {},
     "output_type": "execute_result"
    }
   ],
   "source": [
    "kernel_center.shape"
   ]
  },
  {
   "cell_type": "markdown",
   "id": "721ebaea",
   "metadata": {},
   "source": [
    "# Get Principle Components"
   ]
  },
  {
   "cell_type": "markdown",
   "id": "9b6e0e9b",
   "metadata": {},
   "source": [
    "Get the eigenvalues and eigenvectors of the centered kernel matrix"
   ]
  },
  {
   "cell_type": "code",
   "execution_count": 15,
   "id": "12b161c4",
   "metadata": {},
   "outputs": [
    {
     "data": {
      "text/plain": [
       "array([-2.14508018e-07, -2.01984009e-07, -1.89840838e-07, ...,\n",
       "        1.96903072e+05,  4.05289396e+05,  7.81097812e+08])"
      ]
     },
     "execution_count": 15,
     "metadata": {},
     "output_type": "execute_result"
    }
   ],
   "source": [
    "w,v = np.linalg.eigh(kernel_center)\n",
    "w"
   ]
  },
  {
   "cell_type": "markdown",
   "id": "4dd40b71",
   "metadata": {},
   "source": [
    "Replace 0 or near 0 negative values with a near 0 positive value. We are looking for the most dominant eigenvectors so the ones closest to 0 are of little interest to us. "
   ]
  },
  {
   "cell_type": "code",
   "execution_count": 16,
   "id": "dea1ef2d",
   "metadata": {},
   "outputs": [
    {
     "data": {
      "text/plain": [
       "array([2.14508018e-07, 2.01984009e-07, 1.89840838e-07, ...,\n",
       "       1.96903072e+05, 4.05289396e+05, 7.81097812e+08])"
      ]
     },
     "execution_count": 16,
     "metadata": {},
     "output_type": "execute_result"
    }
   ],
   "source": [
    "for i in range(len(w)):\n",
    "    if w[i] <= 0:\n",
    "        w[i] = np.abs(w[i])\n",
    "w"
   ]
  },
  {
   "cell_type": "markdown",
   "id": "f440db3e",
   "metadata": {},
   "source": [
    "Use eigenvalues to get variances for each component\n",
    "\n",
    "divide each eigenvalue by n "
   ]
  },
  {
   "cell_type": "code",
   "execution_count": 17,
   "id": "9bd4c589",
   "metadata": {},
   "outputs": [
    {
     "data": {
      "text/plain": [
       "array([4.29016037e-11, 4.03968019e-11, 3.79681675e-11, ...,\n",
       "       3.93806145e+01, 8.10578793e+01, 1.56219562e+05])"
      ]
     },
     "execution_count": 17,
     "metadata": {},
     "output_type": "execute_result"
    }
   ],
   "source": [
    "eigenvals = w / len(kernel)\n",
    "eigenvals"
   ]
  },
  {
   "cell_type": "markdown",
   "id": "6a12d823",
   "metadata": {},
   "source": [
    "Divide eigen vectors by one over the root of the eigenvalues"
   ]
  },
  {
   "cell_type": "code",
   "execution_count": 18,
   "id": "7fc36317",
   "metadata": {},
   "outputs": [
    {
     "data": {
      "text/plain": [
       "array([2.15912723e+03, 2.22505887e+03, 2.29511885e+03, ...,\n",
       "       2.25358402e-03, 1.57078729e-03, 3.57805728e-05])"
      ]
     },
     "execution_count": 18,
     "metadata": {},
     "output_type": "execute_result"
    }
   ],
   "source": [
    "factor = np.ones((5000,)) / np.sqrt(w)\n",
    "factor"
   ]
  },
  {
   "cell_type": "code",
   "execution_count": 19,
   "id": "a9620fd7",
   "metadata": {},
   "outputs": [
    {
     "data": {
      "text/plain": [
       "(5000, 5000)"
      ]
     },
     "execution_count": 19,
     "metadata": {},
     "output_type": "execute_result"
    }
   ],
   "source": [
    "c = (factor * v)\n",
    "c.shape"
   ]
  },
  {
   "cell_type": "markdown",
   "id": "152d3fc4",
   "metadata": {},
   "source": [
    "Get the total variance by taking the summation of the eignevalues"
   ]
  },
  {
   "cell_type": "code",
   "execution_count": 20,
   "id": "f3e02657",
   "metadata": {},
   "outputs": [
    {
     "name": "stdout",
     "output_type": "stream",
     "text": [
      "Total Variance: 156387.71347254654\n"
     ]
    }
   ],
   "source": [
    "tot_var = sum(eigenvals)\n",
    "print(\"Total Variance:\", tot_var)"
   ]
  },
  {
   "cell_type": "markdown",
   "id": "772f86f6",
   "metadata": {},
   "source": [
    "Determine how many Principle Components capture 95% of the variance"
   ]
  },
  {
   "cell_type": "code",
   "execution_count": 21,
   "id": "4221a477",
   "metadata": {},
   "outputs": [
    {
     "name": "stdout",
     "output_type": "stream",
     "text": [
      "Number of Principle Components that capture 95% of variance: 1\n"
     ]
    }
   ],
   "source": [
    "count = 0\n",
    "captured_var = 0\n",
    "for i in range(len(eigenvals)-1, 0, -1):\n",
    "    count += 1\n",
    "    captured_var += eigenvals[i]\n",
    "    if captured_var / tot_var >= 0.95:\n",
    "        break\n",
    "\n",
    "\n",
    "print(\"Number of Principle Components that capture 95% of variance:\", count)"
   ]
  },
  {
   "cell_type": "markdown",
   "id": "3cc48c98",
   "metadata": {},
   "source": [
    "# Project the points along the first 2 PCs"
   ]
  },
  {
   "cell_type": "markdown",
   "id": "6f879e48",
   "metadata": {},
   "source": [
    "Project along the first PC"
   ]
  },
  {
   "cell_type": "code",
   "execution_count": 22,
   "id": "f4a63a26",
   "metadata": {},
   "outputs": [],
   "source": [
    "a1 = np.dot(c[:, len(c)-1].T, kernel_center)"
   ]
  },
  {
   "cell_type": "markdown",
   "id": "39b1d504",
   "metadata": {},
   "source": [
    "Project along the second PC"
   ]
  },
  {
   "cell_type": "code",
   "execution_count": 23,
   "id": "cc0ce128",
   "metadata": {},
   "outputs": [],
   "source": [
    "a2 = np.dot(c[:, len(c)-2].T, kernel_center)"
   ]
  },
  {
   "cell_type": "code",
   "execution_count": 24,
   "id": "76dd587c",
   "metadata": {},
   "outputs": [
    {
     "data": {
      "image/png": "[encoded data removed]",
      "text/plain": [
       "<Figure size 432x288 with 1 Axes>"
      ]
     },
     "metadata": {
      "needs_background": "light"
     },
     "output_type": "display_data"
    }
   ],
   "source": [
    "plt.scatter(a1, a2, c =\"blue\")\n",
    "\n",
    "# To show the plot\n",
    "plt.show()"
   ]
  },
  {
   "cell_type": "markdown",
   "id": "176202a1",
   "metadata": {},
   "source": [
    "# Regular PCA"
   ]
  },
  {
   "cell_type": "markdown",
   "id": "39714972",
   "metadata": {},
   "source": [
    "First compute covariance matrix"
   ]
  },
  {
   "cell_type": "code",
   "execution_count": 25,
   "id": "d48a8080",
   "metadata": {},
   "outputs": [],
   "source": [
    "cov = np.cov(data, rowvar=False, bias=True)"
   ]
  },
  {
   "cell_type": "markdown",
   "id": "1ca3742f",
   "metadata": {},
   "source": [
    "Get the first two PCs using eigh "
   ]
  },
  {
   "cell_type": "code",
   "execution_count": 26,
   "id": "26a48d3d",
   "metadata": {},
   "outputs": [],
   "source": [
    "w2, v2 = np.linalg.eigh(cov)"
   ]
  },
  {
   "cell_type": "code",
   "execution_count": 27,
   "id": "b52b97e6",
   "metadata": {},
   "outputs": [
    {
     "data": {
      "text/plain": [
       "array([[ 2.20243272e-04, -9.99893211e-01, -1.22603930e-02,\n",
       "        -4.08888298e-03, -6.20881577e-03, -2.74091544e-03,\n",
       "        -8.25243634e-05, -4.95153260e-04, -2.90924756e-05,\n",
       "         2.87324497e-05, -1.24312453e-05,  6.85553040e-05,\n",
       "        -5.57640327e-05, -1.61157663e-05, -6.25784156e-06,\n",
       "        -5.14211555e-06, -2.00280577e-06, -1.93246207e-05,\n",
       "        -5.75335189e-06, -1.78168925e-05,  5.65700572e-05,\n",
       "        -2.40934799e-04,  3.28814700e-05,  2.99523761e-04,\n",
       "        -6.07934078e-05,  1.16097729e-05, -2.43479948e-05,\n",
       "        -2.58885643e-05, -5.10820661e-06],\n",
       "       [ 1.07170147e-02,  1.36581605e-02, -8.90901620e-01,\n",
       "        -2.39752020e-01, -3.50607378e-01,  1.58744897e-01,\n",
       "        -7.18987841e-03, -1.70024520e-02,  1.75446598e-03,\n",
       "         5.13730813e-06,  2.07700522e-03, -4.76322527e-03,\n",
       "         9.26616763e-04, -1.18453651e-03, -1.08223238e-03,\n",
       "         4.31175357e-05,  9.28611769e-05, -8.60941525e-04,\n",
       "         5.21247992e-04, -9.74955126e-04, -1.36720954e-04,\n",
       "        -1.96153798e-03,  8.38141988e-04,  1.25267016e-03,\n",
       "         4.06981333e-04, -1.26222010e-03, -7.21484580e-04,\n",
       "        -1.24576024e-04, -1.30370205e-03]])"
      ]
     },
     "execution_count": 27,
     "metadata": {},
     "output_type": "execute_result"
    }
   ],
   "source": [
    "eig1 = v2[:, len(v2)-1]\n",
    "eig2 = v2[:, len(v2)-2]\n",
    "eigs = np.vstack((eig1, eig2))\n",
    "eigs"
   ]
  },
  {
   "cell_type": "markdown",
   "id": "ff2a8420",
   "metadata": {},
   "source": [
    "**Center the data**\n",
    "\n",
    "First get the mean vector"
   ]
  },
  {
   "cell_type": "code",
   "execution_count": 28,
   "id": "dc81346a",
   "metadata": {},
   "outputs": [],
   "source": [
    "mean = np.mean(data, axis=0)"
   ]
  },
  {
   "cell_type": "markdown",
   "id": "87f5e1c1",
   "metadata": {},
   "source": [
    "Subtract the mean from the data"
   ]
  },
  {
   "cell_type": "code",
   "execution_count": 29,
   "id": "11f5dcd0",
   "metadata": {},
   "outputs": [],
   "source": [
    "center_data = data - mean"
   ]
  },
  {
   "cell_type": "markdown",
   "id": "5a958827",
   "metadata": {},
   "source": [
    "**Project data onto each new axis**"
   ]
  },
  {
   "cell_type": "code",
   "execution_count": 30,
   "id": "057bfb63",
   "metadata": {},
   "outputs": [],
   "source": [
    "new_data = np.dot(center_data, eigs.T)"
   ]
  },
  {
   "cell_type": "markdown",
   "id": "6b0d0298",
   "metadata": {},
   "source": [
    "**Plot new points**"
   ]
  },
  {
   "cell_type": "code",
   "execution_count": 31,
   "id": "0dab37fe",
   "metadata": {},
   "outputs": [
    {
     "data": {
      "image/png": "[encoded data removed]",
      "text/plain": [
       "<Figure size 432x288 with 1 Axes>"
      ]
     },
     "metadata": {
      "needs_background": "light"
     },
     "output_type": "display_data"
    }
   ],
   "source": [
    "plt.scatter(new_data[:, 0], new_data[:, 1], c =\"blue\")\n",
    "\n",
    "# To show the plot\n",
    "plt.show()"
   ]
  },
  {
   "cell_type": "markdown",
   "id": "badb28f2",
   "metadata": {},
   "source": [
    "The Graph for the linear kernel PCA and the regular PCA look the same. \n",
    "\n",
    "The eigenvalues for the Kernel matrix and the covariance matrix are different, because the kernel matrix is a matrix of dot products, and the covariance matrix is the covariance on the original dataset. Both deal with the data in different ways, but yeild the same graph in the end. "
   ]
  },
  {
   "cell_type": "markdown",
   "id": "7866777b",
   "metadata": {},
   "source": [
    "# Gaussian Kernel\n",
    "\n",
    "store data again"
   ]
  },
  {
   "cell_type": "code",
   "execution_count": 45,
   "id": "a68ac21a",
   "metadata": {},
   "outputs": [],
   "source": [
    "data = df.to_numpy()"
   ]
  },
  {
   "cell_type": "markdown",
   "id": "4548689d",
   "metadata": {},
   "source": [
    "**Compute Gaussian Kernel**\n",
    "\n",
    "First get the vector of the squared norms"
   ]
  },
  {
   "cell_type": "code",
   "execution_count": 46,
   "id": "1c6525e8",
   "metadata": {},
   "outputs": [],
   "source": [
    "S = np.linalg.norm(data, axis = 1)\n",
    "S.shape\n",
    "S = S * S"
   ]
  },
  {
   "cell_type": "markdown",
   "id": "cc1883af",
   "metadata": {},
   "source": [
    "Set variance\n",
    "\n",
    "I chose an initial variance of 1, then increased the variance by one order of magnitude until I settles on a variance of 100,000 as a good number"
   ]
  },
  {
   "cell_type": "code",
   "execution_count": 47,
   "id": "3b3c7609",
   "metadata": {},
   "outputs": [],
   "source": [
    "variance = 100000"
   ]
  },
  {
   "cell_type": "markdown",
   "id": "8bb1ccb1",
   "metadata": {},
   "source": [
    "Compute the Gaussian Kernel"
   ]
  },
  {
   "cell_type": "code",
   "execution_count": 48,
   "id": "2d9f67a6",
   "metadata": {},
   "outputs": [
    {
     "data": {
      "text/plain": [
       "array([[1.        , 0.99347556, 0.99961244, ..., 0.92326513, 0.97340083,\n",
       "        0.00845159],\n",
       "       [0.99347556, 1.        , 0.9903374 , ..., 0.95976377, 0.99280572,\n",
       "        0.01193642],\n",
       "       [0.99961244, 0.9903374 , 1.        , ..., 0.91365133, 0.96742638,\n",
       "        0.00781337],\n",
       "       ...,\n",
       "       [0.92326513, 0.95976377, 0.91365133, ..., 1.        , 0.98548282,\n",
       "        0.02672515],\n",
       "       [0.97340083, 0.99280572, 0.96742638, ..., 0.98548282, 1.        ,\n",
       "        0.01678502],\n",
       "       [0.00845159, 0.01193642, 0.00781337, ..., 0.02672515, 0.01678502,\n",
       "        1.        ]])"
      ]
     },
     "execution_count": 48,
     "metadata": {},
     "output_type": "execute_result"
    }
   ],
   "source": [
    "gaussian_kernel = np.exp( ((2 * np.matmul(data, data.T)) - S - S[:,None]) / (2*variance) )\n",
    "gaussian_kernel"
   ]
  },
  {
   "cell_type": "markdown",
   "id": "042160af",
   "metadata": {},
   "source": [
    "Now we have an nxn gaussian kernel, which will need to be centered before we can make projections"
   ]
  },
  {
   "cell_type": "code",
   "execution_count": 49,
   "id": "a6848fc1",
   "metadata": {},
   "outputs": [
    {
     "data": {
      "text/plain": [
       "(5000, 5000)"
      ]
     },
     "execution_count": 49,
     "metadata": {},
     "output_type": "execute_result"
    }
   ],
   "source": [
    "gaussian_kernel.shape"
   ]
  },
  {
   "cell_type": "markdown",
   "id": "401f66bd",
   "metadata": {},
   "source": [
    "**Center Kernel Matrix**"
   ]
  },
  {
   "cell_type": "code",
   "execution_count": 50,
   "id": "a6ade40a",
   "metadata": {},
   "outputs": [
    {
     "data": {
      "text/plain": [
       "array([[ 0.19257357,  0.167139  ,  0.19723709, ...,  0.07766141,\n",
       "         0.1342889 , -0.25443241],\n",
       "       [ 0.167139  ,  0.15475331,  0.16905192, ...,  0.09524992,\n",
       "         0.13478366, -0.26985771],\n",
       "       [ 0.19723709,  0.16905192,  0.20267573, ...,  0.0730987 ,\n",
       "         0.13336554, -0.25001956],\n",
       "       ...,\n",
       "       [ 0.07766141,  0.09524992,  0.0730987 , ...,  0.116219  ,\n",
       "         0.10819361, -0.27433613],\n",
       "       [ 0.1342889 ,  0.13478366,  0.13336554, ...,  0.10819361,\n",
       "         0.12920258, -0.27778448],\n",
       "       [-0.25443241, -0.26985771, -0.25001956, ..., -0.27433613,\n",
       "        -0.27778448,  1.28165843]])"
      ]
     },
     "execution_count": 50,
     "metadata": {},
     "output_type": "execute_result"
    }
   ],
   "source": [
    "I = np.identity(len(gaussian_kernel))\n",
    "ones = np.ones((len(gaussian_kernel), len(gaussian_kernel)))\n",
    "O = ones / len(gaussian_kernel)\n",
    "diff = I - O\n",
    "\n",
    "gaussian_kernel_center = np.matmul(np.matmul(diff, gaussian_kernel), diff)\n",
    "gaussian_kernel_center"
   ]
  },
  {
   "cell_type": "markdown",
   "id": "3c3e26c8",
   "metadata": {},
   "source": [
    "Get the eigenvalues and eigenvectors from the centered kernel matrix"
   ]
  },
  {
   "cell_type": "code",
   "execution_count": 51,
   "id": "b0cddf78",
   "metadata": {},
   "outputs": [],
   "source": [
    "gaussian_w,gaussian_v = np.linalg.eigh(gaussian_kernel_center)"
   ]
  },
  {
   "cell_type": "markdown",
   "id": "0048211d",
   "metadata": {},
   "source": [
    "Replace any near 0 negative values"
   ]
  },
  {
   "cell_type": "code",
   "execution_count": 52,
   "id": "b57033f8",
   "metadata": {},
   "outputs": [],
   "source": [
    "for i in range(len(gaussian_w)):\n",
    "    if gaussian_w[i] <= 0:\n",
    "        gaussian_w[i] = np.abs(gaussian_w[i])"
   ]
  },
  {
   "cell_type": "markdown",
   "id": "b847b025",
   "metadata": {},
   "source": [
    "Divide eigenvalues by n"
   ]
  },
  {
   "cell_type": "code",
   "execution_count": 53,
   "id": "d84f9f9c",
   "metadata": {},
   "outputs": [],
   "source": [
    "gaussian_eigenvals = gaussian_w / len(gaussian_kernel)"
   ]
  },
  {
   "cell_type": "markdown",
   "id": "fc58adfc",
   "metadata": {},
   "source": [
    "Find the weights vector from 1/sqrt(eigenvalues) and the eigenvectors"
   ]
  },
  {
   "cell_type": "code",
   "execution_count": 54,
   "id": "067cfb46",
   "metadata": {},
   "outputs": [],
   "source": [
    "gaussian_factor = np.ones((5000,)) / np.sqrt(gaussian_w)"
   ]
  },
  {
   "cell_type": "code",
   "execution_count": 55,
   "id": "18a71425",
   "metadata": {},
   "outputs": [],
   "source": [
    "gaussian_c = (gaussian_factor * gaussian_v)"
   ]
  },
  {
   "cell_type": "markdown",
   "id": "44aea5f9",
   "metadata": {},
   "source": [
    "Use the weights vector and the centered kernel matrix to project along the 2 most dominant principal components"
   ]
  },
  {
   "cell_type": "code",
   "execution_count": 56,
   "id": "9fa1e560",
   "metadata": {},
   "outputs": [],
   "source": [
    "ga1 = np.dot(gaussian_c[:, len(gaussian_c)-1].T, gaussian_kernel_center)\n",
    "ga2 = np.dot(gaussian_c[:, len(gaussian_c)-2].T, gaussian_kernel_center)"
   ]
  },
  {
   "cell_type": "markdown",
   "id": "190f911f",
   "metadata": {},
   "source": [
    "Plot the projected data"
   ]
  },
  {
   "cell_type": "code",
   "execution_count": 57,
   "id": "93e16498",
   "metadata": {},
   "outputs": [
    {
     "data": {
      "image/png": "[encoded data removed]",
      "text/plain": [
       "<Figure size 432x288 with 1 Axes>"
      ]
     },
     "metadata": {
      "needs_background": "light"
     },
     "output_type": "display_data"
    }
   ],
   "source": [
    "plt.scatter(ga1, ga2, c =\"blue\")\n",
    "\n",
    "# To show the plot\n",
    "plt.show()"
   ]
  },
  {
   "cell_type": "markdown",
   "id": "1d5dff1a",
   "metadata": {},
   "source": [
    "This graph is much different that the previous two graphs. This makes sense, as the kernel is now the gaussian kernel, and not the linear kernel. "
   ]
  },
  {
   "cell_type": "code",
   "execution_count": null,
   "id": "2b5a2d59",
   "metadata": {},
   "outputs": [],
   "source": []
  }
 ],
 "metadata": {
  "kernelspec": {
   "display_name": "Python 3 (ipykernel)",
   "language": "python",
   "name": "python3"
  },
  "language_info": {
   "codemirror_mode": {
    "name": "ipython",
    "version": 3
   },
   "file_extension": ".py",
   "mimetype": "text/x-python",
   "name": "python",
   "nbconvert_exporter": "python",
   "pygments_lexer": "ipython3",
   "version": "3.9.12"
  }
 },
 "nbformat": 4,
 "nbformat_minor": 5
}
