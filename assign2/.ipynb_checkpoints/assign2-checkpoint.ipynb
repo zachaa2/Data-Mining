{
 "cells": [
  {
   "cell_type": "markdown",
   "id": "a06db517",
   "metadata": {},
   "source": [
    "# Importing Dependancies"
   ]
  },
  {
   "cell_type": "code",
   "execution_count": 1,
   "id": "be18b5d2",
   "metadata": {},
   "outputs": [],
   "source": [
    "import numpy as np\n",
    "import pandas as pd\n",
    "import warnings\n",
    "import copy\n",
    "warnings.filterwarnings(\"ignore\")"
   ]
  },
  {
   "cell_type": "markdown",
   "id": "738fea50",
   "metadata": {},
   "source": [
    "# Read csv using Pandas"
   ]
  },
  {
   "cell_type": "markdown",
   "id": "241bd92a",
   "metadata": {},
   "source": [
    "[CSV Source](https://archive.ics.uci.edu/ml/datasets/online+news+popularity)"
   ]
  },
  {
   "cell_type": "code",
   "execution_count": 2,
   "id": "9e2c145d",
   "metadata": {},
   "outputs": [],
   "source": [
    "# read data into dataframe\n",
    "df = pd.read_csv(\"./OnlineNewsPopularity.csv\") "
   ]
  },
  {
   "cell_type": "markdown",
   "id": "b14e57dc",
   "metadata": {},
   "source": [
    "# Dropping Attributes\n",
    "\n",
    "Attributes 0-1, 4-6, 13-38 and 60 are dropped, leaving 29 attributes left"
   ]
  },
  {
   "cell_type": "code",
   "execution_count": 3,
   "id": "e9205c23",
   "metadata": {},
   "outputs": [
    {
     "data": {
      "text/html": [
       "<div>\n",
       "<style scoped>\n",
       "    .dataframe tbody tr th:only-of-type {\n",
       "        vertical-align: middle;\n",
       "    }\n",
       "\n",
       "    .dataframe tbody tr th {\n",
       "        vertical-align: top;\n",
       "    }\n",
       "\n",
       "    .dataframe thead th {\n",
       "        text-align: right;\n",
       "    }\n",
       "</style>\n",
       "<table border=\"1\" class=\"dataframe\">\n",
       "  <thead>\n",
       "    <tr style=\"text-align: right;\">\n",
       "      <th></th>\n",
       "      <th>n_tokens_title</th>\n",
       "      <th>n_tokens_content</th>\n",
       "      <th>num_hrefs</th>\n",
       "      <th>num_self_hrefs</th>\n",
       "      <th>num_imgs</th>\n",
       "      <th>num_videos</th>\n",
       "      <th>average_token_length</th>\n",
       "      <th>num_keywords</th>\n",
       "      <th>LDA_00</th>\n",
       "      <th>LDA_01</th>\n",
       "      <th>...</th>\n",
       "      <th>avg_positive_polarity</th>\n",
       "      <th>min_positive_polarity</th>\n",
       "      <th>max_positive_polarity</th>\n",
       "      <th>avg_negative_polarity</th>\n",
       "      <th>min_negative_polarity</th>\n",
       "      <th>max_negative_polarity</th>\n",
       "      <th>title_subjectivity</th>\n",
       "      <th>title_sentiment_polarity</th>\n",
       "      <th>abs_title_subjectivity</th>\n",
       "      <th>abs_title_sentiment_polarity</th>\n",
       "    </tr>\n",
       "  </thead>\n",
       "  <tbody>\n",
       "    <tr>\n",
       "      <th>0</th>\n",
       "      <td>12.0</td>\n",
       "      <td>219.0</td>\n",
       "      <td>4.0</td>\n",
       "      <td>2.0</td>\n",
       "      <td>1.0</td>\n",
       "      <td>0.0</td>\n",
       "      <td>4.680365</td>\n",
       "      <td>5.0</td>\n",
       "      <td>0.500331</td>\n",
       "      <td>0.378279</td>\n",
       "      <td>...</td>\n",
       "      <td>0.378636</td>\n",
       "      <td>0.100000</td>\n",
       "      <td>0.7</td>\n",
       "      <td>-0.350000</td>\n",
       "      <td>-0.600</td>\n",
       "      <td>-0.200000</td>\n",
       "      <td>0.500000</td>\n",
       "      <td>-0.187500</td>\n",
       "      <td>0.000000</td>\n",
       "      <td>0.187500</td>\n",
       "    </tr>\n",
       "    <tr>\n",
       "      <th>1</th>\n",
       "      <td>9.0</td>\n",
       "      <td>255.0</td>\n",
       "      <td>3.0</td>\n",
       "      <td>1.0</td>\n",
       "      <td>1.0</td>\n",
       "      <td>0.0</td>\n",
       "      <td>4.913725</td>\n",
       "      <td>4.0</td>\n",
       "      <td>0.799756</td>\n",
       "      <td>0.050047</td>\n",
       "      <td>...</td>\n",
       "      <td>0.286915</td>\n",
       "      <td>0.033333</td>\n",
       "      <td>0.7</td>\n",
       "      <td>-0.118750</td>\n",
       "      <td>-0.125</td>\n",
       "      <td>-0.100000</td>\n",
       "      <td>0.000000</td>\n",
       "      <td>0.000000</td>\n",
       "      <td>0.500000</td>\n",
       "      <td>0.000000</td>\n",
       "    </tr>\n",
       "    <tr>\n",
       "      <th>2</th>\n",
       "      <td>9.0</td>\n",
       "      <td>211.0</td>\n",
       "      <td>3.0</td>\n",
       "      <td>1.0</td>\n",
       "      <td>1.0</td>\n",
       "      <td>0.0</td>\n",
       "      <td>4.393365</td>\n",
       "      <td>6.0</td>\n",
       "      <td>0.217792</td>\n",
       "      <td>0.033334</td>\n",
       "      <td>...</td>\n",
       "      <td>0.495833</td>\n",
       "      <td>0.100000</td>\n",
       "      <td>1.0</td>\n",
       "      <td>-0.466667</td>\n",
       "      <td>-0.800</td>\n",
       "      <td>-0.133333</td>\n",
       "      <td>0.000000</td>\n",
       "      <td>0.000000</td>\n",
       "      <td>0.500000</td>\n",
       "      <td>0.000000</td>\n",
       "    </tr>\n",
       "    <tr>\n",
       "      <th>3</th>\n",
       "      <td>9.0</td>\n",
       "      <td>531.0</td>\n",
       "      <td>9.0</td>\n",
       "      <td>0.0</td>\n",
       "      <td>1.0</td>\n",
       "      <td>0.0</td>\n",
       "      <td>4.404896</td>\n",
       "      <td>7.0</td>\n",
       "      <td>0.028573</td>\n",
       "      <td>0.419300</td>\n",
       "      <td>...</td>\n",
       "      <td>0.385965</td>\n",
       "      <td>0.136364</td>\n",
       "      <td>0.8</td>\n",
       "      <td>-0.369697</td>\n",
       "      <td>-0.600</td>\n",
       "      <td>-0.166667</td>\n",
       "      <td>0.000000</td>\n",
       "      <td>0.000000</td>\n",
       "      <td>0.500000</td>\n",
       "      <td>0.000000</td>\n",
       "    </tr>\n",
       "    <tr>\n",
       "      <th>4</th>\n",
       "      <td>13.0</td>\n",
       "      <td>1072.0</td>\n",
       "      <td>19.0</td>\n",
       "      <td>19.0</td>\n",
       "      <td>20.0</td>\n",
       "      <td>0.0</td>\n",
       "      <td>4.682836</td>\n",
       "      <td>7.0</td>\n",
       "      <td>0.028633</td>\n",
       "      <td>0.028794</td>\n",
       "      <td>...</td>\n",
       "      <td>0.411127</td>\n",
       "      <td>0.033333</td>\n",
       "      <td>1.0</td>\n",
       "      <td>-0.220192</td>\n",
       "      <td>-0.500</td>\n",
       "      <td>-0.050000</td>\n",
       "      <td>0.454545</td>\n",
       "      <td>0.136364</td>\n",
       "      <td>0.045455</td>\n",
       "      <td>0.136364</td>\n",
       "    </tr>\n",
       "  </tbody>\n",
       "</table>\n",
       "<p>5 rows × 29 columns</p>\n",
       "</div>"
      ],
      "text/plain": [
       "    n_tokens_title   n_tokens_content   num_hrefs   num_self_hrefs   num_imgs  \\\n",
       "0             12.0              219.0         4.0              2.0        1.0   \n",
       "1              9.0              255.0         3.0              1.0        1.0   \n",
       "2              9.0              211.0         3.0              1.0        1.0   \n",
       "3              9.0              531.0         9.0              0.0        1.0   \n",
       "4             13.0             1072.0        19.0             19.0       20.0   \n",
       "\n",
       "    num_videos   average_token_length   num_keywords    LDA_00    LDA_01  ...  \\\n",
       "0          0.0               4.680365            5.0  0.500331  0.378279  ...   \n",
       "1          0.0               4.913725            4.0  0.799756  0.050047  ...   \n",
       "2          0.0               4.393365            6.0  0.217792  0.033334  ...   \n",
       "3          0.0               4.404896            7.0  0.028573  0.419300  ...   \n",
       "4          0.0               4.682836            7.0  0.028633  0.028794  ...   \n",
       "\n",
       "    avg_positive_polarity   min_positive_polarity   max_positive_polarity  \\\n",
       "0                0.378636                0.100000                     0.7   \n",
       "1                0.286915                0.033333                     0.7   \n",
       "2                0.495833                0.100000                     1.0   \n",
       "3                0.385965                0.136364                     0.8   \n",
       "4                0.411127                0.033333                     1.0   \n",
       "\n",
       "    avg_negative_polarity   min_negative_polarity   max_negative_polarity  \\\n",
       "0               -0.350000                  -0.600               -0.200000   \n",
       "1               -0.118750                  -0.125               -0.100000   \n",
       "2               -0.466667                  -0.800               -0.133333   \n",
       "3               -0.369697                  -0.600               -0.166667   \n",
       "4               -0.220192                  -0.500               -0.050000   \n",
       "\n",
       "    title_subjectivity   title_sentiment_polarity   abs_title_subjectivity  \\\n",
       "0             0.500000                  -0.187500                 0.000000   \n",
       "1             0.000000                   0.000000                 0.500000   \n",
       "2             0.000000                   0.000000                 0.500000   \n",
       "3             0.000000                   0.000000                 0.500000   \n",
       "4             0.454545                   0.136364                 0.045455   \n",
       "\n",
       "    abs_title_sentiment_polarity  \n",
       "0                       0.187500  \n",
       "1                       0.000000  \n",
       "2                       0.000000  \n",
       "3                       0.000000  \n",
       "4                       0.136364  \n",
       "\n",
       "[5 rows x 29 columns]"
      ]
     },
     "execution_count": 3,
     "metadata": {},
     "output_type": "execute_result"
    }
   ],
   "source": [
    "# drop unused features\n",
    "vals = [0, 1, 4, 5, 6, 60]\n",
    "for i in range(13, 39):\n",
    "    vals.append(i)\n",
    "\n",
    "df = df.drop(df.columns[vals], axis = 1)\n",
    "df.head()"
   ]
  },
  {
   "cell_type": "code",
   "execution_count": 4,
   "id": "6e54cbcd",
   "metadata": {},
   "outputs": [
    {
     "name": "stdout",
     "output_type": "stream",
     "text": [
      "29\n"
     ]
    }
   ],
   "source": [
    "# 29 attribute column vectors left\n",
    "print(len(df.columns))"
   ]
  },
  {
   "cell_type": "markdown",
   "id": "777147e8",
   "metadata": {},
   "source": [
    "# Computing Principal Components\n",
    "\n",
    "Use the power-iteration method to compute the first 2 principal components"
   ]
  },
  {
   "cell_type": "markdown",
   "id": "d4622cd5",
   "metadata": {},
   "source": [
    "**Setting the seed for randomness**"
   ]
  },
  {
   "cell_type": "code",
   "execution_count": 5,
   "id": "b1378da0",
   "metadata": {},
   "outputs": [],
   "source": [
    " np.random.seed(42)"
   ]
  },
  {
   "cell_type": "markdown",
   "id": "fd91a5ff",
   "metadata": {},
   "source": [
    "**First create a *d x 2* random matrix.**\n",
    "\n",
    "I am using numpy.random.sample, which returns random floats in the half open interval [0.0, 1.0)"
   ]
  },
  {
   "cell_type": "code",
   "execution_count": 6,
   "id": "d7dc94c6",
   "metadata": {},
   "outputs": [
    {
     "name": "stdout",
     "output_type": "stream",
     "text": [
      "Magnitude of the first column vector: 1.0\n",
      "Magnitude of the second column vector: 1.0\n",
      "Initial d x 2 matrix: \n",
      "[[0.13529867 0.28867485]\n",
      " [0.2644251  0.18177664]\n",
      " [0.05636009 0.04736617]\n",
      " [0.02098209 0.26300569]\n",
      " [0.21714646 0.21499913]\n",
      " [0.00743593 0.29450339]\n",
      " [0.30071113 0.06447464]\n",
      " [0.06568235 0.05568894]\n",
      " [0.1099043  0.15933702]\n",
      " [0.15603559 0.0884288 ]\n",
      " [0.22102541 0.04235591]\n",
      " [0.10553418 0.11124209]\n",
      " [0.16475047 0.23841079]\n",
      " [0.07213005 0.15614212]\n",
      " [0.21400352 0.0141042 ]\n",
      " [0.21946917 0.05177794]\n",
      " [0.0234992  0.28811956]\n",
      " [0.34882439 0.24546174]\n",
      " [0.11003851 0.02965716]\n",
      " [0.24717197 0.13364788]\n",
      " [0.04408503 0.1503555 ]\n",
      " [0.01242249 0.27610601]\n",
      " [0.09348154 0.20116824]\n",
      " [0.11260234 0.15791343]\n",
      " [0.19749333 0.0561292 ]\n",
      " [0.35025223 0.2353613 ]\n",
      " [0.33938409 0.27170534]\n",
      " [0.21598507 0.27991785]\n",
      " [0.03196698 0.05950823]]\n"
     ]
    }
   ],
   "source": [
    "# generate d x 2 matrix\n",
    "d = 29\n",
    "mat = []\n",
    "for i in range(29):\n",
    "    row = np.random.sample(2)\n",
    "    mat.append(row)\n",
    "    \n",
    "x0 = np.array(mat)\n",
    "\n",
    "# make the column vectors have unit length\n",
    "norm = np.linalg.norm(x0, axis=0)\n",
    "x0 = x0 / norm\n",
    "\n",
    "\n",
    "print(\"Magnitude of the first column vector:\", np.linalg.norm(x0[:, 0]))\n",
    "print(\"Magnitude of the second column vector:\", np.linalg.norm(x0[:, 1]))\n",
    "\n",
    "print(\"Initial d x 2 matrix: \")\n",
    "print(x0)"
   ]
  },
  {
   "cell_type": "markdown",
   "id": "c10fb317",
   "metadata": {},
   "source": [
    "We have generated an initial random *d x 2* matrix with unit length column vectors."
   ]
  },
  {
   "cell_type": "markdown",
   "id": "434ebf7e",
   "metadata": {},
   "source": [
    "Computing Covariance Matrix"
   ]
  },
  {
   "cell_type": "code",
   "execution_count": 7,
   "id": "b25016d1",
   "metadata": {},
   "outputs": [
    {
     "name": "stdout",
     "output_type": "stream",
     "text": [
      "[[ 4.46903889e+00  1.80854387e+01 -1.28153993e+00 -1.21073442e-01\n",
      "  -1.55605149e-01  4.46877049e-01 -1.27457782e-01 -2.45258092e-02\n",
      "  -3.89357427e-02  2.95247577e-02  2.28827089e-02  2.63387370e-02\n",
      "  -3.97751782e-02 -1.40118820e-02 -1.47997553e-02 -2.39304277e-03\n",
      "   3.55468886e-04 -2.67750104e-02  1.12850536e-02 -1.09658486e-02\n",
      "  -3.77929762e-03 -1.13467282e-02 -4.61606376e-03 -1.78857213e-02\n",
      "   2.30338633e-03  5.29477264e-02  1.34452544e-04 -5.86494607e-02\n",
      "   1.93982451e-02]\n",
      " [ 1.80854387e+01  2.21936686e+05  2.25851767e+03  5.53345475e+02\n",
      "   1.34112219e+03  2.00676699e+02  6.67458249e+01  6.55153572e+01\n",
      "   3.24808307e+00 -1.00642408e+00  1.15992247e+01 -1.94884178e+01\n",
      "   5.62171717e+00  7.02948274e+00  1.00170026e+00  1.10004488e+00\n",
      "   6.37683377e-01  8.86730407e+00  7.43386309e+00  6.65469942e+00\n",
      "  -8.78514880e+00  4.85256253e+01 -7.84478615e+00 -6.16217487e+01\n",
      "   1.01483110e+01  6.84908165e-01  2.92093982e+00  6.34662705e-01\n",
      "   1.43271448e+00]\n",
      " [-1.28153993e+00  2.25851767e+03  1.28411379e+02  1.73191900e+01\n",
      "   3.22624368e+01  5.33072264e+00  2.12984728e+00  2.72348369e+00\n",
      "  -5.98961198e-02 -1.33952233e-01 -4.00646951e-02  4.14067689e-01\n",
      "  -1.80157575e-01  2.69028024e-01  9.54057254e-02  1.11443604e-02\n",
      "   3.98951431e-03  2.19120728e-01  1.05847897e-01  2.22992078e-01\n",
      "  -6.64020190e-02  8.05100944e-01 -2.20208863e-01 -8.67028961e-01\n",
      "   5.93844296e-02  1.61483226e-01  1.17435762e-01  2.02018033e-02\n",
      "   1.44948296e-01]\n",
      " [-1.21073442e-01  5.53345475e+02  1.73191900e+01  1.48617384e+01\n",
      "   7.64268572e+00  1.22662239e+00  4.13019967e-01  7.32875944e-01\n",
      "  -2.19908323e-02 -3.92275891e-03 -9.25015411e-02 -3.27455962e-02\n",
      "   1.50991564e-01  5.18579747e-02  3.36567802e-02  8.13920286e-03\n",
      "   4.77221978e-04  1.04186343e-01 -6.13228364e-03  3.95205930e-02\n",
      "  -1.99725305e-02  1.81418675e-01 -2.86677631e-02 -1.36606630e-01\n",
      "   1.43951610e-02 -1.40490085e-02  2.68351597e-02  6.52180113e-03\n",
      "  -5.85308266e-03]\n",
      " [-1.55605149e-01  1.34112219e+03  3.22624368e+01  7.64268572e+00\n",
      "   6.90449437e+01 -2.29838763e+00  2.38023834e-01  1.40283293e+00\n",
      "  -3.28727333e-01  9.14265146e-02 -2.21581896e-01  5.12449546e-01\n",
      "  -5.47386569e-02  7.80181586e-02  1.69798234e-02 -6.02186879e-03\n",
      "   2.22871781e-03 -3.43491580e-02  5.19395486e-02  8.37791913e-02\n",
      "  -1.46261792e-02  3.19609189e-01 -7.69442926e-02 -3.29301971e-01\n",
      "   3.37942959e-02  1.53072466e-01  1.02146326e-01 -2.15844813e-02\n",
      "   1.19037516e-01]\n",
      " [ 4.46877049e-01  2.00676699e+02  5.33072264e+00  1.22662239e+00\n",
      "  -2.29838763e+00  1.68740478e+01 -1.01985936e-02 -1.74544223e-01\n",
      "  -7.61451064e-02  1.07170425e-02 -1.07741528e-01  3.24572714e-01\n",
      "  -1.51371594e-01  3.93283969e-02 -1.13212901e-02  5.17540697e-03\n",
      "   7.96896405e-03 -3.39556618e-02  4.75100564e-02  4.18441550e-02\n",
      "  -2.95974635e-03  1.27901173e-01 -6.08488378e-02 -1.64783411e-01\n",
      "   1.06761997e-02  8.12850177e-02  2.39672740e-02 -1.70469018e-02\n",
      "   5.13408842e-02]\n",
      " [-1.27457782e-01  6.67458249e+01  2.12984728e+00  4.13019967e-01\n",
      "   2.38023834e-01 -1.01985936e-02  7.13002773e-01 -2.71049980e-02\n",
      "   1.75202083e-02 -4.08349318e-03  2.36145541e-02 -4.52931145e-02\n",
      "   8.23811358e-03  5.88823713e-02  1.46126779e-02  4.75238200e-03\n",
      "   2.09055525e-03  9.29745652e-02  4.25240520e-02  4.76781701e-02\n",
      "   1.33806768e-02  9.86256709e-02 -3.50002708e-02 -6.83344676e-02\n",
      "  -1.56762158e-02 -1.10627882e-02 -3.74729181e-03  4.23805922e-03\n",
      "  -7.06089297e-03]\n",
      " [-2.45258092e-02  6.55153572e+01  2.72348369e+00  7.32875944e-01\n",
      "   1.40283293e+00 -1.74544223e-01 -2.71049980e-02  3.64468689e+00\n",
      "  -7.77636577e-02 -2.61794612e-02 -1.05804643e-02  1.28073458e-02\n",
      "   1.01721882e-01  8.59913126e-03  1.54368290e-02  1.67912577e-03\n",
      "  -7.84854879e-04  1.28392738e-02 -2.11283694e-02  6.72586426e-03\n",
      "  -2.16337766e-03  2.95369891e-02  5.14831854e-03 -1.47176621e-03\n",
      "   5.10467789e-03  9.91289861e-03  1.60671825e-02 -3.96158935e-03\n",
      "   1.01664670e-02]\n",
      " [-3.89357427e-02  3.24808307e+00 -5.98961198e-02 -2.19908323e-02\n",
      "  -3.28727333e-01 -7.61451064e-02  1.75202083e-02 -7.77636577e-02\n",
      "   6.91539532e-02 -1.03616776e-02 -1.89609269e-02 -2.13151219e-02\n",
      "  -1.85115704e-02 -2.38108597e-04  2.72992457e-03  6.73413932e-04\n",
      "  -2.21001654e-04  8.08961657e-03 -4.66823854e-03  1.72832303e-04\n",
      "  -1.95055655e-03  3.47109760e-03  1.37798869e-03  2.99440433e-03\n",
      "  -2.19144848e-04 -4.16207830e-03  1.95327769e-03  6.63619779e-05\n",
      "  -1.66759380e-03]\n",
      " [ 2.95247577e-02 -1.00642408e+00 -1.33952233e-01 -3.92275891e-03\n",
      "   9.14265146e-02  1.07170425e-02 -4.08349318e-03 -2.61794612e-02\n",
      "  -1.03616776e-02  4.82700927e-02 -1.43638088e-02 -7.89012621e-03\n",
      "  -1.56509171e-02  1.36104201e-03 -3.34419816e-04  2.40609085e-04\n",
      "   2.30498212e-04 -5.74290840e-04  9.99999081e-04  1.03564412e-03\n",
      "   4.15741807e-04  2.20952557e-03 -2.88753035e-03 -3.90373861e-03\n",
      "  -8.30653010e-04  3.87866260e-03 -3.74792362e-04 -2.97897880e-03\n",
      "   1.71216475e-03]\n",
      " [ 2.28827089e-02  1.15992247e+01 -4.00646951e-02 -9.25015411e-02\n",
      "  -2.21581896e-01 -1.07741528e-01  2.36145541e-02 -1.05804643e-02\n",
      "  -1.89609269e-02 -1.43638088e-02  7.96039081e-02 -2.73708053e-02\n",
      "  -1.89029105e-02 -5.87912674e-03 -5.98132555e-03 -1.12914392e-03\n",
      "   6.18619171e-05 -7.50186932e-03  8.34345124e-03 -4.07810211e-03\n",
      "  -1.19168408e-03 -7.64327318e-03  1.38079123e-03 -5.66186688e-03\n",
      "   2.14277872e-03 -6.99938066e-03 -5.56269189e-03  3.15909652e-03\n",
      "  -5.21806427e-03]\n",
      " [ 2.63387370e-02 -1.94884178e+01  4.14067689e-01 -3.27455962e-02\n",
      "   5.12449546e-01  3.24572714e-01 -4.52931145e-02  1.28073458e-02\n",
      "  -2.13151219e-02 -7.89012621e-03 -2.73708053e-02  8.71353711e-02\n",
      "  -3.05536732e-02  2.78602915e-03 -2.61593101e-04 -2.63533349e-04\n",
      "   2.36869061e-04 -9.48870186e-03  2.75811504e-04  2.21491295e-03\n",
      "   2.28939025e-03 -1.02829991e-03 -4.31245035e-03 -2.19178368e-03\n",
      "  -2.10523517e-03  1.23528526e-02  2.16946418e-03 -7.68130313e-04\n",
      "   8.15740192e-03]\n",
      " [-3.97751782e-02  5.62171717e+00 -1.80157575e-01  1.50991564e-01\n",
      "  -5.47386569e-02 -1.51371594e-01  8.23811358e-03  1.01721882e-01\n",
      "  -1.85115704e-02 -1.56509171e-02 -1.89029105e-02 -3.05536732e-02\n",
      "   8.36249745e-02  1.98134798e-03  3.85042341e-03  4.79653767e-04\n",
      "  -3.07808504e-04  9.49245235e-03 -4.94376031e-03  6.63637790e-04\n",
      "   4.39516138e-04  3.01003799e-03  4.43465442e-03  8.74981907e-03\n",
      "   1.00954267e-03 -5.06293403e-03  1.81654404e-03  5.30273429e-04\n",
      "  -2.97997198e-03]\n",
      " [-1.40118820e-02  7.02948274e+00  2.69028024e-01  5.18579747e-02\n",
      "   7.80181586e-02  3.93283969e-02  5.88823713e-02  8.59913126e-03\n",
      "  -2.38108597e-04  1.36104201e-03 -5.87912674e-03  2.78602915e-03\n",
      "   1.98134798e-03  1.36149623e-02  3.83903588e-03  9.49822216e-04\n",
      "   3.19870743e-04  1.08189665e-02  2.42224122e-03  7.70617177e-03\n",
      "   2.03022595e-03  1.49987844e-02 -6.60492535e-03 -1.18573966e-02\n",
      "  -2.48373108e-03  4.31769089e-03  1.05539965e-03 -8.27901493e-05\n",
      "   2.40456490e-03]\n",
      " [-1.47997553e-02  1.00170026e+00  9.54057254e-02  3.36567802e-02\n",
      "   1.69798234e-02 -1.13212901e-02  1.46126779e-02  1.54368290e-02\n",
      "   2.72992457e-03 -3.34419816e-04 -5.98132555e-03 -2.61593101e-04\n",
      "   3.85042341e-03  3.83903588e-03  9.39531609e-03  9.64043951e-04\n",
      "  -4.95354240e-04  1.34184876e-02 -9.84920112e-03  5.03314461e-03\n",
      "   5.95288412e-04  1.03489312e-02  2.84452918e-03  8.02974609e-03\n",
      "  -4.08946446e-04  7.42344714e-04  6.13049896e-03 -5.25502021e-04\n",
      "   1.57703800e-03]\n",
      " [-2.39304277e-03  1.10004488e+00  1.11443604e-02  8.13920286e-03\n",
      "  -6.02186879e-03  5.17540697e-03  4.75238200e-03  1.67912577e-03\n",
      "   6.73413932e-04  2.40609085e-04 -1.12914392e-03 -2.63533349e-04\n",
      "   4.79653767e-04  9.49822216e-04  9.64043951e-04  3.03750453e-04\n",
      "   2.01047640e-05  2.08386871e-03 -8.98442112e-04  6.03671342e-04\n",
      "  -1.33105311e-04  2.04406312e-03 -2.93376630e-04 -5.83944393e-04\n",
      "  -1.20789619e-04  6.21266218e-04  6.31350504e-04 -4.51716787e-04\n",
      "   4.07762773e-04]\n",
      " [ 3.55468886e-04  6.37683377e-01  3.98951431e-03  4.77221978e-04\n",
      "   2.22871781e-03  7.96896405e-03  2.09055525e-03 -7.84854879e-04\n",
      "  -2.21001654e-04  2.30498212e-04  6.18619171e-05  2.36869061e-04\n",
      "  -3.07808504e-04  3.19870743e-04 -4.95354240e-04  2.01047640e-05\n",
      "   1.17238126e-04 -8.21085310e-04  1.31805771e-03  2.18446295e-04\n",
      "   4.69239755e-05  4.90777824e-04 -4.87134126e-04 -1.50397597e-03\n",
      "   7.28612644e-05  3.16777012e-04 -3.97070802e-04 -1.12573037e-04\n",
      "   1.36898866e-04]\n",
      " [-2.67750104e-02  8.86730407e+00  2.19120728e-01  1.04186343e-01\n",
      "  -3.43491580e-02 -3.39556618e-02  9.29745652e-02  1.28392738e-02\n",
      "   8.08961657e-03 -5.74290840e-04 -7.50186932e-03 -9.48870186e-03\n",
      "   9.49245235e-03  1.08189665e-02  1.34184876e-02  2.08386871e-03\n",
      "  -8.21085310e-04  3.61775334e-02 -1.57701536e-02  8.20682376e-03\n",
      "   6.88665172e-04  2.12575517e-02 -8.44265411e-04  4.89788912e-03\n",
      "  -3.61280985e-03 -1.49207022e-03  7.29399954e-03 -6.41885457e-04\n",
      "  -1.44444071e-04]\n",
      " [ 1.12850536e-02  7.43386309e+00  1.05847897e-01 -6.13228364e-03\n",
      "   5.19395486e-02  4.75100564e-02  4.25240520e-02 -2.11283694e-02\n",
      "  -4.66823854e-03  9.99999081e-04  8.34345124e-03  2.75811504e-04\n",
      "  -4.94376031e-03  2.42224122e-03 -9.84920112e-03 -8.98442112e-04\n",
      "   1.31805771e-03 -1.57701536e-02  2.43840463e-02  2.37829336e-03\n",
      "   2.16670785e-03  1.38090218e-03 -6.91972489e-03 -2.05124906e-02\n",
      "   3.96805285e-04 -1.99169672e-04 -7.70098022e-03  1.20566971e-03\n",
      "  -9.36236574e-04]\n",
      " [-1.09658486e-02  6.65469942e+00  2.22992078e-01  3.95205930e-02\n",
      "   8.37791913e-02  4.18441550e-02  4.76781701e-02  6.72586426e-03\n",
      "   1.72832303e-04  1.03564412e-03 -4.07810211e-03  2.21491295e-03\n",
      "   6.63637790e-04  7.70617177e-03  5.03314461e-03  6.03671342e-04\n",
      "   2.18446295e-04  8.20682376e-03  2.37829336e-03  1.09287935e-02\n",
      "   3.40683700e-03  1.82245533e-02 -3.68132054e-03 -7.04678471e-03\n",
      "  -1.39352652e-03  1.77497058e-03  2.20693319e-03  2.98829663e-04\n",
      "   2.39384618e-03]\n",
      " [-3.77929762e-03 -8.78514880e+00 -6.64020190e-02 -1.99725305e-02\n",
      "  -1.46261792e-02 -2.95974635e-03  1.33806768e-02 -2.16337766e-03\n",
      "  -1.95055655e-03  4.15741807e-04 -1.19168408e-03  2.28939025e-03\n",
      "   4.39516138e-04  2.03022595e-03  5.95288412e-04 -1.33105311e-04\n",
      "   4.69239755e-05  6.88665172e-04  2.16670785e-03  3.40683700e-03\n",
      "   5.08569120e-03  1.69633062e-04 -5.79041711e-04  1.88942935e-03\n",
      "  -1.25142574e-03  1.92535391e-04 -2.46372247e-05  2.28760011e-04\n",
      "   1.85782595e-04]\n",
      " [-1.13467282e-02  4.85256253e+01  8.05100944e-01  1.81418675e-01\n",
      "   3.19609189e-01  1.27901173e-01  9.86256709e-02  2.95369891e-02\n",
      "   3.47109760e-03  2.20952557e-03 -7.64327318e-03 -1.02829991e-03\n",
      "   3.01003799e-03  1.49987844e-02  1.03489312e-02  2.04406312e-03\n",
      "   4.90777824e-04  2.12575517e-02  1.38090218e-03  1.82245533e-02\n",
      "   1.69633062e-04  6.13962135e-02 -8.50642254e-03 -2.59566219e-02\n",
      "  -1.24147170e-04  4.24121752e-03  5.05781677e-03 -8.01346714e-04\n",
      "   4.65199925e-03]\n",
      " [-4.61606376e-03 -7.84478615e+00 -2.20208863e-01 -2.86677631e-02\n",
      "  -7.69442926e-02 -6.08488378e-02 -3.50002708e-02  5.14831854e-03\n",
      "   1.37798869e-03 -2.88753035e-03  1.38079123e-03 -4.31245035e-03\n",
      "   4.43465442e-03 -6.60492535e-03  2.84452918e-03 -2.93376630e-04\n",
      "  -4.87134126e-04 -8.44265411e-04 -6.91972489e-03 -3.68132054e-03\n",
      "  -5.79041711e-04 -8.50642254e-03  1.63134486e-02  2.77664499e-02\n",
      "   7.06645969e-03 -3.13972784e-03  2.91158846e-03 -1.58490992e-04\n",
      "  -2.18488540e-03]\n",
      " [-1.78857213e-02 -6.16217487e+01 -8.67028961e-01 -1.36606630e-01\n",
      "  -3.29301971e-01 -1.64783411e-01 -6.83344676e-02 -1.47176621e-03\n",
      "   2.99440433e-03 -3.90373861e-03 -5.66186688e-03 -2.19178368e-03\n",
      "   8.74981907e-03 -1.18573966e-02  8.02974609e-03 -5.83944393e-04\n",
      "  -1.50397597e-03  4.89788912e-03 -2.05124906e-02 -7.04678471e-03\n",
      "   1.88942935e-03 -2.59566219e-02  2.77664499e-02  8.42658695e-02\n",
      "   2.23006391e-03 -5.42518538e-03  6.07162131e-03 -5.77102559e-04\n",
      "  -3.83612074e-03]\n",
      " [ 2.30338633e-03  1.01483110e+01  5.93844296e-02  1.43951610e-02\n",
      "   3.37942959e-02  1.06761997e-02 -1.56762158e-02  5.10467789e-03\n",
      "  -2.19144848e-04 -8.30653010e-04  2.14277872e-03 -2.10523517e-03\n",
      "   1.00954267e-03 -2.48373108e-03 -4.08946446e-04 -1.20789619e-04\n",
      "   7.28612644e-05 -3.61280985e-03  3.96805285e-04 -1.39352652e-03\n",
      "  -1.25142574e-03 -1.24147170e-04  7.06645969e-03  2.23006391e-03\n",
      "   9.09577679e-03 -4.88231170e-04 -1.19046677e-05 -3.38021114e-05\n",
      "  -3.76479639e-04]\n",
      " [ 5.29477264e-02  6.84908165e-01  1.61483226e-01 -1.40490085e-02\n",
      "   1.53072466e-01  8.12850177e-02 -1.10627882e-02  9.91289861e-03\n",
      "  -4.16207830e-03  3.87866260e-03 -6.99938066e-03  1.23528526e-02\n",
      "  -5.06293403e-03  4.31769089e-03  7.42344714e-04  6.21266218e-04\n",
      "   3.16777012e-04 -1.49207022e-03 -1.99169672e-04  1.77497058e-03\n",
      "   1.92535391e-04  4.24121752e-03 -3.13972784e-03 -5.42518538e-03\n",
      "  -4.88231170e-04  1.05133708e-01  1.99792530e-02 -2.98214629e-02\n",
      "   5.24273535e-02]\n",
      " [ 1.34452544e-04  2.92093982e+00  1.17435762e-01  2.68351597e-02\n",
      "   1.02146326e-01  2.39672740e-02 -3.74729181e-03  1.60671825e-02\n",
      "   1.95327769e-03 -3.74792362e-04 -5.56269189e-03  2.16946418e-03\n",
      "   1.81654404e-03  1.05539965e-03  6.13049896e-03  6.31350504e-04\n",
      "  -3.97070802e-04  7.29399954e-03 -7.70098022e-03  2.20693319e-03\n",
      "  -2.46372247e-05  5.05781677e-03  2.91158846e-03  6.07162131e-03\n",
      "  -1.19046677e-05  1.99792530e-02  7.04620467e-02 -1.20328116e-02\n",
      "   2.46403453e-02]\n",
      " [-5.86494607e-02  6.34662705e-01  2.02018033e-02  6.52180113e-03\n",
      "  -2.15844813e-02 -1.70469018e-02  4.23805922e-03 -3.96158935e-03\n",
      "   6.63619779e-05 -2.97897880e-03  3.15909652e-03 -7.68130313e-04\n",
      "   5.30273429e-04 -8.27901493e-05 -5.25502021e-04 -4.51716787e-04\n",
      "  -1.12573037e-04 -6.41885457e-04  1.20566971e-03  2.98829663e-04\n",
      "   2.28760011e-04 -8.01346714e-04 -1.58490992e-04 -5.77102559e-04\n",
      "  -3.38021114e-05 -2.98214629e-02 -1.20328116e-02  3.56410689e-02\n",
      "  -1.71000855e-02]\n",
      " [ 1.93982451e-02  1.43271448e+00  1.44948296e-01 -5.85308266e-03\n",
      "   1.19037516e-01  5.13408842e-02 -7.06089297e-03  1.01664670e-02\n",
      "  -1.66759380e-03  1.71216475e-03 -5.21806427e-03  8.15740192e-03\n",
      "  -2.97997198e-03  2.40456490e-03  1.57703800e-03  4.07762773e-04\n",
      "   1.36898866e-04 -1.44444071e-04 -9.36236574e-04  2.39384618e-03\n",
      "   1.85782595e-04  4.65199925e-03 -2.18488540e-03 -3.83612074e-03\n",
      "  -3.76479639e-04  5.24273535e-02  2.46403453e-02 -1.71000855e-02\n",
      "   5.12077722e-02]]\n"
     ]
    }
   ],
   "source": [
    "data = df.to_numpy()\n",
    "cov = np.cov(data, rowvar=False, bias=True)\n",
    "print(cov)"
   ]
  },
  {
   "cell_type": "markdown",
   "id": "6edb02ee",
   "metadata": {},
   "source": [
    "Power Iteration Algorithm Implementation"
   ]
  },
  {
   "cell_type": "code",
   "execution_count": 8,
   "id": "00f41aaf",
   "metadata": {},
   "outputs": [
    {
     "name": "stdout",
     "output_type": "stream",
     "text": [
      "eigenvectors: \n",
      " [[ 8.14100194e-05 -1.34374789e-02]\n",
      " [ 9.99926215e-01 -1.18687329e-02]\n",
      " [ 1.01811464e-02  9.32586500e-01]\n",
      " [ 2.49388297e-03  1.23326142e-01]\n",
      " [ 6.04491654e-03  3.37156262e-01]\n",
      " [ 9.04271447e-04  2.02118171e-02]\n",
      " [ 3.00785998e-04  1.17240958e-02]\n",
      " [ 2.95308578e-04  2.10723170e-02]\n",
      " [ 1.46195969e-05 -1.84962066e-03]\n",
      " [-4.53741188e-06 -7.32442619e-04]\n",
      " [ 5.22428019e-05 -2.31816542e-03]\n",
      " [-8.77574570e-05  6.96469763e-03]\n",
      " [ 2.53161365e-05 -2.06545154e-03]\n",
      " [ 3.16816880e-05  1.77574884e-03]\n",
      " [ 4.51765886e-06  7.68326653e-04]\n",
      " [ 4.95594477e-06 -3.02948374e-05]\n",
      " [ 2.87291719e-06 -2.51715424e-05]\n",
      " [ 3.99556713e-05  8.91053894e-04]\n",
      " [ 3.34944687e-05  2.47100323e-04]\n",
      " [ 2.99912637e-05  1.43984080e-03]\n",
      " [-3.95789431e-05  3.08134650e-04]\n",
      " [ 2.18646340e-04  2.72152678e-03]\n",
      " [-3.53519865e-05 -1.25921778e-03]\n",
      " [-2.77644379e-04 -1.83850139e-03]\n",
      " [ 4.57198703e-05 -4.55304912e-04]\n",
      " [ 3.09714383e-06  1.70199048e-03]\n",
      " [ 1.31668126e-05  9.97323274e-04]\n",
      " [ 2.85934541e-06  4.51987801e-05]\n",
      " [ 6.46413486e-06  1.39464130e-03]]\n"
     ]
    }
   ],
   "source": [
    "# ----- first iteration ----- #\n",
    "x1 = np.matmul(cov, x0)\n",
    "# orthogonalize b in xi\n",
    "a = copy.deepcopy(x1[:, 0])\n",
    "b = copy.deepcopy(x1[:, 1])\n",
    "\n",
    "bparallel = ( np.dot(a.T, b) / np.dot(a.T, a) ) * a\n",
    "\n",
    "x1[:, 1] = b - bparallel\n",
    "\n",
    "\n",
    "# normalize to unit length\n",
    "normal = np.linalg.norm(x1, axis=0)\n",
    "x1 = x1 / normal\n",
    "\n",
    "\n",
    "# get difference magnitude\n",
    "epsilon = np.linalg.norm(x0 - x1)\n",
    "\n",
    "limit = 1e-6\n",
    "x_last = x1\n",
    "xi = np.array([])\n",
    "\n",
    "# ----- loop ----- #\n",
    "while epsilon > limit:\n",
    "    # xi = sigma * xi-1\n",
    "    xi = np.matmul(cov, x_last)\n",
    "    \n",
    "    a = copy.deepcopy(xi[:, 0])\n",
    "    b = copy.deepcopy(xi[:, 1])\n",
    "    # orthogonalize b\n",
    "    bparallel = ( np.dot(a.T, b) / np.dot(a.T, a) ) * a\n",
    "    xi[:, 1] = b - bparallel\n",
    "    \n",
    "    # normalize columns to unit length\n",
    "    normal = np.linalg.norm(xi, axis=0)\n",
    "    xi = xi / normal\n",
    "    # calculate epsilon\n",
    "    epsilon = np.linalg.norm(xi - x_last)\n",
    "    # set the calculated xi to be x_last before the next iteration\n",
    "    x_last = xi\n",
    "    \n",
    "\n",
    "print(\"eigenvectors: \\n\", xi)"
   ]
  },
  {
   "cell_type": "markdown",
   "id": "4771faca",
   "metadata": {},
   "source": [
    "**Project original data points into new 2D space**\n",
    "\n",
    "First Center original data "
   ]
  },
  {
   "cell_type": "code",
   "execution_count": 9,
   "id": "93d435f6",
   "metadata": {},
   "outputs": [
    {
     "name": "stdout",
     "output_type": "stream",
     "text": [
      "Mean:\n",
      "[ 1.03987489e+01  5.46514731e+02  1.08836898e+01  3.29363838e+00\n",
      "  4.54414287e+00  1.24987388e+00  4.54823932e+00  7.22376652e+00\n",
      "  1.84599048e-01  1.41255773e-01  2.16320967e-01  2.23769617e-01\n",
      "  2.34029371e-01  4.43370200e-01  1.19309269e-01  3.96248330e-02\n",
      "  1.66121195e-02  6.82150221e-01  2.87933524e-01  3.53824943e-01\n",
      "  9.54455381e-02  7.56727544e-01 -2.59524141e-01 -5.21943728e-01\n",
      " -1.07500240e-01  2.82353184e-01  7.14254320e-02  3.41842756e-01\n",
      "  1.56063663e-01]\n"
     ]
    }
   ],
   "source": [
    "# first get the mean vector\n",
    "mean = np.mean(data, axis=0)\n",
    "print(\"Mean:\")\n",
    "print(mean)"
   ]
  },
  {
   "cell_type": "code",
   "execution_count": 10,
   "id": "9c18b5cb",
   "metadata": {},
   "outputs": [
    {
     "name": "stdout",
     "output_type": "stream",
     "text": [
      "The Mean Vector should contain numbers approx to 0\n",
      "New Mean:\n",
      "\n",
      "[ 9.17661893e-16  5.67115050e-14  1.12413582e-15 -2.06473926e-16\n",
      " -5.96480230e-16 -1.72061605e-17  1.20443123e-16  1.20443123e-16\n",
      "  1.43384671e-18 -5.91461767e-18 -1.43384671e-18 -4.33738629e-17\n",
      "  2.36584707e-17  2.00738539e-17  1.43384671e-18 -6.27307934e-18\n",
      " -2.57644330e-18  3.87138611e-17  1.41144285e-17  1.36215437e-17\n",
      "  1.43384671e-18 -4.15815545e-17  6.09384851e-18 -1.52346213e-18\n",
      "  1.14707737e-17 -3.22615509e-18  1.50553904e-17 -6.40750247e-18\n",
      "  1.46969287e-17]\n"
     ]
    }
   ],
   "source": [
    "# subtract mean from data points\n",
    "center_data = data - mean\n",
    "\n",
    "print(\"The Mean Vector should contain numbers approx to 0\\nNew Mean:\\n\")\n",
    "print(np.mean(center_data, axis=0))"
   ]
  },
  {
   "cell_type": "markdown",
   "id": "e4695ca1",
   "metadata": {},
   "source": [
    "The get the points into the new 2D space, take the centered data matrix and do the inner product with the basis matrix. The basis matrix will be the matrix of the two eigenvectors, since the eigenvectors will serve at the new axes. "
   ]
  },
  {
   "cell_type": "code",
   "execution_count": 11,
   "id": "7616a5e3",
   "metadata": {},
   "outputs": [],
   "source": [
    "new_data = np.dot(center_data, xi)\n"
   ]
  },
  {
   "cell_type": "markdown",
   "id": "85bab0ca",
   "metadata": {},
   "source": [
    "Plotting the new data points"
   ]
  },
  {
   "cell_type": "code",
   "execution_count": 12,
   "id": "42cc2202",
   "metadata": {},
   "outputs": [],
   "source": [
    "import matplotlib.pyplot as plt"
   ]
  },
  {
   "cell_type": "code",
   "execution_count": 13,
   "id": "46ac2158",
   "metadata": {},
   "outputs": [
    {
     "data": {
      "image/png": "[encoded data removed]",
      "text/plain": [
       "<Figure size 432x288 with 1 Axes>"
      ]
     },
     "metadata": {
      "needs_background": "light"
     },
     "output_type": "display_data"
    }
   ],
   "source": [
    "x = new_data[:, 0]\n",
    "y = new_data[:, 1]\n",
    "\n",
    "plt.scatter(x, y, c =\"blue\")\n",
    " \n",
    "# To show the plot\n",
    "plt.show()"
   ]
  },
  {
   "cell_type": "markdown",
   "id": "1d36b391",
   "metadata": {},
   "source": [
    "**Finding the amount of variance captured**\n",
    "\n",
    "The variance captured is the sum of eigenvectors up to r dimensions. In this case, it is the sum of the first two eigenvectors"
   ]
  },
  {
   "cell_type": "code",
   "execution_count": 32,
   "id": "f125e35d",
   "metadata": {},
   "outputs": [
    {
     "name": "stdout",
     "output_type": "stream",
     "text": [
      "Captured Variance by the first two Principal Components: 222083.27836061138\n"
     ]
    }
   ],
   "source": [
    "# get the eigenvalues from the computed eigenvectors\n",
    "\n",
    "#first eigenvalue\n",
    "# Au = lambda u  \n",
    "prod = np.matmul(cov, xi[:, 0])\n",
    "eig1 = prod[0] / xi[:, 0][0]\n",
    "\n",
    "# second eigenvalue\n",
    "prod = np.matmul(cov, xi[:, 1])\n",
    "eig2 = prod[0] / xi[:, 1][0]\n",
    "\n",
    "captured_var = eig1 + eig2\n",
    "print(\"Captured Variance by the first two Principal Components:\", captured_var)\n"
   ]
  },
  {
   "cell_type": "markdown",
   "id": "642303fc",
   "metadata": {},
   "source": [
    "The error is the total variance minus the captured variance. The total variance is the sum of all *d* eigenvalues.  "
   ]
  },
  {
   "cell_type": "code",
   "execution_count": 35,
   "id": "8c63e7ee",
   "metadata": {},
   "outputs": [
    {
     "name": "stdout",
     "output_type": "stream",
     "text": [
      "Approximation Error: 58287778.54592088\n",
      "The Percentage of Variance Captured by the first 2 PC's: 0.37956554918481655 %\n"
     ]
    }
   ],
   "source": [
    "error = cov.var() - captured_var\n",
    "fraction = captured_var / cov.var() * 100 \n",
    "print(\"Approximation Error:\", error)\n",
    "print(\"The Percentage of Variance Captured by the first 2 PC's:\", fraction, \"%\")"
   ]
  },
  {
   "cell_type": "markdown",
   "id": "13a4a67d",
   "metadata": {},
   "source": [
    "# Part II: Points in High Dimensional Space"
   ]
  },
  {
   "cell_type": "markdown",
   "id": "83a2ddb5",
   "metadata": {},
   "source": [
    "Reset Random Seed"
   ]
  },
  {
   "cell_type": "code",
   "execution_count": 16,
   "id": "d3960818",
   "metadata": {},
   "outputs": [],
   "source": [
    "np.random.seed(42)"
   ]
  },
  {
   "cell_type": "markdown",
   "id": "7e02efe5",
   "metadata": {},
   "source": [
    "A function to generate 10^6 points in *d* dimensions, given *d* as a parameter"
   ]
  },
  {
   "cell_type": "code",
   "execution_count": 17,
   "id": "9eb092fd",
   "metadata": {},
   "outputs": [],
   "source": [
    "def generate_points(d):\n",
    "    matrix = []\n",
    "    for i in range(1000000):\n",
    "        row = []\n",
    "        for j in range(d):\n",
    "            # generate a random number from -1 to 1\n",
    "            val = 2 * np.random.random() - 1\n",
    "            row.append(val)\n",
    "        \n",
    "        datapoint = np.array(row)\n",
    "        matrix.append(datapoint)\n",
    "    \n",
    "    return np.array(matrix)\n"
   ]
  },
  {
   "cell_type": "code",
   "execution_count": 39,
   "id": "68bad200",
   "metadata": {},
   "outputs": [],
   "source": [
    "collection = []\n",
    "for i in range(2, 21):\n",
    "    collection.append(generate_points(i))"
   ]
  },
  {
   "cell_type": "markdown",
   "id": "a6c618a9",
   "metadata": {},
   "source": [
    "Finding the number of points in the largest inscribed hypersphere in the hypercube."
   ]
  },
  {
   "cell_type": "code",
   "execution_count": 46,
   "id": "895c5178",
   "metadata": {},
   "outputs": [],
   "source": [
    "fraction = []\n",
    "dimension = [2, 3, 4, 5, 6, 7, 8, 9, 10, 11, 12, 13, 14, 15, 16, 17, 18, 19, 20]\n",
    "\n",
    "# iterate through all dimensions\n",
    "for i in range(0, 19):\n",
    "    \n",
    "    # make the radius vector of dimension d\n",
    "    radius_vector = []\n",
    "    for k in range(i+2):\n",
    "        radius_vector.append(0)\n",
    "    radius_vector[0] = 1\n",
    "    # get the norm of the radius vector\n",
    "    radius_norm = np.linalg.norm(radius_vector)\n",
    "    \n",
    "    # for each dimension, iterate through all the points\n",
    "    count = 0\n",
    "    data = collection[i]\n",
    "    for j in range(len(collection[i])):\n",
    "        # get the norm of the data point\n",
    "        data_norm = np.linalg.norm(data[j])\n",
    "        # if the norm of the radius is larger\n",
    "        # the datapoint is in the hypersphere\n",
    "        if radius_norm >= data_norm:\n",
    "            count += 1\n",
    "    \n",
    "    f = count / 1000000\n",
    "    fraction.append(f)\n",
    "    "
   ]
  },
  {
   "cell_type": "markdown",
   "id": "e4f63e2e",
   "metadata": {},
   "source": [
    "Plot fraction of points in hypersphere as a function of dimension"
   ]
  },
  {
   "cell_type": "code",
   "execution_count": 48,
   "id": "2e69c612",
   "metadata": {},
   "outputs": [
    {
     "data": {
      "image/png": "[encoded data removed]",
      "text/plain": [
       "<Figure size 432x288 with 1 Axes>"
      ]
     },
     "metadata": {
      "needs_background": "light"
     },
     "output_type": "display_data"
    }
   ],
   "source": [
    "x = dimension\n",
    "y = fraction\n",
    "\n",
    "plt.scatter(x, y, c =\"blue\")\n",
    " \n",
    "# To show the plot\n",
    "plt.show()"
   ]
  },
  {
   "cell_type": "code",
   "execution_count": null,
   "id": "d7c7102f",
   "metadata": {},
   "outputs": [],
   "source": []
  }
 ],
 "metadata": {
  "kernelspec": {
   "display_name": "Python 3 (ipykernel)",
   "language": "python",
   "name": "python3"
  },
  "language_info": {
   "codemirror_mode": {
    "name": "ipython",
    "version": 3
   },
   "file_extension": ".py",
   "mimetype": "text/x-python",
   "name": "python",
   "nbconvert_exporter": "python",
   "pygments_lexer": "ipython3",
   "version": "3.9.12"
  }
 },
 "nbformat": 4,
 "nbformat_minor": 5
}
